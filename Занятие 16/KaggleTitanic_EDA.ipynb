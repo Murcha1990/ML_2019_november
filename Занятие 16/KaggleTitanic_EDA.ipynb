{
 "cells": [
  {
   "cell_type": "markdown",
   "metadata": {},
   "source": [
    "# Kaggle Titanic\n",
    "\n",
    "Будем решать задачу предсказания того, выжил пассажир Титаника или нет, по некоторым данным о пассажире."
   ]
  },
  {
   "cell_type": "code",
   "execution_count": null,
   "metadata": {},
   "outputs": [],
   "source": [
    "import pandas as pd\n",
    "import numpy as np\n",
    "from matplotlib import pyplot as plt\n",
    "from sklearn.model_selection import train_test_split\n",
    "%pylab inline"
   ]
  },
  {
   "cell_type": "markdown",
   "metadata": {},
   "source": [
    "Загрузим данные и объединим train и test в один dataframe - так будет удобнее обрабатывать признаки."
   ]
  },
  {
   "cell_type": "code",
   "execution_count": null,
   "metadata": {},
   "outputs": [],
   "source": [
    "Train = pd.read_csv(\"train.csv\")\n",
    "Test = pd.read_csv(\"test.csv\")\n",
    "Test['Survived'] = -1\n",
    "\n",
    "Data = pd.concat([Train,Test])"
   ]
  },
  {
   "cell_type": "code",
   "execution_count": null,
   "metadata": {},
   "outputs": [],
   "source": [
    "len(Train), len(Test), len(Data)"
   ]
  },
  {
   "cell_type": "markdown",
   "metadata": {},
   "source": [
    "# Обработка признаков\n",
    "\n",
    "1) Найдем признаки, у которых есть пропущенные значения и обработаем эти пропущенные значения\n",
    "\n",
    "2) Переведём категориальные признаки в числовые"
   ]
  },
  {
   "cell_type": "markdown",
   "metadata": {},
   "source": [
    "Обработаем признак 'Sex'"
   ]
  },
  {
   "cell_type": "code",
   "execution_count": null,
   "metadata": {},
   "outputs": [],
   "source": [
    "print(Data['Sex'].value_counts(dropna=False))"
   ]
  },
  {
   "cell_type": "code",
   "execution_count": null,
   "metadata": {},
   "outputs": [],
   "source": [
    "Data['sex'] = Data.apply(lambda row: 1 if row.Sex == 'male' else 0, axis=1)"
   ]
  },
  {
   "cell_type": "markdown",
   "metadata": {},
   "source": [
    "Посмотрим, как влияет пол человека и класс билета (Pclass) на выживаемость"
   ]
  },
  {
   "cell_type": "code",
   "execution_count": null,
   "metadata": {},
   "outputs": [],
   "source": [
    "import seaborn as sns\n",
    "\n",
    "grid = sns.FacetGrid(Data[Data.Survived!=-1], col = \"Pclass\", row = \"Sex\", hue = \"Survived\", \\\n",
    "                     palette = 'seismic')\n",
    "grid = grid.map(plt.scatter, \"PassengerId\", \"Age\")\n",
    "grid.add_legend()\n",
    "grid"
   ]
  },
  {
   "cell_type": "markdown",
   "metadata": {},
   "source": [
    "Обработаем признак 'Embarked'"
   ]
  },
  {
   "cell_type": "code",
   "execution_count": null,
   "metadata": {},
   "outputs": [],
   "source": [
    "Data['Embarked'].value_counts(dropna=False)"
   ]
  },
  {
   "cell_type": "code",
   "execution_count": null,
   "metadata": {},
   "outputs": [],
   "source": [
    "Data['EmbS'] = Data.apply(lambda row: 1 if row.Embarked == 'S' else 0, axis=1)\n",
    "Data['EmbC'] = Data.apply(lambda row: 1 if row.Embarked == 'C' else 0, axis=1)\n",
    "Data['EmbQ'] = Data.apply(lambda row: 1 if row.Embarked == 'Q' else 0, axis=1)"
   ]
  },
  {
   "cell_type": "markdown",
   "metadata": {},
   "source": [
    "Обработаем признак 'Age'\n",
    "\n",
    "1) Проверьте, если ли в Age пропущенные значения\n",
    "\n",
    "2) Если пропущенные значения есть, заполните их медианным значением Age"
   ]
  },
  {
   "cell_type": "code",
   "execution_count": null,
   "metadata": {
    "scrolled": true
   },
   "outputs": [],
   "source": [
    "#есть ли Nanы в Age?\n",
    "#Your code here"
   ]
  },
  {
   "cell_type": "code",
   "execution_count": null,
   "metadata": {},
   "outputs": [],
   "source": [
    "Data.head()"
   ]
  },
  {
   "cell_type": "code",
   "execution_count": null,
   "metadata": {},
   "outputs": [],
   "source": [
    "#Заполните пропущенные значения Age медианным значением\n",
    "#Your code here"
   ]
  },
  {
   "cell_type": "markdown",
   "metadata": {},
   "source": [
    "Различные способы визуализации данных упрощают понимание признаков и зависимостей между ними.\n",
    "\n",
    "Посмотрим на распределение Pclass по возрастам."
   ]
  },
  {
   "cell_type": "code",
   "execution_count": null,
   "metadata": {},
   "outputs": [],
   "source": [
    "import seaborn as sns\n",
    "\n",
    "Data[Data.Survived!=-1][['Pclass', 'Survived']].groupby(['Pclass'], as_index=False).mean()\n",
    "# plot age distribution by title\n",
    "facet = sns.FacetGrid(data = Data[Data.Survived!=-1], hue = \"Pclass\", legend_out=True, size = 5)\n",
    "facet = facet.map(sns.kdeplot, \"Age\")\n",
    "facet.add_legend();"
   ]
  },
  {
   "cell_type": "markdown",
   "metadata": {},
   "source": [
    "Обработаем признак 'Fare'\n",
    "\n",
    "1) Проверьте, если ли в Fare пропущенные значения\n",
    "\n",
    "2) Если пропущенные значения есть, заполните их медианным значением Fare"
   ]
  },
  {
   "cell_type": "code",
   "execution_count": null,
   "metadata": {
    "scrolled": true
   },
   "outputs": [],
   "source": [
    "#Your code here"
   ]
  },
  {
   "cell_type": "markdown",
   "metadata": {},
   "source": [
    "Обработаем признак 'Pclass'\n",
    "\n",
    "Есть ли в Pclass пропущенные значения? Если есть, обработайте их."
   ]
  },
  {
   "cell_type": "code",
   "execution_count": null,
   "metadata": {},
   "outputs": [],
   "source": [
    "#Your code here"
   ]
  },
  {
   "cell_type": "markdown",
   "metadata": {},
   "source": [
    "Обработаем признак 'SibSp' (число братьев или сестер, мужей, жен)\n",
    "\n",
    "Есть ли в SibSp пропущенные значения? Если есть, обработайте их."
   ]
  },
  {
   "cell_type": "code",
   "execution_count": null,
   "metadata": {},
   "outputs": [],
   "source": [
    "#Your code here"
   ]
  },
  {
   "cell_type": "markdown",
   "metadata": {},
   "source": [
    "Обработаем признак 'Parch' (число родителей/детей)\n",
    "\n",
    "Есть ли в Parch пропущенные значения? Если есть, обработайте их."
   ]
  },
  {
   "cell_type": "code",
   "execution_count": null,
   "metadata": {},
   "outputs": [],
   "source": [
    "#Your code here"
   ]
  },
  {
   "cell_type": "markdown",
   "metadata": {},
   "source": [
    "# Разбиение Data на Train и Test и получение первого предсказания"
   ]
  },
  {
   "cell_type": "markdown",
   "metadata": {},
   "source": [
    "1) оставьте в таблице Data только числовые признаки и назовите новую таблицу с признаками All\n",
    "\n",
    "2) разбейте таблицу All на Xtrain, ytrain и Xtest."
   ]
  },
  {
   "cell_type": "code",
   "execution_count": null,
   "metadata": {},
   "outputs": [],
   "source": [
    "#your code here"
   ]
  },
  {
   "cell_type": "markdown",
   "metadata": {},
   "source": [
    "Обучим RandomForest на очищенных данных и посмотрим на качество на кросс-валидации"
   ]
  },
  {
   "cell_type": "code",
   "execution_count": null,
   "metadata": {},
   "outputs": [],
   "source": [
    "from sklearn.model_selection import KFold, cross_val_score\n",
    "from sklearn.ensemble import RandomForestClassifier\n",
    "\n",
    "rf = RandomForestClassifier(random_state=123, n_estimators=100, n_jobs=-1)\n",
    "cross_val_score(rf, Xtrain, ytrain, cv=10, scoring='accuracy').mean()"
   ]
  },
  {
   "cell_type": "markdown",
   "metadata": {},
   "source": [
    "Предскажем ответы на тесте и сделаем первый submit на Kaggle\n",
    "\n",
    "1) сделаем предсказания и сохраним их в файл titanic_prediction_0.csv\n",
    "\n",
    "2) загрузим этот файл на kaggle и посмотрим на результат"
   ]
  },
  {
   "cell_type": "code",
   "execution_count": null,
   "metadata": {},
   "outputs": [],
   "source": [
    "rf.fit(Xtrain, ytrain)\n",
    "\n",
    "pred_rf = rf.predict(Xtest)\n",
    "\n",
    "Test['Survived']=pred_rf\n",
    "\n",
    "Test[['PassengerId','Survived']].to_csv('titanic_prediction_26may_1.csv',index=False)"
   ]
  },
  {
   "cell_type": "markdown",
   "metadata": {},
   "source": [
    "# Настройка параметров модели"
   ]
  },
  {
   "cell_type": "code",
   "execution_count": null,
   "metadata": {},
   "outputs": [],
   "source": [
    "from sklearn.model_selection import GridSearchCV\n",
    "\n",
    "gs = GridSearchCV(RandomForestClassifier(random_state=123, n_jobs=-1),\n",
    "                  param_grid={'n_estimators': np.arange(100,1100,100)},\n",
    "                  cv=cv,\n",
    "                  scoring='accuracy')\n",
    "gs.fit(Xtrain, ytrain)\n",
    "gs.best_score_, gs.best_estimator_, gs.best_params_"
   ]
  },
  {
   "cell_type": "code",
   "execution_count": null,
   "metadata": {},
   "outputs": [],
   "source": [
    "gs = GridSearchCV(RandomForestClassifier(random_state=123, n_jobs=-1),\n",
    "                  param_grid={'n_estimators': [800,900,1000],\n",
    "                              'max_depth': [1,3,5,7,9,11]},\n",
    "                  cv=cv,\n",
    "                  scoring='accuracy')\n",
    "gs.fit(Xtrain, ytrain)\n",
    "gs.best_score_, gs.best_estimator_, gs.best_params_"
   ]
  },
  {
   "cell_type": "code",
   "execution_count": null,
   "metadata": {},
   "outputs": [],
   "source": [
    "gs = GridSearchCV(RandomForestClassifier(n_estimators=900, max_depth=9, random_state=123, n_jobs=-1),\n",
    "                  param_grid={'min_samples_split':[2,4,6],\n",
    "                              'min_samples_leaf':[1,2,4,6]},\n",
    "                  cv=cv,\n",
    "                  scoring='accuracy')\n",
    "gs.fit(Xtrain, ytrain)\n",
    "gs.best_score_, gs.best_estimator_, gs.best_params_"
   ]
  },
  {
   "cell_type": "markdown",
   "metadata": {},
   "source": [
    "Подберите с помощью GridSearchCV информационный критерий ('criterion': ['gini','entropy']). Используйте в RandomForestClassifier значения всех найденных параметров. "
   ]
  },
  {
   "cell_type": "code",
   "execution_count": null,
   "metadata": {},
   "outputs": [],
   "source": [
    "#Your code here"
   ]
  },
  {
   "cell_type": "markdown",
   "metadata": {},
   "source": [
    "Посмотрим на важность признаков по мнению RandomForestClassifier"
   ]
  },
  {
   "cell_type": "code",
   "execution_count": null,
   "metadata": {},
   "outputs": [],
   "source": [
    "rf = RandomForestClassifier(n_estimators=900, max_depth=9, min_samples_split=2, \\\n",
    "                            min_samples_leaf=2, criterion='gini',\n",
    "                            random_state=123, n_jobs=-1)\n",
    "rf.fit(Xtrain, ytrain)\n",
    "\n",
    "features = Xtrain.columns\n",
    "importances = rf.feature_importances_\n",
    "indices = np.argsort(importances)\n",
    "\n",
    "plt.title('Feature Importances')\n",
    "plt.barh(range(len(indices)), importances[indices], color='b', align='center')\n",
    "plt.yticks(range(len(indices)), features[indices])\n",
    "plt.xlabel('Relative Importance')\n",
    "plt.show()"
   ]
  },
  {
   "cell_type": "markdown",
   "metadata": {},
   "source": [
    "Сделаем второе предсказание с учётом настроенных параметров модели\n",
    "\n",
    "1) обучите RandomForest с найденными параметрами и сделайте предсказание\n",
    "\n",
    "2) отправьте его на Kaggle"
   ]
  },
  {
   "cell_type": "code",
   "execution_count": null,
   "metadata": {},
   "outputs": [],
   "source": [
    "#Your code here"
   ]
  },
  {
   "cell_type": "markdown",
   "metadata": {},
   "source": [
    "# Работа с признаками"
   ]
  },
  {
   "cell_type": "markdown",
   "metadata": {},
   "source": [
    "Нарисуем матрицу корреляций признаков между собой и с целевой переменной"
   ]
  },
  {
   "cell_type": "code",
   "execution_count": null,
   "metadata": {},
   "outputs": [],
   "source": [
    "import seaborn as sns\n",
    "\n",
    "colormap = plt.cm.RdBu\n",
    "plt.figure(figsize=(14,12))\n",
    "plt.title('Pearson Correlation of Features', y=1.05, size=18)\n",
    "sns.heatmap(All[All.Survived!=-1].astype(float).corr(),linewidths=0.1,vmax=1.0, #correlation matrix\n",
    "            square=True, cmap=colormap, linecolor='white', annot=True)"
   ]
  },
  {
   "cell_type": "code",
   "execution_count": null,
   "metadata": {},
   "outputs": [],
   "source": [
    "g = sns.pairplot(Data[Data.Survived!=-1][[u'Survived', u'Pclass', u'Sex', u'Age', u'Parch', u'Fare', u'Embarked']], \\\n",
    "                 hue='Survived', palette = 'seismic',size=4,diag_kind = 'kde',diag_kws=dict(shade=True),plot_kws=dict(s=50) )\n",
    "g.set(xticklabels=[])"
   ]
  },
  {
   "cell_type": "markdown",
   "metadata": {},
   "source": [
    "Бинаризуем признаки Age и Fare\n",
    "\n",
    "* pd.cut - разбиение целочисленных данных на несколько интервалов по квантилям\n",
    "* pd.qcut - разбиение числовых (не обязательно целочисленных) данных на несколько интервалов по квантилям"
   ]
  },
  {
   "cell_type": "code",
   "execution_count": null,
   "metadata": {
    "scrolled": true
   },
   "outputs": [],
   "source": [
    "Data['AgeBin'] = pd.cut(Data['Age'].astype(int), 5)\n",
    "\n",
    "from sklearn.preprocessing import LabelEncoder\n",
    "label = LabelEncoder()\n",
    "Data['AgeBin_Code'] = label.fit_transform(Data['AgeBin'])\n",
    "\n",
    "print(Data[['Age','AgeBin','AgeBin_Code']])"
   ]
  },
  {
   "cell_type": "markdown",
   "metadata": {},
   "source": [
    "Бинаризуйте Fare, используя разбиение на 4 интервала"
   ]
  },
  {
   "cell_type": "code",
   "execution_count": null,
   "metadata": {},
   "outputs": [],
   "source": [
    "#Your code here"
   ]
  },
  {
   "cell_type": "markdown",
   "metadata": {},
   "source": [
    "Сконструируем новые признаки\n",
    "\n",
    "1) Какую информацию можно извлечь из поля Name?\n",
    "\n",
    "2) Какую информацию можно извлечь из поля Cabin?\n",
    "\n",
    "3) Из матрицы корреляций мы видим, что признаки SibSp и Parch практически не коррелируют с таргетом. Какую информацию можно из них извлечь, исходя из смысла задачи?"
   ]
  },
  {
   "cell_type": "code",
   "execution_count": null,
   "metadata": {},
   "outputs": [],
   "source": [
    "#Your code here"
   ]
  },
  {
   "cell_type": "markdown",
   "metadata": {},
   "source": [
    "1) добавьте сконструированные признаки в таблицу All\n",
    "\n",
    "2) нарисуйте новую матрицу корреляций"
   ]
  },
  {
   "cell_type": "code",
   "execution_count": null,
   "metadata": {},
   "outputs": [],
   "source": [
    "#your code here"
   ]
  },
  {
   "cell_type": "markdown",
   "metadata": {},
   "source": [
    "# Обучение и настройка параметров RandomForest для таблицы с добавленными признаками\n",
    "\n",
    "1) Теперь в таблице All появились новые признаки. Заново разбейте её на Xtrain, ytrain и Xtest.\n",
    "\n",
    "2) Найдите оптимальные параметры RandomForest для новых данных.\n",
    "\n",
    "3) Сделайте предсказание, сохраните его в файл и отправьте на Kaggle."
   ]
  },
  {
   "cell_type": "code",
   "execution_count": null,
   "metadata": {},
   "outputs": [],
   "source": [
    "#Your code here"
   ]
  },
  {
   "cell_type": "markdown",
   "metadata": {},
   "source": [
    "# Другие алгоритмы ML"
   ]
  },
  {
   "cell_type": "markdown",
   "metadata": {},
   "source": [
    "# Градиентный бустинг"
   ]
  },
  {
   "cell_type": "code",
   "execution_count": null,
   "metadata": {},
   "outputs": [],
   "source": [
    "from sklearn.ensemble import GradientBoostingClassifier\n",
    "\n",
    "clf = GradientBoostingClassifier(random_state=123)\n",
    "cross_val_score(clf, Xtrain, ytrain, cv=cv, scoring='accuracy').mean()"
   ]
  },
  {
   "cell_type": "markdown",
   "metadata": {},
   "source": [
    "Подберите оптимальные параметры для градиентного бустинга"
   ]
  },
  {
   "cell_type": "code",
   "execution_count": null,
   "metadata": {},
   "outputs": [],
   "source": [
    "#Your code here"
   ]
  },
  {
   "cell_type": "code",
   "execution_count": null,
   "metadata": {},
   "outputs": [],
   "source": [
    "gb = GradientBoostingClassifier(learning_rate=..., n_estimators=..., max_depth=..., min_samples_split=..., min_samples_leaf=...,\\\n",
    "                                             random_state=123)\n",
    "gb.fit(Xtrain, ytrain)\n",
    "\n",
    "features = Xtrain.columns\n",
    "importances = gb.feature_importances_\n",
    "indices = np.argsort(importances)\n",
    "\n",
    "plt.title('Feature Importances')\n",
    "plt.barh(range(len(indices)), importances[indices], color='b', align='center')\n",
    "plt.yticks(range(len(indices)), features[indices])\n",
    "plt.xlabel('Relative Importance')\n",
    "plt.show()"
   ]
  },
  {
   "cell_type": "markdown",
   "metadata": {},
   "source": [
    "# AdaBoost"
   ]
  },
  {
   "cell_type": "code",
   "execution_count": null,
   "metadata": {},
   "outputs": [],
   "source": [
    "from sklearn.ensemble import AdaBoostClassifier\n",
    "\n",
    "clf = AdaBoostClassifier(random_state=123)\n",
    "cross_val_score(clf, Xtrain, ytrain, cv=cv, scoring='accuracy').mean()"
   ]
  },
  {
   "cell_type": "markdown",
   "metadata": {},
   "source": [
    "Подберите n_estimaors и learning_rate для AdaBoost"
   ]
  },
  {
   "cell_type": "code",
   "execution_count": null,
   "metadata": {},
   "outputs": [],
   "source": [
    "#Your code here"
   ]
  },
  {
   "cell_type": "code",
   "execution_count": null,
   "metadata": {},
   "outputs": [],
   "source": [
    "ada = AdaBoostClassifier(learning_rate=..., n_estimators=..., random_state=123)\n",
    "print cross_val_score(ada, Xtrain, ytrain, cv=cv, scoring='accuracy').mean()\n",
    "\n",
    "ada.fit(Xtrain, ytrain)"
   ]
  },
  {
   "cell_type": "markdown",
   "metadata": {},
   "source": [
    "# Extra Trees"
   ]
  },
  {
   "cell_type": "code",
   "execution_count": null,
   "metadata": {},
   "outputs": [],
   "source": [
    "from sklearn.ensemble import ExtraTreesClassifier\n",
    "\n",
    "clf = ExtraTreesClassifier(random_state=123, n_jobs=-1)\n",
    "print cross_val_score(clf, Xtrain, ytrain, cv=cv, scoring='accuracy').mean()"
   ]
  },
  {
   "cell_type": "markdown",
   "metadata": {},
   "source": [
    "Подберите оптимальные параметры для ExtraTrees (n_estimators, max_depth, min_samples_split, min_samples_leaf)"
   ]
  },
  {
   "cell_type": "code",
   "execution_count": null,
   "metadata": {},
   "outputs": [],
   "source": [
    "#Your code here"
   ]
  },
  {
   "cell_type": "code",
   "execution_count": null,
   "metadata": {},
   "outputs": [],
   "source": [
    "clf = ExtraTreesClassifier(n_estimators=..., max_depth=..., min_samples_split=..., min_samples_leaf=..., \\\n",
    "                           random_state=123, n_jobs=-1)\n",
    "print cross_val_score(clf, Xtrain, ytrain, cv=cv, scoring='accuracy').mean()"
   ]
  },
  {
   "cell_type": "markdown",
   "metadata": {},
   "source": [
    "Нарисуйте гистограмму важности признаков для ExtraTreesClassifier"
   ]
  },
  {
   "cell_type": "code",
   "execution_count": null,
   "metadata": {},
   "outputs": [],
   "source": [
    "#Your code here"
   ]
  },
  {
   "cell_type": "markdown",
   "metadata": {},
   "source": [
    "# Построение предсказания, использующего все натренированные алгоритмы"
   ]
  },
  {
   "cell_type": "markdown",
   "metadata": {},
   "source": [
    "# Voting"
   ]
  },
  {
   "cell_type": "code",
   "execution_count": null,
   "metadata": {},
   "outputs": [],
   "source": [
    "from sklearn.ensemble import VotingClassifier\n",
    "\n",
    "voting = VotingClassifier(estimators=[('RF',rf),('GB',gb),('ADA',ada),('ET',et)], voting='soft')\n",
    "voting.fit(Xtrain, ytrain)\n",
    "pred_voting = voting.predict(XtestFull)"
   ]
  },
  {
   "cell_type": "code",
   "execution_count": null,
   "metadata": {},
   "outputs": [],
   "source": [
    "cross_val_score(voting, Xtrain, ytrain, cv=cv, scoring='accuracy').mean()"
   ]
  },
  {
   "cell_type": "markdown",
   "metadata": {},
   "source": [
    "Добавьте столбец с предсказанием в таблицу Test и сохраните предсказание в файл. Отправьте его на Kaggle."
   ]
  },
  {
   "cell_type": "code",
   "execution_count": null,
   "metadata": {},
   "outputs": [],
   "source": [
    "#Your code here"
   ]
  },
  {
   "cell_type": "markdown",
   "metadata": {},
   "source": [
    "# Blending"
   ]
  },
  {
   "cell_type": "markdown",
   "metadata": {},
   "source": [
    "Предскажите каждым алгоритмом не классы, а вероятности классов (predict_proba)."
   ]
  },
  {
   "cell_type": "code",
   "execution_count": null,
   "metadata": {},
   "outputs": [],
   "source": [
    "rf_probas = ...\n",
    "gb_probas = ...\n",
    "ada_probas = ...\n",
    "et_probas = ..."
   ]
  },
  {
   "cell_type": "code",
   "execution_count": null,
   "metadata": {},
   "outputs": [],
   "source": [
    "blended_probas = 0.25 * (rf_probas+gb_probas+ada_probas+et_probas)\n",
    "\n",
    "prediction = [1 if elem > 0.5 else 0 for elem in blended_probas]"
   ]
  },
  {
   "cell_type": "code",
   "execution_count": null,
   "metadata": {},
   "outputs": [],
   "source": [
    "Test['Survived']=prediction\n",
    "\n",
    "Test[['PassengerId','Survived']].to_csv('titanic_prediction_blending.csv',index=False)"
   ]
  },
  {
   "cell_type": "markdown",
   "metadata": {},
   "source": [
    "# Stacking"
   ]
  },
  {
   "cell_type": "markdown",
   "metadata": {},
   "source": [
    "Для того, чтобы сделать стэкинг, нам придется разбить Xtrain,ytrain на две части. На первой будем обучать алгоритмы первого уровня (RF, GB и т.д.), а на второй - обучать метаалгоритм, т.е. алгоритм, признаками для которого являются ответы алгоритмов первого уровня."
   ]
  },
  {
   "cell_type": "code",
   "execution_count": null,
   "metadata": {},
   "outputs": [],
   "source": [
    "Xtrain1, Xtrain2, ytrain1, ytrain2 = train_test_split(XtrainFull, ytrainfull, test_size=0.33)"
   ]
  },
  {
   "cell_type": "markdown",
   "metadata": {},
   "source": [
    "Ещё раз переобучите все алгоритмы и настройте их параметры, но уже на уменьшенных данных - Xtrain1, ytrain1\n",
    "\n",
    "Сделайте предсказания на Xtrain2 каждым из алгоритмов. Предсказывайте вероятности, а не классы (predict_proba)"
   ]
  },
  {
   "cell_type": "code",
   "execution_count": null,
   "metadata": {},
   "outputs": [],
   "source": [
    "#Your code here"
   ]
  },
  {
   "cell_type": "code",
   "execution_count": null,
   "metadata": {},
   "outputs": [],
   "source": [
    "SecondTrain = pd.DataFrame(np.nan, index=np.arange(len(Xtrain2)), columns=['RF','GB','ADA','ET'])\n",
    "\n",
    "SecondTrain['RF'] = rf.predict(Xtrain2)\n",
    "SecondTrain['GB'] = gb.predict(Xtrain2)\n",
    "SecondTrain['ADA'] = ada.predict(Xtrain2)\n",
    "SecondTrain['ET'] = et.predict(Xtrain2)"
   ]
  },
  {
   "cell_type": "markdown",
   "metadata": {},
   "source": [
    "В качестве метаалгоритма будем использовать RandomForest. Подберите оптимальные параметры метаалгоритма."
   ]
  },
  {
   "cell_type": "code",
   "execution_count": null,
   "metadata": {},
   "outputs": [],
   "source": [
    "gs = GridSearchCV(RandomForestClassifier(random_state=111, n_jobs=-1),\n",
    "                  param_grid={'n_estimators':np.arange(100,1100,100)},\n",
    "                  cv=3,\n",
    "                  scoring='accuracy')\n",
    "gs.fit(SecondTrain, ytrain2)\n",
    "gs.best_estimator_, gs.best_params_, gs.best_score_"
   ]
  },
  {
   "cell_type": "code",
   "execution_count": null,
   "metadata": {},
   "outputs": [],
   "source": [
    "#Your code here"
   ]
  },
  {
   "cell_type": "markdown",
   "metadata": {},
   "source": [
    "Сделаем предсказание нашего двухступенчатого алгоритма на Xtest."
   ]
  },
  {
   "cell_type": "code",
   "execution_count": null,
   "metadata": {},
   "outputs": [],
   "source": [
    "PredTest = pd.DataFrame(np.nan, index=np.arange(len(Xtest)), columns=['RF','GB','ADA','ET'])\n",
    "\n",
    "PredTest['RF'] = rf.predict(Xtest)\n",
    "PredTest['GB'] = gb.predict(Xtest)\n",
    "PredTest['ADA'] = ada.predict(Xtest)\n",
    "PredTest['ET'] = et.predict(Xtest)\n",
    "\n",
    "pred_final = rf_final.predict(PredTest)\n",
    "\n",
    "print len(Xtest), len(pred_final)"
   ]
  },
  {
   "cell_type": "markdown",
   "metadata": {},
   "source": [
    "Сохраните предсказания в файл и отправьте файл на Kaggle."
   ]
  },
  {
   "cell_type": "code",
   "execution_count": null,
   "metadata": {},
   "outputs": [],
   "source": [
    "#Your code here"
   ]
  },
  {
   "cell_type": "markdown",
   "metadata": {},
   "source": [
    "# Дальнейшие улучшения\n",
    "\n",
    "1) Попробуйте использовать xgboost и catboost в качестве моделей первого уровня и/или второго уровня\n",
    "\n",
    "2) Подумайте над признаками. Какие ещё факторы можно извлечь из данных?\n",
    "\n",
    "3) Попробуйте снизить размерность пространства признаков: \n",
    "\n",
    "а) используйте feature_selection\n",
    "\n",
    "b) используйте методы снижения размерности\n",
    "\n",
    "4) Подумайте над другими способами кодирования категориальных признаков"
   ]
  },
  {
   "cell_type": "code",
   "execution_count": null,
   "metadata": {},
   "outputs": [],
   "source": [
    "#Your code here"
   ]
  }
 ],
 "metadata": {
  "kernelspec": {
   "display_name": "Python 3",
   "language": "python",
   "name": "python3"
  },
  "language_info": {
   "codemirror_mode": {
    "name": "ipython",
    "version": 3
   },
   "file_extension": ".py",
   "mimetype": "text/x-python",
   "name": "python",
   "nbconvert_exporter": "python",
   "pygments_lexer": "ipython3",
   "version": "3.6.6"
  }
 },
 "nbformat": 4,
 "nbformat_minor": 2
}
