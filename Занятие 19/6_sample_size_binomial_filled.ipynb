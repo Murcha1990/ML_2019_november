{
 "cells": [
  {
   "cell_type": "markdown",
   "metadata": {},
   "source": [
    "# Прогноз необходимого числа набюдений эксперимента"
   ]
  },
  {
   "cell_type": "code",
   "execution_count": 2,
   "metadata": {},
   "outputs": [],
   "source": [
    "%matplotlib inline\n",
    "from matplotlib import pyplot as plt\n",
    "import numpy as np\n",
    "from scipy import stats as st\n",
    "\n",
    "from numpy.random import binomial\n",
    "from numpy.random import normal"
   ]
  },
  {
   "cell_type": "markdown",
   "metadata": {},
   "source": [
    "***Определить необходимое число наблюдений в эксперименте для получения значимого результата:***\n",
    "            \n",
    "Текущий уровень конверсии: 1%\n",
    "    \n",
    "Минимальный уровень изменений: +0.1%\n",
    "    \n",
    "Уровень значимости: 95%\n",
    "    \n",
    "Требуемая мощность критерия: 90%\n",
    "    \n",
    "Проверить решение можно по ссылке: https://abtestguide.com/abtestsize/"
   ]
  },
  {
   "cell_type": "code",
   "execution_count": 3,
   "metadata": {},
   "outputs": [],
   "source": [
    "# H0: конверсия не изменилась.\n",
    "    \n",
    "# Текущий уровень конверсии 0.01 - качество текущего алгоритма (А)\n",
    "# 0.011 - качество нового алгоритма (B)\n",
    "# Уровень значимости - вероятность попадания в довер.интервал (при условии, что H0 верна).\n",
    "# Мощность критерия - вероятность не попасть в довер.интервал при условии, что гипотеза H0 не верна."
   ]
  },
  {
   "cell_type": "code",
   "execution_count": 4,
   "metadata": {},
   "outputs": [],
   "source": [
    "# Делаем серию экспериментов для А теста с P=0.01 и для B теста с P=0.011\n",
    "# 0. Для каждой выборки из experiments = binomial(1, P, (M, N)) делаем:\n",
    "\n",
    "# 1. Сгенерировать выборку из N элементов из бином.распределения с параметрами (1,0.011,N).\n",
    "# 2. Считаем её среднее Xmean.\n",
    "# 3. Используем z-тест:\n",
    "#     diff = (XmeanB - XmeanA)       # разность средних значений двух экспериментов\n",
    "#     z = diff / np.sqrt(0.01*(1-0.01)/N + 0.011*(1-0.011)/N)   # вычисляем z-статистику\n",
    "#     z_quantile = st.norm.ppf(0.95)        # вычисляем квантиль z-статистики\n",
    "    \n",
    "# 4. P(z>z_quantile) >= 0.9\n",
    "#    Считаем долю выборок таких, что z>z_quantile. Должно быть минимальное N такое, что >= 0.9. "
   ]
  },
  {
   "cell_type": "code",
   "execution_count": 30,
   "metadata": {
    "scrolled": true
   },
   "outputs": [
    {
     "data": {
      "application/vnd.jupyter.widget-view+json": {
       "model_id": "adc035f28f3f423aab7aea686bec586b",
       "version_major": 2,
       "version_minor": 0
      },
      "text/plain": [
       "HBox(children=(IntProgress(value=0, max=20), HTML(value='')))"
      ]
     },
     "metadata": {},
     "output_type": "display_data"
    },
    {
     "name": "stdout",
     "output_type": "stream",
     "text": [
      "160000 0.865\n",
      "161000 0.872\n",
      "162000 0.873\n",
      "163000 0.865\n",
      "164000 0.875\n",
      "165000 0.881\n",
      "166000 0.874\n",
      "167000 0.89\n",
      "168000 0.884\n",
      "169000 0.893\n",
      "170000 0.892\n",
      "171000 0.881\n",
      "172000 0.895\n",
      "173000 0.891\n",
      "174000 0.896\n",
      "175000 0.888\n",
      "176000 0.911\n",
      "176000\n"
     ]
    }
   ],
   "source": [
    "from tqdm import tqdm_notebook\n",
    "\n",
    "z_quantile = st.norm.ppf(0.95)\n",
    "num_exp = 1000 #500 - для большого шага\n",
    "\n",
    "Res = []\n",
    "\n",
    "#for N in tqdm_notebook(np.arange(100000,1000000,5000)): #ищем с большим шагом\n",
    "for N in tqdm_notebook(np.arange(160000,180000,1000)): #ищем с маленьким шагом\n",
    "    experimentsA = binomial(1, 0.01, (num_exp, N))\n",
    "    experimentsB = binomial(1, 0.011, (num_exp, N))\n",
    "    \n",
    "    XmeanA = np.array([np.mean(exp) for exp in experimentsA])\n",
    "    XmeanB = np.array([np.mean(exp) for exp in experimentsB])\n",
    "    \n",
    "    diff = XmeanB - XmeanA\n",
    "    z = diff / np.sqrt(0.01 * (1 - 0.01) / N + 0.011 * (1 - 0.011) / N)\n",
    "    res = sum([z>z_quantile][0]) / num_exp\n",
    "    Res.append(res)\n",
    "    print(N,res)\n",
    "    if res >= 0.90:\n",
    "        print(N)\n",
    "        break"
   ]
  },
  {
   "cell_type": "code",
   "execution_count": 31,
   "metadata": {},
   "outputs": [
    {
     "data": {
      "image/png": "[encoded data removed]",
      "text/plain": [
       "<Figure size 432x288 with 1 Axes>"
      ]
     },
     "metadata": {
      "needs_background": "light"
     },
     "output_type": "display_data"
    }
   ],
   "source": [
    "plt.plot(Res)\n",
    "plt.axhline(0.9, color='k', linestyle='--')\n",
    "plt.show()"
   ]
  }
 ],
 "metadata": {
  "kernelspec": {
   "display_name": "Python 3",
   "language": "python",
   "name": "python3"
  },
  "language_info": {
   "codemirror_mode": {
    "name": "ipython",
    "version": 3
   },
   "file_extension": ".py",
   "mimetype": "text/x-python",
   "name": "python",
   "nbconvert_exporter": "python",
   "pygments_lexer": "ipython3",
   "version": "3.6.6"
  }
 },
 "nbformat": 4,
 "nbformat_minor": 2
}
