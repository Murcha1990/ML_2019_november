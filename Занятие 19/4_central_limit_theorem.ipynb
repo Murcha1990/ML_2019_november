{
 "cells": [
  {
   "cell_type": "markdown",
   "metadata": {},
   "source": [
    "# Центральная предельная теорема\n",
    "https://en.wikipedia.org/wiki/Central_limit_theorem\n",
    "\n",
    "### Цель: проверить, что стандартное отклонение в зависимости от числа N наблюдений в эксперименте убывает как $\\mathbb{\\sigma}/\\sqrt{N}$."
   ]
  },
  {
   "cell_type": "code",
   "execution_count": null,
   "metadata": {},
   "outputs": [],
   "source": [
    "%matplotlib inline\n",
    "from matplotlib import pyplot as plt\n",
    "import numpy as np"
   ]
  },
  {
   "cell_type": "code",
   "execution_count": null,
   "metadata": {},
   "outputs": [],
   "source": [
    "POPULATION_STD = 10.  # задаем дисперсию в популяции"
   ]
  },
  {
   "cell_type": "code",
   "execution_count": null,
   "metadata": {},
   "outputs": [],
   "source": [
    "# Функция генерации данных экспериментов\n",
    "def gen_experiments(mean=0,\n",
    "                   n_samples=10,\n",
    "                   n_experiments=500):\n",
    "    return np.random.normal(loc=mean,\n",
    "                            scale=POPULATION_STD,\n",
    "                            size=(n_experiments, n_samples))"
   ]
  },
  {
   "cell_type": "code",
   "execution_count": null,
   "metadata": {},
   "outputs": [],
   "source": [
    "# TODO: Проводим 500 экспериментов с разным числом наблюдений.\n",
    "#Для каждой серии из 500 экспериментов вычислить средние значения, вычислить дисперсию средних\n",
    "#и сохранить её в sample_mean_std\n",
    "\n",
    "sample_mean_std = []\n",
    "n_samples = list(range(10, 110, 10))\n",
    "for n in n_samples:\n",
    "    #your code here"
   ]
  },
  {
   "cell_type": "code",
   "execution_count": null,
   "metadata": {},
   "outputs": [],
   "source": [
    "# Зависимость дисперсии средних от числа наблюдений по ЦПТ\n",
    "sample_mean_std_clt = POPULATION_STD / np.sqrt(n_samples)"
   ]
  },
  {
   "cell_type": "code",
   "execution_count": null,
   "metadata": {},
   "outputs": [],
   "source": [
    "#TODO: нарисовать график зависимости дисперсии средних от числа наблюдений в эксперименте.\n",
    "#на той же картинке нарисовать теоретическую зависимость дисперсии от числа наблюдений."
   ]
  }
 ],
 "metadata": {
  "kernelspec": {
   "display_name": "Python 3",
   "language": "python",
   "name": "python3"
  },
  "language_info": {
   "codemirror_mode": {
    "name": "ipython",
    "version": 3
   },
   "file_extension": ".py",
   "mimetype": "text/x-python",
   "name": "python",
   "nbconvert_exporter": "python",
   "pygments_lexer": "ipython3",
   "version": "3.6.6"
  }
 },
 "nbformat": 4,
 "nbformat_minor": 2
}
