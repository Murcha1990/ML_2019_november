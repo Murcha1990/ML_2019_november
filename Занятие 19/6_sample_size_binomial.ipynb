{
 "cells": [
  {
   "cell_type": "markdown",
   "metadata": {},
   "source": [
    "# Прогноз необходимого числа набюдений эксперимента"
   ]
  },
  {
   "cell_type": "code",
   "execution_count": null,
   "metadata": {},
   "outputs": [],
   "source": [
    "%matplotlib inline\n",
    "from matplotlib import pyplot as plt\n",
    "import numpy as np\n",
    "from scipy import stats as st\n",
    "\n",
    "from numpy.random import binomial\n",
    "from numpy.random import normal"
   ]
  },
  {
   "cell_type": "markdown",
   "metadata": {},
   "source": [
    "***Определить необходимое число наблюдений в эксперименте для получения значимого результата:***\n",
    "            \n",
    "Текущий уровень конверсии: 1%\n",
    "    \n",
    "Минимальный уровень изменений: +0.1%\n",
    "    \n",
    "Уровень значимости: 95%\n",
    "    \n",
    "Требуемая мощность критерия: 90%\n",
    "    \n",
    "Проверить решение можно по ссылке: https://abtestguide.com/abtestsize/"
   ]
  },
  {
   "cell_type": "code",
   "execution_count": null,
   "metadata": {},
   "outputs": [],
   "source": [
    "# H0: конверсия не изменилась.\n",
    "    \n",
    "# Текущий уровень конверсии 0.01 - качество текущего алгоритма (А)\n",
    "# 0.011 - качество нового алгоритма (B)\n",
    "# Уровень значимости - вероятность попадания в довер.интервал (при условии, что H0 верна).\n",
    "# Мощность критерия - вероятность не попасть в довер.интервал при условии, что гипотеза H0 не верна."
   ]
  },
  {
   "cell_type": "markdown",
   "metadata": {},
   "source": [
    "### Алгоритм-подсказка\n",
    "\n",
    "В цикле по N (числу наблюдений в эксперименте):\n",
    "\n",
    "1. Делаем серии экспериментов experimentsA = binomial(1, 0.01, (M, N)) и experimentsB = binomial(1, 0.011, (M, N)).\n",
    "\n",
    "\n",
    "2. Считаем среднее XmeanA и XmeanB.\n",
    "\n",
    "\n",
    "3. Используем z-тест:\n",
    "    * diff = (XmeanB - XmeanA)       # разность средних значений двух экспериментов\n",
    "    \n",
    "    * z = diff / np.sqrt(0.01*(1-0.01)/N + 0.011*(1-0.011)/N)   # вычисляем z-статистику\n",
    "    \n",
    "    * z_quantile = st.norm.ppf(0.95)        # вычисляем квантиль z-статистики\n",
    "    \n",
    "    \n",
    "4. P(z>z_quantile) >= 0.9\n",
    "   Считаем долю выборок таких, что z>z_quantile. Останавливаем цикл при N таком, что эта доля >= 0.9. "
   ]
  },
  {
   "cell_type": "code",
   "execution_count": null,
   "metadata": {
    "scrolled": true
   },
   "outputs": [],
   "source": [
    "#your code here"
   ]
  },
  {
   "cell_type": "code",
   "execution_count": null,
   "metadata": {},
   "outputs": [],
   "source": [
    "#TODO: нарисовать график мощности критерия в зависимости от N"
   ]
  }
 ],
 "metadata": {
  "kernelspec": {
   "display_name": "Python 3",
   "language": "python",
   "name": "python3"
  },
  "language_info": {
   "codemirror_mode": {
    "name": "ipython",
    "version": 3
   },
   "file_extension": ".py",
   "mimetype": "text/x-python",
   "name": "python",
   "nbconvert_exporter": "python",
   "pygments_lexer": "ipython3",
   "version": "3.6.6"
  }
 },
 "nbformat": 4,
 "nbformat_minor": 2
}
