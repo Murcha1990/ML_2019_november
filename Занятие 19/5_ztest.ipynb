{
 "cells": [
  {
   "cell_type": "markdown",
   "metadata": {},
   "source": [
    "# Z-test\n",
    "https://en.wikipedia.org/wiki/Z-test"
   ]
  },
  {
   "cell_type": "code",
   "execution_count": null,
   "metadata": {},
   "outputs": [],
   "source": [
    "%matplotlib inline\n",
    "from matplotlib import pyplot as plt\n",
    "import numpy as np\n",
    "import scipy.stats as st"
   ]
  },
  {
   "cell_type": "code",
   "execution_count": null,
   "metadata": {},
   "outputs": [],
   "source": [
    "MEAN_A = 10           # среднее значение в эксперименте A\n",
    "MEAN_B = 12           # среднее значение в эксперименте B\n",
    "POPULATION_STD = 10.  # задаем дисперсию в популяции\n",
    "N_SAMPLES = 250       # число наблюдений в каждом из экспериментов"
   ]
  },
  {
   "cell_type": "code",
   "execution_count": null,
   "metadata": {},
   "outputs": [],
   "source": [
    "# Семплируем данные экспериментов\n",
    "X_a = np.random.normal(loc=MEAN_A,\n",
    "                       scale=POPULATION_STD,\n",
    "                       size=N_SAMPLES)\n",
    "\n",
    "X_b = np.random.normal(loc=MEAN_B,\n",
    "                       scale=POPULATION_STD,\n",
    "                       size=N_SAMPLES)\n",
    "\n",
    "X_mean_a = np.mean(X_a)\n",
    "X_mean_b = np.mean(X_b)"
   ]
  },
  {
   "cell_type": "code",
   "execution_count": null,
   "metadata": {},
   "outputs": [],
   "source": [
    "# Визуализируем данные экспериментов \n",
    "plt.hist([X_a, X_b])\n",
    "plt.axvline(x=X_mean_a, color='C0', linestyle='--')\n",
    "plt.axvline(x=X_mean_b, color='C1', linestyle='--')\n",
    "plt.ylabel('Count')\n",
    "plt.xlabel('Value')\n",
    "plt.title('Data histogram and mean')\n",
    "plt.legend(['X_a_mean %.3f' % X_mean_a,\n",
    "            'X_b_mean %.3f' % X_mean_b,\n",
    "            'X_a', 'X_b']);"
   ]
  },
  {
   "cell_type": "code",
   "execution_count": null,
   "metadata": {},
   "outputs": [],
   "source": [
    "# Оцениваем стандартную ошибку\n",
    "se_a = se_b = POPULATION_STD / np.sqrt(N_SAMPLES)\n",
    "se_ab = np.sqrt(se_a ** 2 + se_b ** 2)  # стандартная ошибка разности"
   ]
  },
  {
   "cell_type": "markdown",
   "metadata": {},
   "source": [
    "Зафиксируем уровень значимости 0.05.\n",
    "\n",
    "Если z-статистика больше 0.975-квантили, то отвергаем гипотезу H0 о равенстве средних."
   ]
  },
  {
   "cell_type": "code",
   "execution_count": null,
   "metadata": {},
   "outputs": [],
   "source": [
    "confidence = 0.975\n",
    "z_quantile = st.norm.ppf(confidence)\n",
    "\n",
    "diff = abs(X_mean_b - X_mean_a)\n",
    "z_stat = diff / se_ab\n",
    "\n",
    "print('z:',z_stat)\n",
    "print('z-quantile:', z_quantile)\n",
    "if z_stat > z_quantile:\n",
    "    print('Отвергаем H0')\n",
    "else:\n",
    "    print('Принимаем H0')"
   ]
  },
  {
   "cell_type": "code",
   "execution_count": null,
   "metadata": {},
   "outputs": [],
   "source": [
    "# Визуализируем критерий\n",
    "x = np.arange(-3, 3, 0.025)\n",
    "plt.plot(x, st.norm.pdf(x))\n",
    "plt.fill_between(x, st.norm.pdf(x), where=x>z_quantile)\n",
    "plt.axvline(z_stat, color='k', linestyle='--')\n",
    "plt.title('z-distribution diff=%.2f z=%.2f q=0.95' % (diff, z_stat));"
   ]
  },
  {
   "cell_type": "code",
   "execution_count": null,
   "metadata": {},
   "outputs": [],
   "source": [
    "# TODO: проведите эксперимент и оцените долю ошибок критерия:\n",
    "# проведите 1000 экспериментов и вычислите долю экспериментов, в которых нулевая гипотеза\n",
    "# ошибочно принимается"
   ]
  }
 ],
 "metadata": {
  "kernelspec": {
   "display_name": "Python 3",
   "language": "python",
   "name": "python3"
  },
  "language_info": {
   "codemirror_mode": {
    "name": "ipython",
    "version": 3
   },
   "file_extension": ".py",
   "mimetype": "text/x-python",
   "name": "python",
   "nbconvert_exporter": "python",
   "pygments_lexer": "ipython3",
   "version": "3.6.6"
  }
 },
 "nbformat": 4,
 "nbformat_minor": 2
}
