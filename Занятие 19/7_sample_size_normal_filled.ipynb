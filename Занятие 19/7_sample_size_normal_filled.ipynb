{
 "cells": [
  {
   "cell_type": "markdown",
   "metadata": {},
   "source": [
    "# Прогноз необходимого числа наблюдений эксперимента"
   ]
  },
  {
   "cell_type": "code",
   "execution_count": 1,
   "metadata": {},
   "outputs": [],
   "source": [
    "%matplotlib inline\n",
    "from matplotlib import pyplot as plt\n",
    "import numpy as np\n",
    "from scipy import stats as st"
   ]
  },
  {
   "cell_type": "code",
   "execution_count": null,
   "metadata": {},
   "outputs": [],
   "source": [
    "# TODO: Определить необходимое число наблюдений \n",
    "#       в эксперименте для получения значимого результата:\n",
    "# Среднее значение: 100\n",
    "# STD: 10\n",
    "# Минимальный уровень изменений: +3% 100 -> 103 -> diff=3\n",
    "# Уровень значимости: 95%\n",
    "# Мощность: 90%\n",
    "# Проведите эксперимент и оцените долю ошибок I-го и II-го рода"
   ]
  },
  {
   "cell_type": "code",
   "execution_count": 5,
   "metadata": {},
   "outputs": [
    {
     "data": {
      "application/vnd.jupyter.widget-view+json": {
       "model_id": "87c268661a77474fbc6d2935c98244c7",
       "version_major": 2,
       "version_minor": 0
      },
      "text/plain": [
       "HBox(children=(IntProgress(value=0, max=99), HTML(value='')))"
      ]
     },
     "metadata": {},
     "output_type": "display_data"
    },
    {
     "name": "stdout",
     "output_type": "stream",
     "text": [
      "10 0.164\n",
      "20 0.25\n",
      "30 0.336\n",
      "40 0.384\n",
      "50 0.418\n",
      "60 0.554\n",
      "70 0.58\n",
      "80 0.614\n",
      "90 0.616\n",
      "100 0.708\n",
      "110 0.76\n",
      "120 0.766\n",
      "130 0.79\n",
      "140 0.794\n",
      "150 0.824\n",
      "160 0.87\n",
      "170 0.866\n",
      "180 0.868\n",
      "190 0.89\n",
      "200 0.942\n",
      "200\n"
     ]
    }
   ],
   "source": [
    "from tqdm import tqdm_notebook\n",
    "\n",
    "z_quantile = st.norm.ppf(0.95)\n",
    "num_exp = 500 #- для большого шага\n",
    "\n",
    "Res = []\n",
    "\n",
    "for N in tqdm_notebook(np.arange(10,1000,10)): #ищем с большим шагом\n",
    "#for N in tqdm_notebook(np.arange(160000,180000,1000)): #ищем с маленьким шагом\n",
    "    experimentsA = np.random.normal(loc=100, scale=10, size=(num_exp, N))\n",
    "    experimentsB = np.random.normal(loc=103, scale=10, size=(num_exp, N))\n",
    "    \n",
    "    XmeanA = np.array([np.mean(exp) for exp in experimentsA])\n",
    "    XmeanB = np.array([np.mean(exp) for exp in experimentsB])\n",
    "    \n",
    "    diff = XmeanB - XmeanA\n",
    "    z = diff / np.sqrt(np.std(XmeanA) ** 2 + np.std(XmeanB) ** 2)\n",
    "    res = sum([z>z_quantile][0]) / num_exp\n",
    "    Res.append(res)\n",
    "    print(N,res)\n",
    "    if res >= 0.90:\n",
    "        print(N)\n",
    "        break"
   ]
  },
  {
   "cell_type": "markdown",
   "metadata": {},
   "source": [
    "**Вероятность ошибки 1го рода $\\geq$ 0.05, вероятность ошибки 2го рода: $\\leq$ 1-0.9=0.1**"
   ]
  }
 ],
 "metadata": {
  "kernelspec": {
   "display_name": "Python 3",
   "language": "python",
   "name": "python3"
  },
  "language_info": {
   "codemirror_mode": {
    "name": "ipython",
    "version": 3
   },
   "file_extension": ".py",
   "mimetype": "text/x-python",
   "name": "python",
   "nbconvert_exporter": "python",
   "pygments_lexer": "ipython3",
   "version": "3.6.6"
  }
 },
 "nbformat": 4,
 "nbformat_minor": 2
}
