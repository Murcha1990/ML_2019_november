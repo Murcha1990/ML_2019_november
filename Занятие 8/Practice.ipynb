{
 "cells": [
  {
   "cell_type": "markdown",
   "metadata": {},
   "source": [
    "# Задание для самостоятельной работы.\n",
    "\n",
    "Поработайте с классическим датасетом о пассажирах Титаника. Решите задачу классификации - выжил пассажир или нет.\n",
    "\n",
    "Допускаются любые способы обработки данных и способы решения задачи. \n",
    "\n",
    "Метрика качества - accuracy.\n",
    "\n",
    "Ваша цель на сегодня - обучить модель и сделать предсказание на данных test.csv (скачать с сайта Kaggle), а затем отправить предсказание на Kaggle (см. https://www.kaggle.com/c/titanic/overview/evaluation).\n",
    "\n",
    "Ссылка на соревнование: https://www.kaggle.com/c/titanic"
   ]
  },
  {
   "cell_type": "markdown",
   "metadata": {},
   "source": [
    "### Примерный план действий:\n",
    "    \n",
    "1) Оставить только числовые признаки\n",
    "\n",
    "2) Выбрать классификатор и посмотреть на его качество на кросс-валидации\n",
    "\n",
    "3) Подобрать гиперпараметры модели с помощью GridSearchCV\n",
    "\n",
    "4) Закодировать категориальные признаки и добавить в модель, переучить модель на новых данных. Какое стало качество?\n",
    "\n",
    "5) Снизить размерность и обучить модель, посмотреть на качество.\n",
    "\n",
    "6) Сделать предсказание на тестовых данных (\"test.csv\") и отправить результат на Kaggle."
   ]
  },
  {
   "cell_type": "code",
   "execution_count": null,
   "metadata": {},
   "outputs": [],
   "source": [
    "import pandas as pd\n",
    "\n",
    "df = pd.read_csv(\"titanic_train.csv\")\n",
    "df.head()"
   ]
  },
  {
   "cell_type": "code",
   "execution_count": null,
   "metadata": {},
   "outputs": [],
   "source": [
    "#your code here"
   ]
  }
 ],
 "metadata": {
  "kernelspec": {
   "display_name": "Python 3",
   "language": "python",
   "name": "python3"
  },
  "language_info": {
   "codemirror_mode": {
    "name": "ipython",
    "version": 3
   },
   "file_extension": ".py",
   "mimetype": "text/x-python",
   "name": "python",
   "nbconvert_exporter": "python",
   "pygments_lexer": "ipython3",
   "version": "3.6.6"
  }
 },
 "nbformat": 4,
 "nbformat_minor": 2
}
