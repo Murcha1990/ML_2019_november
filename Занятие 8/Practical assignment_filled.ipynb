{
 "cells": [
  {
   "cell_type": "markdown",
   "metadata": {},
   "source": [
    "# Практическая работа №1"
   ]
  },
  {
   "cell_type": "code",
   "execution_count": 1,
   "metadata": {},
   "outputs": [],
   "source": [
    "import numpy as np\n",
    "import pandas as pd\n",
    "from sklearn.model_selection import train_test_split, cross_val_score, GridSearchCV\n",
    "\n",
    "from sklearn.linear_model import LinearRegression\n",
    "from sklearn.tree import DecisionTreeRegressor\n",
    "\n",
    "from sklearn.metrics import mean_squared_error, r2_score\n",
    "\n",
    "from sklearn.preprocessing import PolynomialFeatures\n",
    "from sklearn.pipeline import Pipeline"
   ]
  },
  {
   "cell_type": "markdown",
   "metadata": {},
   "source": [
    "### Загрузим данные для работы. "
   ]
  },
  {
   "cell_type": "code",
   "execution_count": 2,
   "metadata": {},
   "outputs": [
    {
     "data": {
      "text/html": [
       "<div>\n",
       "<style scoped>\n",
       "    .dataframe tbody tr th:only-of-type {\n",
       "        vertical-align: middle;\n",
       "    }\n",
       "\n",
       "    .dataframe tbody tr th {\n",
       "        vertical-align: top;\n",
       "    }\n",
       "\n",
       "    .dataframe thead th {\n",
       "        text-align: right;\n",
       "    }\n",
       "</style>\n",
       "<table border=\"1\" class=\"dataframe\">\n",
       "  <thead>\n",
       "    <tr style=\"text-align: right;\">\n",
       "      <th></th>\n",
       "      <th>Region Index</th>\n",
       "      <th>Subjects of Russia</th>\n",
       "      <th>Unemployment rate. %</th>\n",
       "      <th>Income per capita. RUB</th>\n",
       "      <th>Average salary. RUB per month</th>\n",
       "      <th>Spendings per capita. RUB</th>\n",
       "      <th>State housing. %</th>\n",
       "      <th>Higher Education. %</th>\n",
       "      <th>Number of doctors per 10000 citizens</th>\n",
       "      <th>GRP per capita. RUB</th>\n",
       "      <th>Investment in total capital</th>\n",
       "      <th>Consumer Price Index (CPI)</th>\n",
       "      <th>Average income / min. living wage</th>\n",
       "      <th>Average costs / min. living wage</th>\n",
       "      <th>Votes for United Russia. %</th>\n",
       "    </tr>\n",
       "  </thead>\n",
       "  <tbody>\n",
       "    <tr>\n",
       "      <th>0</th>\n",
       "      <td>1</td>\n",
       "      <td>Adygea</td>\n",
       "      <td>43505.0</td>\n",
       "      <td>12236</td>\n",
       "      <td>12787.4</td>\n",
       "      <td>8361</td>\n",
       "      <td>0.6</td>\n",
       "      <td>4.0</td>\n",
       "      <td>37.9</td>\n",
       "      <td>93548.3</td>\n",
       "      <td>25834</td>\n",
       "      <td>110.1</td>\n",
       "      <td>42036</td>\n",
       "      <td>17168.0</td>\n",
       "      <td>61.002</td>\n",
       "    </tr>\n",
       "    <tr>\n",
       "      <th>1</th>\n",
       "      <td>2</td>\n",
       "      <td>Altai</td>\n",
       "      <td>43685.0</td>\n",
       "      <td>10926</td>\n",
       "      <td>12050.7</td>\n",
       "      <td>8139</td>\n",
       "      <td>43680.0</td>\n",
       "      <td>43694.0</td>\n",
       "      <td>48.7</td>\n",
       "      <td>107282.4</td>\n",
       "      <td>23048</td>\n",
       "      <td>108.2</td>\n",
       "      <td>33604</td>\n",
       "      <td>15707.0</td>\n",
       "      <td>37.174</td>\n",
       "    </tr>\n",
       "    <tr>\n",
       "      <th>2</th>\n",
       "      <td>3</td>\n",
       "      <td>Amur Oblast</td>\n",
       "      <td>43714.0</td>\n",
       "      <td>14064</td>\n",
       "      <td>21207.5</td>\n",
       "      <td>9406</td>\n",
       "      <td>2.0</td>\n",
       "      <td>43590.0</td>\n",
       "      <td>62.9</td>\n",
       "      <td>175927.8</td>\n",
       "      <td>95619</td>\n",
       "      <td>109.4</td>\n",
       "      <td>17199</td>\n",
       "      <td>23743.0</td>\n",
       "      <td>43.543</td>\n",
       "    </tr>\n",
       "    <tr>\n",
       "      <th>3</th>\n",
       "      <td>4</td>\n",
       "      <td>Arkhangelsk Oblast</td>\n",
       "      <td>43503.0</td>\n",
       "      <td>19310</td>\n",
       "      <td>22192.1</td>\n",
       "      <td>11688</td>\n",
       "      <td>43527.0</td>\n",
       "      <td>9.0</td>\n",
       "      <td>56.5</td>\n",
       "      <td>256728.4</td>\n",
       "      <td>63912</td>\n",
       "      <td>109.4</td>\n",
       "      <td>14305</td>\n",
       "      <td>43587.0</td>\n",
       "      <td>31.900</td>\n",
       "    </tr>\n",
       "    <tr>\n",
       "      <th>4</th>\n",
       "      <td>5</td>\n",
       "      <td>Astrakhan Oblast</td>\n",
       "      <td>43532.0</td>\n",
       "      <td>14641</td>\n",
       "      <td>16582.1</td>\n",
       "      <td>10651</td>\n",
       "      <td>43586.0</td>\n",
       "      <td>43472.0</td>\n",
       "      <td>68.2</td>\n",
       "      <td>131400.1</td>\n",
       "      <td>56338</td>\n",
       "      <td>109.8</td>\n",
       "      <td>20852</td>\n",
       "      <td>31778.0</td>\n",
       "      <td>60.170</td>\n",
       "    </tr>\n",
       "  </tbody>\n",
       "</table>\n",
       "</div>"
      ],
      "text/plain": [
       "   Region Index  Subjects of Russia  Unemployment rate. %  \\\n",
       "0             1              Adygea               43505.0   \n",
       "1             2               Altai               43685.0   \n",
       "2             3         Amur Oblast               43714.0   \n",
       "3             4  Arkhangelsk Oblast               43503.0   \n",
       "4             5    Astrakhan Oblast               43532.0   \n",
       "\n",
       "   Income per capita. RUB  Average salary. RUB per month  \\\n",
       "0                   12236                        12787.4   \n",
       "1                   10926                        12050.7   \n",
       "2                   14064                        21207.5   \n",
       "3                   19310                        22192.1   \n",
       "4                   14641                        16582.1   \n",
       "\n",
       "   Spendings per capita. RUB  State housing. %  Higher Education. %  \\\n",
       "0                       8361               0.6                  4.0   \n",
       "1                       8139           43680.0              43694.0   \n",
       "2                       9406               2.0              43590.0   \n",
       "3                      11688           43527.0                  9.0   \n",
       "4                      10651           43586.0              43472.0   \n",
       "\n",
       "   Number of doctors per 10000 citizens  GRP per capita. RUB  \\\n",
       "0                                  37.9              93548.3   \n",
       "1                                  48.7             107282.4   \n",
       "2                                  62.9             175927.8   \n",
       "3                                  56.5             256728.4   \n",
       "4                                  68.2             131400.1   \n",
       "\n",
       "   Investment in total capital  Consumer Price Index (CPI)  \\\n",
       "0                        25834                       110.1   \n",
       "1                        23048                       108.2   \n",
       "2                        95619                       109.4   \n",
       "3                        63912                       109.4   \n",
       "4                        56338                       109.8   \n",
       "\n",
       "   Average income / min. living wage  Average costs / min. living wage  \\\n",
       "0                              42036                           17168.0   \n",
       "1                              33604                           15707.0   \n",
       "2                              17199                           23743.0   \n",
       "3                              14305                           43587.0   \n",
       "4                              20852                           31778.0   \n",
       "\n",
       "   Votes for United Russia. %  \n",
       "0                      61.002  \n",
       "1                      37.174  \n",
       "2                      43.543  \n",
       "3                      31.900  \n",
       "4                      60.170  "
      ]
     },
     "execution_count": 2,
     "metadata": {},
     "output_type": "execute_result"
    }
   ],
   "source": [
    "df = pd.read_csv(\"Elections.csv\",delimiter=';')\n",
    "df.head()"
   ]
  },
  {
   "cell_type": "markdown",
   "metadata": {},
   "source": [
    "Будем решать задачу регрессии: необходимо предсказать процент голосов за Единую Россию в каждом регионе по различным характеристикам уровня жизни в регионе.\n",
    "\n",
    "## Шаг 1. \n",
    "Создайте матрицу X объект-признак и целевой вектор y (\"Votes for United Russia. %\")"
   ]
  },
  {
   "cell_type": "code",
   "execution_count": 14,
   "metadata": {},
   "outputs": [],
   "source": [
    "y = df['Votes for United Russia. %']\n",
    "X = df.drop(['Votes for United Russia. %'],axis=1)"
   ]
  },
  {
   "cell_type": "markdown",
   "metadata": {},
   "source": [
    "## Шаг 2.\n",
    "Оставьте в матрице X только столбцы 'Unemployment rate. %', 'Spendings per capita. RUB', 'Number of doctors per 10000 citizens', 'Average salary. RUB per month'"
   ]
  },
  {
   "cell_type": "code",
   "execution_count": 15,
   "metadata": {},
   "outputs": [],
   "source": [
    "X = X[['Unemployment rate. %', 'Spendings per capita. RUB',\n",
    "       'Number of doctors per 10000 citizens',\n",
    "        'Average salary. RUB per month']]"
   ]
  },
  {
   "cell_type": "markdown",
   "metadata": {},
   "source": [
    "## Шаг 3.\n",
    "Разбейте данные на train и test (доля тестовых данных - 30%)."
   ]
  },
  {
   "cell_type": "code",
   "execution_count": 5,
   "metadata": {},
   "outputs": [],
   "source": [
    "Xtrain, Xtest, ytrain, ytest = train_test_split(X, y, test_size=0.3)"
   ]
  },
  {
   "cell_type": "markdown",
   "metadata": {},
   "source": [
    "## Шаг 4.\n",
    "Обучите линейную регрессию на тренировочных данных и сделайте предсказания на train и на test."
   ]
  },
  {
   "cell_type": "code",
   "execution_count": 6,
   "metadata": {},
   "outputs": [],
   "source": [
    "model = LinearRegression()\n",
    "model.fit(Xtrain, ytrain)\n",
    "\n",
    "pred_train = model.predict(Xtrain)\n",
    "pred_test = model.predict(Xtest)"
   ]
  },
  {
   "cell_type": "markdown",
   "metadata": {},
   "source": [
    "## Шаг 5.\n",
    "Выведите на экран ошибку MSE на train и на test, затем выведите на экран ошибку r2 на train и test.  "
   ]
  },
  {
   "cell_type": "code",
   "execution_count": 7,
   "metadata": {},
   "outputs": [
    {
     "name": "stdout",
     "output_type": "stream",
     "text": [
      "183.84900042994443 437.6610266845584\n",
      "0.22766620061822485 -0.2344327448250607\n"
     ]
    }
   ],
   "source": [
    "print(mean_squared_error(ytrain, pred_train), mean_squared_error(ytest, pred_test))\n",
    "print(r2_score(ytrain, pred_train), r2_score(ytest, pred_test))"
   ]
  },
  {
   "cell_type": "markdown",
   "metadata": {},
   "source": [
    "## Шаг 6.\n",
    "Вычислите среднее качество (r2) модели на кросс-валидации с k=5 фолдами."
   ]
  },
  {
   "cell_type": "code",
   "execution_count": 16,
   "metadata": {},
   "outputs": [
    {
     "data": {
      "text/plain": [
       "-0.2787293912365831"
      ]
     },
     "execution_count": 16,
     "metadata": {},
     "output_type": "execute_result"
    }
   ],
   "source": [
    "cross_val_score(model, X, y, cv=5, scoring='r2').mean()"
   ]
  },
  {
   "cell_type": "markdown",
   "metadata": {},
   "source": [
    "## Шаг 7.\n",
    "Теперь примените линейную регрессию с L1-регуляризацией (Lasso) для данной задачи. Объявите модель и подберите параметр регуляризации alpha по сетке. Ищите alpha в диапазоне (0.1, 1.1) с шагом 0.1. \n",
    "\n",
    "Осуществите подбор параметра alpha по тренировочным данным (Xtrain, ytrain)."
   ]
  },
  {
   "cell_type": "code",
   "execution_count": 18,
   "metadata": {},
   "outputs": [
    {
     "name": "stderr",
     "output_type": "stream",
     "text": [
      "C:\\Users\\elena\\Anaconda3\\lib\\site-packages\\sklearn\\model_selection\\_search.py:841: DeprecationWarning: The default of the `iid` parameter will change from True to False in version 0.22 and will be removed in 0.24. This will change numeric results when test-set sizes are unequal.\n",
      "  DeprecationWarning)\n"
     ]
    },
    {
     "data": {
      "text/plain": [
       "GridSearchCV(cv=3, error_score='raise-deprecating',\n",
       "       estimator=Lasso(alpha=1.0, copy_X=True, fit_intercept=True, max_iter=1000,\n",
       "   normalize=False, positive=False, precompute=False, random_state=None,\n",
       "   selection='cyclic', tol=0.0001, warm_start=False),\n",
       "       fit_params=None, iid='warn', n_jobs=-1,\n",
       "       param_grid={'alpha': array([0.1, 0.2, 0.3, 0.4, 0.5, 0.6, 0.7, 0.8, 0.9, 1. ])},\n",
       "       pre_dispatch='2*n_jobs', refit=True, return_train_score='warn',\n",
       "       scoring=None, verbose=0)"
      ]
     },
     "execution_count": 18,
     "metadata": {},
     "output_type": "execute_result"
    }
   ],
   "source": [
    "from sklearn.linear_model import Lasso\n",
    "\n",
    "model = Lasso()\n",
    "\n",
    "alpha_grid = {'alpha': np.arange(0.1, 1.1, 0.1)}\n",
    "\n",
    "grid = GridSearchCV(model, alpha_grid, cv=3, n_jobs=-1)\n",
    "grid.fit(Xtrain, ytrain)"
   ]
  },
  {
   "cell_type": "markdown",
   "metadata": {},
   "source": [
    "## Шаг 8.\n",
    "Выведите наилучший алгоритм и наилучшее качество по результатам подбора alpha (best_estimator_ и best_score_)."
   ]
  },
  {
   "cell_type": "code",
   "execution_count": 10,
   "metadata": {},
   "outputs": [
    {
     "data": {
      "text/plain": [
       "(Lasso(alpha=1.0, copy_X=True, fit_intercept=True, max_iter=1000,\n",
       "    normalize=False, positive=False, precompute=False, random_state=None,\n",
       "    selection='cyclic', tol=0.0001, warm_start=False), -5293.801990764731)"
      ]
     },
     "execution_count": 10,
     "metadata": {},
     "output_type": "execute_result"
    }
   ],
   "source": [
    "grid.best_estimator_, grid.best_score_"
   ]
  },
  {
   "cell_type": "markdown",
   "metadata": {},
   "source": [
    "## Шаг 9.\n",
    "\n",
    "С помощью найденного best_estimator_ сделайте предсказание на тестовых данных и выведите на экран r2-score на тесте."
   ]
  },
  {
   "cell_type": "code",
   "execution_count": 11,
   "metadata": {},
   "outputs": [
    {
     "data": {
      "text/plain": [
       "-0.23443655294807675"
      ]
     },
     "execution_count": 11,
     "metadata": {},
     "output_type": "execute_result"
    }
   ],
   "source": [
    "pred_test = grid.best_estimator_.predict(Xtest)\n",
    "\n",
    "r2_score(ytest, pred_test)"
   ]
  },
  {
   "cell_type": "markdown",
   "metadata": {},
   "source": [
    "## Шаг 10.\n",
    "\n",
    "Попробуем улучшить качество модели за счет добавления полиномиальных признаков. Создайте pipeline, состоящий из добавления полиномиальных признаков степени 2, а затем применения линейной регрессии.\n",
    "\n",
    "Затем вычислите r2-score этой модели на кросс валидации с пятью фолдами."
   ]
  },
  {
   "cell_type": "code",
   "execution_count": 19,
   "metadata": {},
   "outputs": [
    {
     "data": {
      "text/plain": [
       "-407788.0331865719"
      ]
     },
     "execution_count": 19,
     "metadata": {},
     "output_type": "execute_result"
    }
   ],
   "source": [
    "pipe = Pipeline([('poly',PolynomialFeatures(degree=2)), \\\n",
    "                 ('model',LinearRegression())])\n",
    "\n",
    "cross_val_score(pipe, X, y, cv=3, scoring='r2').mean()"
   ]
  },
  {
   "cell_type": "markdown",
   "metadata": {},
   "source": [
    "## Шаг 11.\n",
    "Обучите модель (pipeline) на тренировочных данных и сделайте предсказания для train и test, затем выведите на экран r2-score и MSE на тренировочных и на тестовых данных."
   ]
  },
  {
   "cell_type": "code",
   "execution_count": 13,
   "metadata": {},
   "outputs": [
    {
     "name": "stdout",
     "output_type": "stream",
     "text": [
      "0.5225650415744894 -99929843.48012334\n",
      "113.6502635869408 35429551358.666405\n"
     ]
    }
   ],
   "source": [
    "pipe.fit(Xtrain, ytrain)\n",
    "\n",
    "pred_tr = pipe.predict(Xtrain)\n",
    "pred_te = pipe.predict(Xtest)\n",
    "\n",
    "print(r2_score(ytrain, pred_tr), r2_score(ytest, pred_te))\n",
    "print(mean_squared_error(ytrain, pred_tr), mean_squared_error(ytest, pred_te))"
   ]
  },
  {
   "cell_type": "markdown",
   "metadata": {},
   "source": [
    "## Сделайте выводы. Для этого ответьте на вопросы:\n",
    "\n",
    "1) Хорошее ли качество показала исходная модель (линейная регрессия без регуляризации)? Является ли эта модель переобученной?\n",
    "\n",
    "2) Помогла ли L1-регуляризация улучшить качество модели?\n",
    "\n",
    "3) Помогло ли добавление полиномов второй степени улучшить качество модели? Как добавление новых признаков повлияло на переобучение?"
   ]
  },
  {
   "cell_type": "code",
   "execution_count": null,
   "metadata": {},
   "outputs": [],
   "source": []
  }
 ],
 "metadata": {
  "kernelspec": {
   "display_name": "Python 3",
   "language": "python",
   "name": "python3"
  },
  "language_info": {
   "codemirror_mode": {
    "name": "ipython",
    "version": 3
   },
   "file_extension": ".py",
   "mimetype": "text/x-python",
   "name": "python",
   "nbconvert_exporter": "python",
   "pygments_lexer": "ipython3",
   "version": "3.6.6"
  }
 },
 "nbformat": 4,
 "nbformat_minor": 2
}
