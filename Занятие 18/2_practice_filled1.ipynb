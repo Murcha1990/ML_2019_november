{
 "cells": [
  {
   "cell_type": "markdown",
   "metadata": {},
   "source": [
    "# Задание 1\n",
    "\n",
    "### Цель: проверить гипотезу о том, что средняя вероятность клика в первой половине датасета (по времени) и во второй половине датасета (по времени) не отличаются."
   ]
  },
  {
   "cell_type": "code",
   "execution_count": 1,
   "metadata": {},
   "outputs": [],
   "source": [
    "%matplotlib inline\n",
    "from matplotlib import pyplot as plt\n",
    "from scipy import stats as st\n",
    "import numpy as np\n",
    "from numpy.random import binomial\n",
    "from numpy.random import normal\n",
    "import pandas as pd\n",
    "from sklearn.model_selection import train_test_split"
   ]
  },
  {
   "cell_type": "markdown",
   "metadata": {},
   "source": [
    "Отсортируйте данные по времени и разбейте на две равные части - part1 и part2."
   ]
  },
  {
   "cell_type": "code",
   "execution_count": 5,
   "metadata": {},
   "outputs": [
    {
     "data": {
      "text/plain": [
       "((500, 2), (500, 2))"
      ]
     },
     "execution_count": 5,
     "metadata": {},
     "output_type": "execute_result"
    }
   ],
   "source": [
    "df = pd.read_csv(\"advertising.csv\")\n",
    "df = df[['Timestamp','Clicked on Ad']].copy()\n",
    "\n",
    "df.sort_values(by='Timestamp', inplace=True)\n",
    "\n",
    "part1 = df.iloc[:500]\n",
    "part2 = df.iloc[500:]\n",
    "\n",
    "part1.shape, part2.shape"
   ]
  },
  {
   "cell_type": "markdown",
   "metadata": {},
   "source": [
    "Создайте два массива - sample1 и sample2, содержащие значения из столбца Clicked on Ad для part1 и part2 соответственно."
   ]
  },
  {
   "cell_type": "code",
   "execution_count": 6,
   "metadata": {},
   "outputs": [],
   "source": [
    "#your code here\n",
    "sample1 = part1['Clicked on Ad'].values\n",
    "sample2 = part2['Clicked on Ad'].values"
   ]
  },
  {
   "cell_type": "markdown",
   "metadata": {},
   "source": [
    "Вычислите выборочное среднее для каждого сэмпла (mean1, mean2) и вычислите разность этих средних значений (diff)."
   ]
  },
  {
   "cell_type": "code",
   "execution_count": 7,
   "metadata": {},
   "outputs": [
    {
     "name": "stdout",
     "output_type": "stream",
     "text": [
      "mean1: 0.49\n",
      "mean2: 0.51\n",
      "diff: -0.020000000000000018\n"
     ]
    }
   ],
   "source": [
    "#your code here\n",
    "mean1 = np.mean(sample1)\n",
    "mean2 = np.mean(sample2)\n",
    "\n",
    "diff = mean1 - mean2\n",
    "print('mean1:', mean1)\n",
    "print('mean2:', mean2)\n",
    "print('diff:', diff)"
   ]
  },
  {
   "cell_type": "markdown",
   "metadata": {},
   "source": [
    "***Нулевая гипотеза: средние вероятности кликов не отличаются.***\n",
    "\n",
    "Для проверки вычислите выборочную дисперсию (std_pool)."
   ]
  },
  {
   "cell_type": "code",
   "execution_count": 8,
   "metadata": {},
   "outputs": [],
   "source": [
    "#your code here\n",
    "N = 500\n",
    "\n",
    "std_pool = np.sqrt(mean1 * (1-mean1) / N + mean2 * (1-mean2) / N)"
   ]
  },
  {
   "cell_type": "markdown",
   "metadata": {},
   "source": [
    "Вычислите величину отступа (margin) для уровня доверия 95% (двусторонний критерий)."
   ]
  },
  {
   "cell_type": "code",
   "execution_count": 10,
   "metadata": {},
   "outputs": [
    {
     "name": "stdout",
     "output_type": "stream",
     "text": [
      "confidence interval:  -0.061967106089972024  + 0.061967106089972024\n"
     ]
    }
   ],
   "source": [
    "confidence = 0.975\n",
    "z = st.norm.ppf(confidence)\n",
    "\n",
    "margin = z * std_pool\n",
    "\n",
    "print('confidence interval: ', -margin, ' +', margin)\n",
    "#your code here"
   ]
  },
  {
   "cell_type": "markdown",
   "metadata": {},
   "source": [
    "Проверьте нулевую гипотезу. Отвергаем её, если |diff| > margin."
   ]
  },
  {
   "cell_type": "code",
   "execution_count": 11,
   "metadata": {},
   "outputs": [
    {
     "data": {
      "text/plain": [
       "False"
      ]
     },
     "execution_count": 11,
     "metadata": {},
     "output_type": "execute_result"
    }
   ],
   "source": [
    "#your code here\n",
    "abs(diff) > margin"
   ]
  },
  {
   "cell_type": "markdown",
   "metadata": {},
   "source": [
    "# Задание 2.\n",
    "Проверьте гипотезу о том, что среднее время, проведенное на сайте (Daily Time Spent on Site), не зависит от времени.\n",
    "\n",
    "Дисперсия суммы независимых случайных величин равна сумме их дисперсий."
   ]
  },
  {
   "cell_type": "code",
   "execution_count": 12,
   "metadata": {},
   "outputs": [
    {
     "data": {
      "text/html": [
       "<div>\n",
       "<style scoped>\n",
       "    .dataframe tbody tr th:only-of-type {\n",
       "        vertical-align: middle;\n",
       "    }\n",
       "\n",
       "    .dataframe tbody tr th {\n",
       "        vertical-align: top;\n",
       "    }\n",
       "\n",
       "    .dataframe thead th {\n",
       "        text-align: right;\n",
       "    }\n",
       "</style>\n",
       "<table border=\"1\" class=\"dataframe\">\n",
       "  <thead>\n",
       "    <tr style=\"text-align: right;\">\n",
       "      <th></th>\n",
       "      <th>Timestamp</th>\n",
       "      <th>Daily Time Spent on Site</th>\n",
       "    </tr>\n",
       "  </thead>\n",
       "  <tbody>\n",
       "    <tr>\n",
       "      <th>0</th>\n",
       "      <td>2016-03-27 00:53:11</td>\n",
       "      <td>68.95</td>\n",
       "    </tr>\n",
       "    <tr>\n",
       "      <th>1</th>\n",
       "      <td>2016-04-04 01:39:02</td>\n",
       "      <td>80.23</td>\n",
       "    </tr>\n",
       "    <tr>\n",
       "      <th>2</th>\n",
       "      <td>2016-03-13 20:35:42</td>\n",
       "      <td>69.47</td>\n",
       "    </tr>\n",
       "    <tr>\n",
       "      <th>3</th>\n",
       "      <td>2016-01-10 02:31:19</td>\n",
       "      <td>74.15</td>\n",
       "    </tr>\n",
       "    <tr>\n",
       "      <th>4</th>\n",
       "      <td>2016-06-03 03:36:18</td>\n",
       "      <td>68.37</td>\n",
       "    </tr>\n",
       "  </tbody>\n",
       "</table>\n",
       "</div>"
      ],
      "text/plain": [
       "             Timestamp  Daily Time Spent on Site\n",
       "0  2016-03-27 00:53:11                     68.95\n",
       "1  2016-04-04 01:39:02                     80.23\n",
       "2  2016-03-13 20:35:42                     69.47\n",
       "3  2016-01-10 02:31:19                     74.15\n",
       "4  2016-06-03 03:36:18                     68.37"
      ]
     },
     "execution_count": 12,
     "metadata": {},
     "output_type": "execute_result"
    }
   ],
   "source": [
    "#your code here\n",
    "df = pd.read_csv(\"advertising.csv\")\n",
    "df = df[['Timestamp','Daily Time Spent on Site']].copy()\n",
    "df.head()"
   ]
  },
  {
   "cell_type": "code",
   "execution_count": 14,
   "metadata": {},
   "outputs": [
    {
     "data": {
      "text/plain": [
       "(array([ 61.,  95.,  81.,  72.,  83., 102., 123., 170., 151.,  62.]),\n",
       " array([32.6  , 38.483, 44.366, 50.249, 56.132, 62.015, 67.898, 73.781,\n",
       "        79.664, 85.547, 91.43 ]),\n",
       " <a list of 10 Patch objects>)"
      ]
     },
     "execution_count": 14,
     "metadata": {},
     "output_type": "execute_result"
    },
    {
     "data": {
      "image/png": "[encoded data removed]",
      "text/plain": [
       "<Figure size 432x288 with 1 Axes>"
      ]
     },
     "metadata": {
      "needs_background": "light"
     },
     "output_type": "display_data"
    }
   ],
   "source": [
    "plt.hist(df['Daily Time Spent on Site'])"
   ]
  },
  {
   "cell_type": "code",
   "execution_count": null,
   "metadata": {},
   "outputs": [],
   "source": []
  }
 ],
 "metadata": {
  "kernelspec": {
   "display_name": "Python 3",
   "language": "python",
   "name": "python3"
  },
  "language_info": {
   "codemirror_mode": {
    "name": "ipython",
    "version": 3
   },
   "file_extension": ".py",
   "mimetype": "text/x-python",
   "name": "python",
   "nbconvert_exporter": "python",
   "pygments_lexer": "ipython3",
   "version": "3.6.6"
  }
 },
 "nbformat": 4,
 "nbformat_minor": 2
}
