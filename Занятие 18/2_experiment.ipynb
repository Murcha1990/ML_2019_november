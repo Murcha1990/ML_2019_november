{
 "cells": [
  {
   "cell_type": "markdown",
   "metadata": {},
   "source": [
    "# Анализ эксперимента\n",
    "\n",
    "### Цель: оценить результат эксперимента (сравнить средние значения двух выборок) с помощью доверительного интервала."
   ]
  },
  {
   "cell_type": "code",
   "execution_count": 25,
   "metadata": {},
   "outputs": [],
   "source": [
    "%matplotlib inline\n",
    "from matplotlib import pyplot as plt\n",
    "from scipy import stats as st\n",
    "import numpy as np\n",
    "from numpy.random import binomial\n",
    "from numpy.random import normal"
   ]
  },
  {
   "cell_type": "markdown",
   "metadata": {},
   "source": [
    "## Сгенерируем семплы\n",
    "\n",
    "Два набора данных, распределенных по биномиальному закону"
   ]
  },
  {
   "cell_type": "code",
   "execution_count": 26,
   "metadata": {},
   "outputs": [],
   "source": [
    "P1 = 0.1\n",
    "P2 = 0.11\n",
    "N1 = 100\n",
    "N2 = 100"
   ]
  },
  {
   "cell_type": "code",
   "execution_count": 27,
   "metadata": {},
   "outputs": [],
   "source": [
    "sample1 = binomial(1, P1, N1)\n",
    "sample2 = binomial(1, P2, N2)"
   ]
  },
  {
   "cell_type": "code",
   "execution_count": 28,
   "metadata": {},
   "outputs": [
    {
     "name": "stdout",
     "output_type": "stream",
     "text": [
      "mean1: 0.05\n",
      "mean2: 0.11\n",
      "mean1 - mean2: -0.06\n"
     ]
    }
   ],
   "source": [
    "mean1 = np.mean(sample1)\n",
    "mean2 = np.mean(sample2)\n",
    "diff = mean1 - mean2\n",
    "print('mean1: %s' % mean1)\n",
    "print('mean2: %s' % mean2)\n",
    "print('mean1 - mean2: %s' % diff)"
   ]
  },
  {
   "cell_type": "markdown",
   "metadata": {},
   "source": [
    "**Истинные вероятности отличаются на 0.01. Но в эксперименте получилось, что разность равна 0.03. Поэтому только на разность средних опираться нельзя, необходимо смотреть на распределения.**"
   ]
  },
  {
   "cell_type": "markdown",
   "metadata": {},
   "source": [
    "## Оценим выборочное (pooled) среднее и дисперсию\n",
    "\n",
    "Предполагаем, что выборки из одного и того же распределения. Считаем среднее и дисперсию для этого распределения."
   ]
  },
  {
   "cell_type": "code",
   "execution_count": 29,
   "metadata": {},
   "outputs": [],
   "source": [
    "P_pool = (np.sum(sample1 == 1) + np.sum(sample2 == 1)) / (N1 + N2) #доля успехов (\"вероятность успеха\")\n",
    "\n",
    "#У вас:\n",
    "std_pool = np.sqrt(P_pool * (1 - P_pool) / (N1 + N2))\n",
    "\n",
    "#Мне кажется, что надо так:\n",
    "std_pool = np.sqrt(mean1 * (1 - mean1) / N1 + mean2 * (1 - mean2) / N2)"
   ]
  },
  {
   "cell_type": "code",
   "execution_count": 30,
   "metadata": {},
   "outputs": [
    {
     "name": "stdout",
     "output_type": "stream",
     "text": [
      "z: 1.959963984540054\n"
     ]
    }
   ],
   "source": [
    "confidence = 0.975\n",
    "z = st.norm.ppf(confidence)\n",
    "margin = z * std_pool\n",
    "print('z: %s' % z)"
   ]
  },
  {
   "cell_type": "markdown",
   "metadata": {},
   "source": [
    "## Случайно ли различие в средних?\n",
    "\n",
    "Гипотеза в том, что распределения одинаковы. Отвергаем её, если |diff| > margin."
   ]
  },
  {
   "cell_type": "code",
   "execution_count": 31,
   "metadata": {},
   "outputs": [
    {
     "name": "stdout",
     "output_type": "stream",
     "text": [
      "margin: 0.07473607646437735\n",
      "diff: -0.06\n",
      "Are they different (diff > margin)? -> False\n"
     ]
    }
   ],
   "source": [
    "print('margin: %s' % margin)\n",
    "print('diff: %s' % diff)\n",
    "print('Are they different (diff > margin)? -> %s' % (abs(diff) > margin))"
   ]
  },
  {
   "cell_type": "code",
   "execution_count": 35,
   "metadata": {},
   "outputs": [
    {
     "name": "stdout",
     "output_type": "stream",
     "text": [
      "iteration: 0\n",
      "sample size(N): 60\n",
      "margin: 0.07914361642937918\n",
      "diff: 0.08333333333333333\n",
      "Are they different (diff > margin)? -> True\n",
      "\n",
      "iteration: 1\n",
      "sample size(N): 110\n",
      "margin: 0.0766167739411112\n",
      "diff: -0.09999999999999999\n",
      "Are they different (diff > margin)? -> True\n",
      "\n",
      "iteration: 2\n",
      "sample size(N): 80\n",
      "margin: 0.09744540021162257\n",
      "diff: -0.125\n",
      "Are they different (diff > margin)? -> True\n",
      "\n",
      "iteration: 3\n",
      "sample size(N): 50\n",
      "margin: 0.08808942511903534\n",
      "diff: -0.22\n",
      "Are they different (diff > margin)? -> True\n",
      "\n",
      "iteration: 4\n",
      "sample size(N): 70\n",
      "margin: 0.0766797490164496\n",
      "diff: -0.0857142857142857\n",
      "Are they different (diff > margin)? -> True\n",
      "\n",
      "iteration: 5\n",
      "sample size(N): 190\n",
      "margin: 0.08509588412144824\n",
      "diff: -0.08947368421052632\n",
      "Are they different (diff > margin)? -> True\n",
      "\n",
      "iteration: 6\n",
      "sample size(N): 80\n",
      "margin: 0.07475374323890734\n",
      "diff: -0.0875\n",
      "Are they different (diff > margin)? -> True\n",
      "\n",
      "iteration: 7\n",
      "sample size(N): 50\n",
      "margin: 0.07437540387654738\n",
      "diff: 0.07999999999999999\n",
      "Are they different (diff > margin)? -> True\n",
      "\n",
      "iteration: 8\n",
      "sample size(N): 50\n",
      "margin: 0.06935060521371854\n",
      "diff: -0.09999999999999999\n",
      "Are they different (diff > margin)? -> True\n",
      "\n",
      "iteration: 9\n",
      "sample size(N): 70\n",
      "margin: 0.08876322683613097\n",
      "diff: 0.1285714285714286\n",
      "Are they different (diff > margin)? -> True\n",
      "\n"
     ]
    }
   ],
   "source": [
    "# TODO: при каком размере семплов различие в 1% будет значимым?\n",
    "\n",
    "for i in range(10):\n",
    "    print('iteration: %s' % i)\n",
    "    for sample_size in np.arange(50,1000,10):\n",
    "        sample1 = binomial(1, P1, sample_size)\n",
    "        sample2 = binomial(1, P2, sample_size)\n",
    "    \n",
    "        mean1 = np.mean(sample1)\n",
    "        mean2 = np.mean(sample2)\n",
    "        diff = mean1 - mean2\n",
    "    \n",
    "        P_pool = (np.sum(sample1 == 1) + np.sum(sample2 == 1)) / (N1 + N2) #доля успехов (\"вероятность успеха\")\n",
    "        std_pool = np.sqrt(mean1 * (1 - mean1) / N1 + mean2 * (1 - mean2) / N2)    \n",
    "        margin = z * std_pool\n",
    "    \n",
    "        if abs(diff) > margin:\n",
    "            print('sample size(N): %s' % sample_size)\n",
    "            print('margin: %s' % margin)\n",
    "            print('diff: %s' % diff)\n",
    "            print('Are they different (diff > margin)? -> %s\\n' % (abs(diff) > margin))\n",
    "            break"
   ]
  },
  {
   "cell_type": "code",
   "execution_count": null,
   "metadata": {},
   "outputs": [],
   "source": []
  }
 ],
 "metadata": {
  "kernelspec": {
   "display_name": "Python 3",
   "language": "python",
   "name": "python3"
  },
  "language_info": {
   "codemirror_mode": {
    "name": "ipython",
    "version": 3
   },
   "file_extension": ".py",
   "mimetype": "text/x-python",
   "name": "python",
   "nbconvert_exporter": "python",
   "pygments_lexer": "ipython3",
   "version": "3.6.6"
  }
 },
 "nbformat": 4,
 "nbformat_minor": 2
}
