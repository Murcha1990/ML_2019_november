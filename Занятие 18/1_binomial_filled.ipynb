{
 "cells": [
  {
   "cell_type": "markdown",
   "metadata": {},
   "source": [
    "# Связь биномиального распределения с нормальным\n",
    "\n",
    "### Цель: посмотреть, при каком количестве наблюдений в эксперименте вместо биномиального распределения можно использовать нормальное"
   ]
  },
  {
   "cell_type": "code",
   "execution_count": 89,
   "metadata": {},
   "outputs": [],
   "source": [
    "%matplotlib inline\n",
    "from matplotlib import pyplot as plt\n",
    "from scipy import stats as st\n",
    "import numpy as np\n",
    "from numpy.random import binomial\n",
    "from numpy.random import normal"
   ]
  },
  {
   "cell_type": "markdown",
   "metadata": {},
   "source": [
    "## Сгенерируем семпл данных\n",
    "\n",
    "Сгенерируем точки из биномиального распределения: N=20 точек с вероятностью P=0.1 успеха."
   ]
  },
  {
   "cell_type": "code",
   "execution_count": 90,
   "metadata": {},
   "outputs": [],
   "source": [
    "P = 0.1  # convertion rate\n",
    "N = 20   # sample size"
   ]
  },
  {
   "cell_type": "code",
   "execution_count": 91,
   "metadata": {},
   "outputs": [
    {
     "name": "stdout",
     "output_type": "stream",
     "text": [
      "sample: [0 0 0 0 0 0 0 0 0 0 0 0 0 1 0 0 0 0 0 0]\n",
      "mean: 0.05\n"
     ]
    }
   ],
   "source": [
    "sample = binomial(1, P, N)\n",
    "print('sample: %s' % sample)\n",
    "print('mean: %s' % np.mean(sample))"
   ]
  },
  {
   "cell_type": "markdown",
   "metadata": {},
   "source": [
    "## Оценим параметры распределения\n",
    "\n",
    "Проведем M=1000 таких экспериментов."
   ]
  },
  {
   "cell_type": "code",
   "execution_count": 92,
   "metadata": {},
   "outputs": [],
   "source": [
    "M = 1000  # number of experiments"
   ]
  },
  {
   "cell_type": "code",
   "execution_count": 93,
   "metadata": {},
   "outputs": [
    {
     "name": "stdout",
     "output_type": "stream",
     "text": [
      "experiemnts shape: 1000х20\n"
     ]
    }
   ],
   "source": [
    "experiments = binomial(1, P, (M, N))\n",
    "print('experiemnts shape: %sх%s' % experiments.shape)"
   ]
  },
  {
   "cell_type": "code",
   "execution_count": 94,
   "metadata": {},
   "outputs": [],
   "source": [
    "# TODO: оценить среднее для каждого эксперимента\n",
    "Means = [experiment.mean() for experiment in experiments]"
   ]
  },
  {
   "cell_type": "code",
   "execution_count": 95,
   "metadata": {},
   "outputs": [
    {
     "data": {
      "text/plain": [
       "0.06782116188919209"
      ]
     },
     "execution_count": 95,
     "metadata": {},
     "output_type": "execute_result"
    }
   ],
   "source": [
    "# TODO: оценить дисперсию средних\n",
    "np.std(Means)"
   ]
  },
  {
   "cell_type": "markdown",
   "metadata": {},
   "source": [
    "## Оценим зависимость дисперсии от числа наблюдений (в одном эксперименте)\n",
    "\n",
    "**Мы должны увидеть, что дисперсия убывает при увеличении N. Потому что дисперсия выборочного среднего равна $\\sigma^2/N,$ где $\\sigma^2 = P(1 - P)$ - дисперсия одного наблюдения.**"
   ]
  },
  {
   "cell_type": "code",
   "execution_count": 96,
   "metadata": {},
   "outputs": [
    {
     "data": {
      "text/plain": [
       "[<matplotlib.lines.Line2D at 0x1e8505be438>]"
      ]
     },
     "execution_count": 96,
     "metadata": {},
     "output_type": "execute_result"
    },
    {
     "data": {
      "image/png": "[encoded data removed]",
      "text/plain": [
       "<Figure size 432x288 with 1 Axes>"
      ]
     },
     "metadata": {
      "needs_background": "light"
     },
     "output_type": "display_data"
    }
   ],
   "source": [
    "# TODO: построить график зависимости дисперсии от числа наблюдений\n",
    "Stds = []\n",
    "\n",
    "for N in np.arange(10,1000,10):\n",
    "    experiments = binomial(1, P, (M, N))\n",
    "    \n",
    "    Means = [experiment.mean() for experiment in experiments]\n",
    "    std = np.std(Means)\n",
    "    Stds.append(std)\n",
    "    \n",
    "plt.plot(Stds)"
   ]
  },
  {
   "cell_type": "markdown",
   "metadata": {},
   "source": [
    "## Сравним распределение средних с нормальным\n",
    "(хотим понять, насколько хорошо наше биномиальное распределние приближается нормальным)\n",
    "\n",
    "**Такие mean и std должны теоретически получиться у нормального закона при достаточно большом N**"
   ]
  },
  {
   "cell_type": "code",
   "execution_count": 97,
   "metadata": {},
   "outputs": [],
   "source": [
    "# https://en.wikipedia.org/wiki/Bernoulli_distribution\n",
    "mean = P\n",
    "std = np.sqrt(P * (1 - P) / N)"
   ]
  },
  {
   "cell_type": "code",
   "execution_count": 101,
   "metadata": {},
   "outputs": [
    {
     "name": "stdout",
     "output_type": "stream",
     "text": [
      "0.09992424242424244 0.00922368664178208\n"
     ]
    },
    {
     "data": {
      "text/plain": [
       "Text(0.5, 1.0, 'Fit results: m = 0.10,  std = 0.01')"
      ]
     },
     "execution_count": 101,
     "metadata": {},
     "output_type": "execute_result"
    },
    {
     "data": {
      "image/png": "[encoded data removed]",
      "text/plain": [
       "<Figure size 432x288 with 1 Axes>"
      ]
     },
     "metadata": {
      "needs_background": "light"
     },
     "output_type": "display_data"
    }
   ],
   "source": [
    "# TODO: сравнить распределение с нормальным\n",
    "\n",
    "# Fit a normal distribution to the data:\n",
    "m, std = np.mean(Means), np.std(Means) #среднее и дисперсия у исходного бин.распределения и у нормального (которым приближаем) одинаковая\n",
    "\n",
    "# Plot the histogram.\n",
    "plt.hist(Means, bins=20, density=True, alpha=0.6, color='g')\n",
    "\n",
    "# Plot the PDF.\n",
    "xmin, xmax = plt.xlim()\n",
    "x = np.linspace(xmin, xmax, 100)\n",
    "p = norm.pdf(x, m, std)\n",
    "plt.plot(x, p, 'k', linewidth=2)\n",
    "title = \"Fit results: m = %.2f,  std = %.2f\" % (m, std)\n",
    "plt.title(title)"
   ]
  },
  {
   "cell_type": "code",
   "execution_count": 106,
   "metadata": {},
   "outputs": [
    {
     "data": {
      "text/plain": [
       "<matplotlib.axes._subplots.AxesSubplot at 0x1e85054b898>"
      ]
     },
     "execution_count": 106,
     "metadata": {},
     "output_type": "execute_result"
    },
    {
     "data": {
      "image/png": "[encoded data removed]",
      "text/plain": [
       "<Figure size 432x288 with 1 Axes>"
      ]
     },
     "metadata": {
      "needs_background": "light"
     },
     "output_type": "display_data"
    }
   ],
   "source": [
    "sns.distplot(Means, hist=True, kde=True,\n",
    "             bins=20, color = 'darkblue', \n",
    "             hist_kws={'edgecolor':'black'},\n",
    "             kde_kws={'linewidth': 4})"
   ]
  },
  {
   "cell_type": "markdown",
   "metadata": {},
   "source": [
    "## Доверительный интервал\n",
    "\n",
    "Доверительный интервал для истинного значения вероятности P."
   ]
  },
  {
   "cell_type": "code",
   "execution_count": 99,
   "metadata": {},
   "outputs": [
    {
     "name": "stdout",
     "output_type": "stream",
     "text": [
      "z: 1.959963984540054\n",
      "margin: 0.09992424242424244\n",
      "interval: 0.08192190637742393 0.11807809362257608\n"
     ]
    }
   ],
   "source": [
    "confidence = 0.975 #по 0.025 с каждой стороны, то есть вероятность попадания в интервал 95%.\n",
    "z = st.norm.ppf(confidence) #квантиль уровня 0.975\n",
    "margin = z * std #формула из статистики - отступ\n",
    "print('z: %s' % z)\n",
    "print('margin: %s' % m)\n",
    "print('interval: %s %s' % (P - margin, P + margin))"
   ]
  },
  {
   "cell_type": "markdown",
   "metadata": {},
   "source": [
    "**Должна быть примерно 0.05**"
   ]
  },
  {
   "cell_type": "code",
   "execution_count": 100,
   "metadata": {},
   "outputs": [
    {
     "data": {
      "text/plain": [
       "0.056"
      ]
     },
     "execution_count": 100,
     "metadata": {},
     "output_type": "execute_result"
    }
   ],
   "source": [
    "# TODO: оценить долю средних, вышедших за границы доверительного интервала в эксперименте\n",
    "MeansArr = np.array(Means)\n",
    "len(MeansArr[(MeansArr < P - margin) | (MeansArr > P + margin)]) / len(MeansArr)"
   ]
  }
 ],
 "metadata": {
  "kernelspec": {
   "display_name": "Python 3",
   "language": "python",
   "name": "python3"
  },
  "language_info": {
   "codemirror_mode": {
    "name": "ipython",
    "version": 3
   },
   "file_extension": ".py",
   "mimetype": "text/x-python",
   "name": "python",
   "nbconvert_exporter": "python",
   "pygments_lexer": "ipython3",
   "version": "3.6.6"
  }
 },
 "nbformat": 4,
 "nbformat_minor": 2
}
