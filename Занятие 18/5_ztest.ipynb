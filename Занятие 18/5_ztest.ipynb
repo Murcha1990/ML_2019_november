{
 "cells": [
  {
   "cell_type": "markdown",
   "metadata": {},
   "source": [
    "# Z-test\n",
    "https://en.wikipedia.org/wiki/Z-test"
   ]
  },
  {
   "cell_type": "code",
   "execution_count": 9,
   "metadata": {},
   "outputs": [],
   "source": [
    "%matplotlib inline\n",
    "from matplotlib import pyplot as plt\n",
    "import numpy as np\n",
    "import scipy.stats as st"
   ]
  },
  {
   "cell_type": "code",
   "execution_count": 10,
   "metadata": {},
   "outputs": [],
   "source": [
    "MEAN_A = 10           # среднее значение в эксперименте A\n",
    "MEAN_B = 12           # среднее значение в эксперименте B\n",
    "POPULATION_STD = 10.  # задаем дисперсию в популяции\n",
    "N_SAMPLES = 250       # число наблюдений в каждом из экспериментов"
   ]
  },
  {
   "cell_type": "code",
   "execution_count": 11,
   "metadata": {},
   "outputs": [],
   "source": [
    "# Семплируем данные экспериментов\n",
    "X_a = np.random.normal(loc=MEAN_A,\n",
    "                       scale=POPULATION_STD,\n",
    "                       size=N_SAMPLES)\n",
    "\n",
    "X_b = np.random.normal(loc=MEAN_B,\n",
    "                       scale=POPULATION_STD,\n",
    "                       size=N_SAMPLES)\n",
    "\n",
    "X_mean_a = np.mean(X_a)\n",
    "X_mean_b = np.mean(X_b)"
   ]
  },
  {
   "cell_type": "code",
   "execution_count": 12,
   "metadata": {},
   "outputs": [
    {
     "data": {
      "image/png": "[encoded data removed]",
      "text/plain": [
       "<Figure size 432x288 with 1 Axes>"
      ]
     },
     "metadata": {
      "needs_background": "light"
     },
     "output_type": "display_data"
    }
   ],
   "source": [
    "# Визуализируем данные экспериментов \n",
    "plt.hist([X_a, X_b])\n",
    "plt.axvline(x=X_mean_a, color='C0', linestyle='--')\n",
    "plt.axvline(x=X_mean_b, color='C1', linestyle='--')\n",
    "plt.ylabel('Count')\n",
    "plt.xlabel('Value')\n",
    "plt.title('Data histogram and mean')\n",
    "plt.legend(['X_a_mean %.3f' % X_mean_a,\n",
    "            'X_b_mean %.3f' % X_mean_b,\n",
    "            'X_a', 'X_b']);"
   ]
  },
  {
   "cell_type": "code",
   "execution_count": 13,
   "metadata": {},
   "outputs": [],
   "source": [
    "# Оцениваем стандартную ошибку\n",
    "se_a = se_b = POPULATION_STD / np.sqrt(N_SAMPLES)\n",
    "se_ab = np.sqrt(se_a ** 2 + se_b ** 2)  # стандартная ошибка разности"
   ]
  },
  {
   "cell_type": "markdown",
   "metadata": {},
   "source": [
    "Поймем, какой уровень значимости взять для критерия."
   ]
  },
  {
   "cell_type": "code",
   "execution_count": 16,
   "metadata": {},
   "outputs": [
    {
     "name": "stdout",
     "output_type": "stream",
     "text": [
      "diff=1.51 z=1.68 q=0.95\n"
     ]
    }
   ],
   "source": [
    "diff = (X_mean_b - X_mean_a)       # разность средних значений двух экспериментов\n",
    "z = diff / se_ab                   # вычисляем z-статистику\n",
    "z_quantile = st.norm.cdf(z)        # вычисляем квантиль z-статистики\n",
    "print('diff=%.2f z=%.2f q=%.2f' % (diff, z, z_quantile))"
   ]
  },
  {
   "cell_type": "markdown",
   "metadata": {},
   "source": [
    "Посмотрели на результат, поэтому зафиксируем уровень значимости 0.05 (=1-0.95). Тогда критерий выглядит так: если z_quantile > 0.95, то отвергаем гипотезу о равенстве распределений."
   ]
  },
  {
   "cell_type": "code",
   "execution_count": 18,
   "metadata": {},
   "outputs": [
    {
     "data": {
      "image/png": "[encoded data removed]",
      "text/plain": [
       "<Figure size 432x288 with 1 Axes>"
      ]
     },
     "metadata": {
      "needs_background": "light"
     },
     "output_type": "display_data"
    }
   ],
   "source": [
    "# Визуализируем z-распределение\n",
    "x = np.arange(-3, 3, 0.025)\n",
    "plt.plot(x, st.norm.pdf(x))\n",
    "plt.axvline(z, color='k', linestyle='--')\n",
    "plt.fill_between(x, st.norm.pdf(x), where=x<z)\n",
    "plt.title('z-distribution diff=%.2f z=%.2f q=0.95' % (diff, z));"
   ]
  },
  {
   "cell_type": "code",
   "execution_count": 26,
   "metadata": {},
   "outputs": [
    {
     "data": {
      "application/vnd.jupyter.widget-view+json": {
       "model_id": "daccb265d0154e3e9f045452ca869765",
       "version_major": 2,
       "version_minor": 0
      },
      "text/plain": [
       "HBox(children=(IntProgress(value=0, max=1000), HTML(value='')))"
      ]
     },
     "metadata": {},
     "output_type": "display_data"
    },
    {
     "name": "stdout",
     "output_type": "stream",
     "text": [
      "\n",
      "Мощность критерия: 0.74\n",
      "Доля ошибок критерия (ошибка 2 рода): 0.26\n"
     ]
    }
   ],
   "source": [
    "# TODO: проведите эксперимент и оцените долю ошибок критерия\n",
    "\n",
    "from tqdm import tqdm_notebook\n",
    "\n",
    "cnt = 0\n",
    "\n",
    "for i in tqdm_notebook(range(1000)):\n",
    "    X_a = np.random.normal(loc=MEAN_A,\n",
    "                       scale=POPULATION_STD,\n",
    "                       size=N_SAMPLES)\n",
    "\n",
    "    X_b = np.random.normal(loc=MEAN_B,\n",
    "                       scale=POPULATION_STD,\n",
    "                       size=N_SAMPLES)\n",
    "\n",
    "    X_mean_a = np.mean(X_a)\n",
    "    X_mean_b = np.mean(X_b)\n",
    "    \n",
    "    diff = (X_mean_b - X_mean_a)       # разность средних значений двух экспериментов\n",
    "    z = diff / se_ab                   # вычисляем z-статистику\n",
    "    z_quantile = st.norm.cdf(z)        # вычисляем квантиль z-статистики\n",
    "\n",
    "    if z_quantile > 0.95:\n",
    "        cnt += 1\n",
    "        \n",
    "print('Мощность критерия:', cnt/1000)\n",
    "print('Доля ошибок критерия (ошибка 2 рода):', 1-cnt/1000)"
   ]
  }
 ],
 "metadata": {
  "kernelspec": {
   "display_name": "Python 3",
   "language": "python",
   "name": "python3"
  },
  "language_info": {
   "codemirror_mode": {
    "name": "ipython",
    "version": 3
   },
   "file_extension": ".py",
   "mimetype": "text/x-python",
   "name": "python",
   "nbconvert_exporter": "python",
   "pygments_lexer": "ipython3",
   "version": "3.6.6"
  }
 },
 "nbformat": 4,
 "nbformat_minor": 2
}
