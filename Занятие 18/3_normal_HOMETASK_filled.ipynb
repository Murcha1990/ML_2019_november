{
 "cells": [
  {
   "cell_type": "markdown",
   "metadata": {},
   "source": [
    "# Зависимость дисперсии среднего от числа примеров в эксперименте (Домашнее задание)\n",
    "\n",
    "### Цель: построить доверительный интервал для среднего значения для нормального закона."
   ]
  },
  {
   "cell_type": "code",
   "execution_count": 18,
   "metadata": {},
   "outputs": [],
   "source": [
    "%matplotlib inline\n",
    "from matplotlib import pyplot as plt\n",
    "import numpy as np\n",
    "from scipy import stats as st"
   ]
  },
  {
   "cell_type": "code",
   "execution_count": 19,
   "metadata": {},
   "outputs": [],
   "source": [
    "# Функция генерации экспериментов\n",
    "def gen_experiments(mean=0, scale=10, n_samples=10, n_experiments=500):\n",
    "    return np.random.normal(loc=mean,\n",
    "                            scale=scale,\n",
    "                            size=(n_experiments, n_samples))"
   ]
  },
  {
   "cell_type": "code",
   "execution_count": 20,
   "metadata": {},
   "outputs": [
    {
     "data": {
      "text/plain": [
       "[<matplotlib.lines.Line2D at 0x236c661f9b0>]"
      ]
     },
     "execution_count": 20,
     "metadata": {},
     "output_type": "execute_result"
    },
    {
     "data": {
      "image/png": "[encoded data removed]",
      "text/plain": [
       "<Figure size 432x288 with 1 Axes>"
      ]
     },
     "metadata": {
      "needs_background": "light"
     },
     "output_type": "display_data"
    }
   ],
   "source": [
    "# TODO: оценить зависимость дисперсии \n",
    "#       от числа примеров в эксперименте\n",
    "#       (построить график)\n",
    "Stds = []\n",
    "\n",
    "for n_samples in np.arange(10,1000,10):\n",
    "    experiments = gen_experiments(n_samples=n_samples)\n",
    "    means = [np.mean(exp) for exp in experiments]\n",
    "    Stds.append(np.std(means))\n",
    "plt.plot(Stds)    "
   ]
  },
  {
   "cell_type": "markdown",
   "metadata": {},
   "source": [
    "## Доверительный интервал для среднего"
   ]
  },
  {
   "cell_type": "code",
   "execution_count": 21,
   "metadata": {},
   "outputs": [
    {
     "name": "stdout",
     "output_type": "stream",
     "text": [
      "interval: -6.159806340654356 6.304432059351397\n"
     ]
    }
   ],
   "source": [
    "# TODO: построить доверительный интервал для n_samples=10\n",
    "#       при уровне значимости 0.975 (95%)\n",
    "experiments = gen_experiments(n_samples=10)\n",
    "means = [np.mean(exp) for exp in experiments]\n",
    "m, std = np.mean(means), np.std(means) #среднее и дисперсия у исходного бин.распределения и у нормального (которым приближаем) одинаковая\n",
    "\n",
    "confidence = 0.975\n",
    "z = st.norm.ppf(confidence)\n",
    "margin = z * std\n",
    "\n",
    "print('interval: %s %s' % (m - margin, m + margin))"
   ]
  },
  {
   "cell_type": "code",
   "execution_count": 28,
   "metadata": {},
   "outputs": [
    {
     "data": {
      "text/plain": [
       "(0.91, 100)"
      ]
     },
     "execution_count": 28,
     "metadata": {},
     "output_type": "execute_result"
    }
   ],
   "source": [
    "# TODO: провести эксперимент и показать корректность полученного интервала \n",
    "# (провести 100 экспериментов и убедиться, что примерно 95 средних из 100 попадают \n",
    "# в построенный доверительный интервал)\n",
    "exp_test = gen_experiments(n_samples=10, n_experiments=100)\n",
    "means = np.array([np.mean(exp) for exp in exp_test])\n",
    "len(means[abs(means - m) < margin]) / len(means), len(means)"
   ]
  }
 ],
 "metadata": {
  "kernelspec": {
   "display_name": "Python 3",
   "language": "python",
   "name": "python3"
  },
  "language_info": {
   "codemirror_mode": {
    "name": "ipython",
    "version": 3
   },
   "file_extension": ".py",
   "mimetype": "text/x-python",
   "name": "python",
   "nbconvert_exporter": "python",
   "pygments_lexer": "ipython3",
   "version": "3.6.6"
  }
 },
 "nbformat": 4,
 "nbformat_minor": 2
}
