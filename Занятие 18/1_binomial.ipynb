{
 "cells": [
  {
   "cell_type": "markdown",
   "metadata": {},
   "source": [
    "# Связь биномиального распределения с нормальным\n",
    "\n",
    "### Цель: посмотреть, при каком количестве наблюдений в эксперименте вместо биномиального распределения можно использовать нормальное"
   ]
  },
  {
   "cell_type": "code",
   "execution_count": null,
   "metadata": {},
   "outputs": [],
   "source": [
    "%matplotlib inline\n",
    "from matplotlib import pyplot as plt\n",
    "from scipy import stats as st\n",
    "import numpy as np\n",
    "from numpy.random import binomial\n",
    "from numpy.random import normal"
   ]
  },
  {
   "cell_type": "markdown",
   "metadata": {},
   "source": [
    "## Сгенерируем семпл данных\n",
    "\n",
    "Сгенерируем точки из биномиального распределения: N=20 точек с вероятностью P=0.1 успеха."
   ]
  },
  {
   "cell_type": "code",
   "execution_count": null,
   "metadata": {},
   "outputs": [],
   "source": [
    "P = 0.1  # convertion rate\n",
    "N = 20   # sample size"
   ]
  },
  {
   "cell_type": "code",
   "execution_count": null,
   "metadata": {},
   "outputs": [],
   "source": [
    "sample = binomial(1, P, N)\n",
    "print('sample: %s' % sample)\n",
    "print('mean: %s' % np.mean(sample))"
   ]
  },
  {
   "cell_type": "markdown",
   "metadata": {},
   "source": [
    "## Оценим параметры распределения\n",
    "\n",
    "Проведем M=1000 таких экспериментов."
   ]
  },
  {
   "cell_type": "code",
   "execution_count": null,
   "metadata": {},
   "outputs": [],
   "source": [
    "M = 1000  # number of experiments"
   ]
  },
  {
   "cell_type": "code",
   "execution_count": null,
   "metadata": {},
   "outputs": [],
   "source": [
    "experiments = binomial(1, P, (M, N))\n",
    "print('experiemnts shape: %sх%s' % experiments.shape)"
   ]
  },
  {
   "cell_type": "code",
   "execution_count": null,
   "metadata": {},
   "outputs": [],
   "source": [
    "# TODO: оценить среднее для каждого эксперимента"
   ]
  },
  {
   "cell_type": "code",
   "execution_count": null,
   "metadata": {},
   "outputs": [],
   "source": [
    "# TODO: оценить дисперсию средних"
   ]
  },
  {
   "cell_type": "markdown",
   "metadata": {},
   "source": [
    "## Оценим зависимость дисперсии от числа наблюдений (в одном эксперименте)\n",
    "\n",
    "**Мы должны увидеть, что дисперсия убывает при увеличении N. Потому что дисперсия выборочного среднего равна $\\sigma^2/N,$ где $\\sigma^2 = P(1 - P)$ - дисперсия одного наблюдения.**"
   ]
  },
  {
   "cell_type": "code",
   "execution_count": null,
   "metadata": {},
   "outputs": [],
   "source": [
    "# TODO: построить график зависимости дисперсии от числа наблюдений"
   ]
  },
  {
   "cell_type": "markdown",
   "metadata": {},
   "source": [
    "## Сравним распределение средних с нормальным\n",
    "(хотим понять, насколько хорошо наше биномиальное распределние приближается нормальным)\n",
    "\n",
    "**Такие mean и std должны теоретически получиться у нормального закона при достаточно большом N**"
   ]
  },
  {
   "cell_type": "code",
   "execution_count": null,
   "metadata": {},
   "outputs": [],
   "source": [
    "# https://en.wikipedia.org/wiki/Bernoulli_distribution\n",
    "mean = P\n",
    "std = np.sqrt(P * (1 - P) / N)"
   ]
  },
  {
   "cell_type": "code",
   "execution_count": null,
   "metadata": {},
   "outputs": [],
   "source": [
    "# TODO: сравнить распределение с нормальным"
   ]
  },
  {
   "cell_type": "code",
   "execution_count": null,
   "metadata": {},
   "outputs": [],
   "source": [
    "sns.distplot(Means, hist=True, kde=True,\n",
    "             bins=20, color = 'darkblue', \n",
    "             hist_kws={'edgecolor':'black'},\n",
    "             kde_kws={'linewidth': 4})"
   ]
  },
  {
   "cell_type": "markdown",
   "metadata": {},
   "source": [
    "## Доверительный интервал\n",
    "\n",
    "Доверительный интервал для истинного значения вероятности P."
   ]
  },
  {
   "cell_type": "code",
   "execution_count": null,
   "metadata": {},
   "outputs": [],
   "source": [
    "confidence = 0.975 #по 0.025 с каждой стороны, то есть вероятность попадания в интервал 95%.\n",
    "z = st.norm.ppf(confidence) #квантиль уровня 0.975\n",
    "margin = z * std #формула из статистики - отступ\n",
    "print('z: %s' % z)\n",
    "print('margin: %s' % m)\n",
    "print('interval: %s %s' % (P - margin, P + margin))"
   ]
  },
  {
   "cell_type": "markdown",
   "metadata": {},
   "source": [
    "**Должна быть примерно 0.05**"
   ]
  },
  {
   "cell_type": "code",
   "execution_count": null,
   "metadata": {},
   "outputs": [],
   "source": [
    "# TODO: оценить долю средних, вышедших за границы доверительного интервала в эксперименте"
   ]
  }
 ],
 "metadata": {
  "kernelspec": {
   "display_name": "Python 3",
   "language": "python",
   "name": "python3"
  },
  "language_info": {
   "codemirror_mode": {
    "name": "ipython",
    "version": 3
   },
   "file_extension": ".py",
   "mimetype": "text/x-python",
   "name": "python",
   "nbconvert_exporter": "python",
   "pygments_lexer": "ipython3",
   "version": "3.6.6"
  }
 },
 "nbformat": 4,
 "nbformat_minor": 2
}
