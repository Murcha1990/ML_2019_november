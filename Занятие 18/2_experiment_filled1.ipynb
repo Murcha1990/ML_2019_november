{
 "cells": [
  {
   "cell_type": "markdown",
   "metadata": {},
   "source": [
    "# Анализ эксперимента\n",
    "\n",
    "### Цель: оценить результат эксперимента (сравнить средние значения двух выборок) с помощью доверительного интервала."
   ]
  },
  {
   "cell_type": "code",
   "execution_count": 2,
   "metadata": {},
   "outputs": [],
   "source": [
    "%matplotlib inline\n",
    "from matplotlib import pyplot as plt\n",
    "from scipy import stats as st\n",
    "import numpy as np\n",
    "from numpy.random import binomial\n",
    "from numpy.random import normal"
   ]
  },
  {
   "cell_type": "markdown",
   "metadata": {},
   "source": [
    "## Сгенерируем семплы\n",
    "\n",
    "Два набора данных, распределенных по биномиальному закону"
   ]
  },
  {
   "cell_type": "code",
   "execution_count": 5,
   "metadata": {},
   "outputs": [],
   "source": [
    "P1 = 0.1\n",
    "P2 = 0.11\n",
    "N1 = 100\n",
    "N2 = 100"
   ]
  },
  {
   "cell_type": "code",
   "execution_count": 6,
   "metadata": {},
   "outputs": [],
   "source": [
    "sample1 = binomial(1, P1, N1)\n",
    "sample2 = binomial(1, P2, N2)"
   ]
  },
  {
   "cell_type": "code",
   "execution_count": 7,
   "metadata": {},
   "outputs": [
    {
     "name": "stdout",
     "output_type": "stream",
     "text": [
      "mean1: 0.13\n",
      "mean2: 0.1\n",
      "mean1 - mean2: 0.03\n"
     ]
    }
   ],
   "source": [
    "mean1 = np.mean(sample1)\n",
    "mean2 = np.mean(sample2)\n",
    "diff = mean1 - mean2\n",
    "print('mean1: %s' % mean1)\n",
    "print('mean2: %s' % mean2)\n",
    "print('mean1 - mean2: %s' % diff)"
   ]
  },
  {
   "cell_type": "markdown",
   "metadata": {},
   "source": [
    "**Истинные вероятности отличаются на 0.01. Но в эксперименте получилось, что разность равна 0.03. Поэтому только на разность средних опираться нельзя, необходимо смотреть на распределения.**"
   ]
  },
  {
   "cell_type": "markdown",
   "metadata": {},
   "source": [
    "## Оценим выборочное (pooled) среднее и дисперсию\n",
    "\n",
    "Предполагаем, что выборки из одного и того же распределения. Считаем среднее и дисперсию для этого распределения."
   ]
  },
  {
   "cell_type": "code",
   "execution_count": 8,
   "metadata": {},
   "outputs": [],
   "source": [
    "P_pool = (np.sum(sample1 == 1) + np.sum(sample2 == 1)) / (N1 + N2) #доля успехов (\"вероятность успеха\")\n",
    "\n",
    "std_pool = np.sqrt(mean1 * (1 - mean1) / N1 + mean2 * (1 - mean2) / N2)"
   ]
  },
  {
   "cell_type": "code",
   "execution_count": 9,
   "metadata": {},
   "outputs": [
    {
     "name": "stdout",
     "output_type": "stream",
     "text": [
      "z: 1.959963984540054\n"
     ]
    }
   ],
   "source": [
    "confidence = 0.975\n",
    "z = st.norm.ppf(confidence)\n",
    "margin = z * std_pool\n",
    "print('z: %s' % z)"
   ]
  },
  {
   "cell_type": "markdown",
   "metadata": {},
   "source": [
    "## Случайно ли различие в средних?\n",
    "\n",
    "Гипотеза в том, что распределения одинаковы. Отвергаем её, если |diff| > margin."
   ]
  },
  {
   "cell_type": "code",
   "execution_count": 10,
   "metadata": {},
   "outputs": [
    {
     "name": "stdout",
     "output_type": "stream",
     "text": [
      "margin: 0.08832894692471868\n",
      "diff: 0.03\n",
      "Are they different (diff > margin)? -> False\n"
     ]
    }
   ],
   "source": [
    "print('margin: %s' % margin)\n",
    "print('diff: %s' % diff)\n",
    "print('Are they different (diff > margin)? -> %s' % (abs(diff) > margin))"
   ]
  },
  {
   "cell_type": "markdown",
   "metadata": {},
   "source": [
    "### Определить минимальное количество наблюдений в эксперименте, при котором различие вероятностей в 1% будет значимым: требуется построить критерий мощности 90%."
   ]
  },
  {
   "cell_type": "code",
   "execution_count": 22,
   "metadata": {},
   "outputs": [
    {
     "data": {
      "application/vnd.jupyter.widget-view+json": {
       "model_id": "aa0586433065461cabcc2a2b58ae1f70",
       "version_major": 2,
       "version_minor": 0
      },
      "text/plain": [
       "HBox(children=(IntProgress(value=0, max=90), HTML(value='')))"
      ]
     },
     "metadata": {},
     "output_type": "display_data"
    },
    {
     "name": "stdout",
     "output_type": "stream",
     "text": [
      "20000\n",
      "\n"
     ]
    }
   ],
   "source": [
    "#TODO: сгенерировать два набора экспериментов, в каждом по num_exp экспериментов с N наблюдениями\n",
    "#внутри эксперимента и с вероятностями P1 и P2.\n",
    "#Для каждого размера выборки N посчитать долю выборок, для которых abs(diff) > margin.\n",
    "#Нам нужно минимальное N такое, что эта доля >= 0.9 (N ищем в цикле).\n",
    "\n",
    "from tqdm import tqdm_notebook\n",
    "\n",
    "num_exp = 500\n",
    "Res = []\n",
    "\n",
    "for N in tqdm_notebook(np.arange(10000,100000,1000)): #ищем с маленьким шагом\n",
    "    experimentsA = ...\n",
    "    experimentsB = ...\n",
    "    \n",
    "    ..."
   ]
  },
  {
   "cell_type": "code",
   "execution_count": null,
   "metadata": {},
   "outputs": [],
   "source": []
  }
 ],
 "metadata": {
  "kernelspec": {
   "display_name": "Python 3",
   "language": "python",
   "name": "python3"
  },
  "language_info": {
   "codemirror_mode": {
    "name": "ipython",
    "version": 3
   },
   "file_extension": ".py",
   "mimetype": "text/x-python",
   "name": "python",
   "nbconvert_exporter": "python",
   "pygments_lexer": "ipython3",
   "version": "3.6.6"
  }
 },
 "nbformat": 4,
 "nbformat_minor": 2
}
