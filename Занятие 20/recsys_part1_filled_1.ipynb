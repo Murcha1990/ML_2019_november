{
 "cells": [
  {
   "cell_type": "markdown",
   "metadata": {},
   "source": [
    "# Метрики качества (ранжирования)\n",
    "\n",
    "https://habr.com/ru/company/econtenta/blog/303458/"
   ]
  },
  {
   "cell_type": "markdown",
   "metadata": {},
   "source": [
    "### Практика по groupby."
   ]
  },
  {
   "cell_type": "code",
   "execution_count": 1,
   "metadata": {},
   "outputs": [
    {
     "data": {
      "text/html": [
       "<div>\n",
       "<style scoped>\n",
       "    .dataframe tbody tr th:only-of-type {\n",
       "        vertical-align: middle;\n",
       "    }\n",
       "\n",
       "    .dataframe tbody tr th {\n",
       "        vertical-align: top;\n",
       "    }\n",
       "\n",
       "    .dataframe thead th {\n",
       "        text-align: right;\n",
       "    }\n",
       "</style>\n",
       "<table border=\"1\" class=\"dataframe\">\n",
       "  <thead>\n",
       "    <tr style=\"text-align: right;\">\n",
       "      <th></th>\n",
       "      <th>birthday_bio</th>\n",
       "      <th>first_name</th>\n",
       "      <th>gender_bio</th>\n",
       "      <th>last_name</th>\n",
       "      <th>religion_bio</th>\n",
       "      <th>suffix_name</th>\n",
       "    </tr>\n",
       "  </thead>\n",
       "  <tbody>\n",
       "    <tr>\n",
       "      <th>0</th>\n",
       "      <td>1745-04-02</td>\n",
       "      <td>Richard</td>\n",
       "      <td>M</td>\n",
       "      <td>Bassett</td>\n",
       "      <td>NaN</td>\n",
       "      <td>NaN</td>\n",
       "    </tr>\n",
       "    <tr>\n",
       "      <th>1</th>\n",
       "      <td>1742-03-21</td>\n",
       "      <td>Theodorick</td>\n",
       "      <td>M</td>\n",
       "      <td>Bland</td>\n",
       "      <td>NaN</td>\n",
       "      <td>NaN</td>\n",
       "    </tr>\n",
       "    <tr>\n",
       "      <th>2</th>\n",
       "      <td>1743-06-16</td>\n",
       "      <td>Aedanus</td>\n",
       "      <td>M</td>\n",
       "      <td>Burke</td>\n",
       "      <td>NaN</td>\n",
       "      <td>NaN</td>\n",
       "    </tr>\n",
       "    <tr>\n",
       "      <th>3</th>\n",
       "      <td>1730-07-22</td>\n",
       "      <td>Daniel</td>\n",
       "      <td>M</td>\n",
       "      <td>Carroll</td>\n",
       "      <td>NaN</td>\n",
       "      <td>NaN</td>\n",
       "    </tr>\n",
       "    <tr>\n",
       "      <th>4</th>\n",
       "      <td>1739-03-16</td>\n",
       "      <td>George</td>\n",
       "      <td>M</td>\n",
       "      <td>Clymer</td>\n",
       "      <td>NaN</td>\n",
       "      <td>NaN</td>\n",
       "    </tr>\n",
       "  </tbody>\n",
       "</table>\n",
       "</div>"
      ],
      "text/plain": [
       "  birthday_bio  first_name gender_bio last_name religion_bio suffix_name\n",
       "0   1745-04-02     Richard          M   Bassett          NaN         NaN\n",
       "1   1742-03-21  Theodorick          M     Bland          NaN         NaN\n",
       "2   1743-06-16     Aedanus          M     Burke          NaN         NaN\n",
       "3   1730-07-22      Daniel          M   Carroll          NaN         NaN\n",
       "4   1739-03-16      George          M    Clymer          NaN         NaN"
      ]
     },
     "execution_count": 1,
     "metadata": {},
     "output_type": "execute_result"
    }
   ],
   "source": [
    "import pandas as pd\n",
    "\n",
    "dtypes = {\n",
    "    \"first_name\": \"category\",\n",
    "    \"last_name\": \"category\",\n",
    "    \"gender_bio\": \"category\",\n",
    "    \"religion_bio\": \"category\",\n",
    "    \"suffix_name\": \"category\",\n",
    "}\n",
    "df = pd.read_csv(\n",
    "    \"legislators_historical.csv\",\n",
    "    dtype=dtypes,\n",
    "    usecols = ['last_name', 'first_name', 'gender_bio', 'birthday_bio', 'religion_bio', \\\n",
    "               'suffix_name']\n",
    ")\n",
    "\n",
    "df.head()"
   ]
  },
  {
   "cell_type": "code",
   "execution_count": 2,
   "metadata": {},
   "outputs": [
    {
     "data": {
      "text/plain": [
       "birthday_bio      object\n",
       "first_name      category\n",
       "gender_bio      category\n",
       "last_name       category\n",
       "religion_bio    category\n",
       "suffix_name     category\n",
       "dtype: object"
      ]
     },
     "execution_count": 2,
     "metadata": {},
     "output_type": "execute_result"
    }
   ],
   "source": [
    "df.dtypes"
   ]
  },
  {
   "cell_type": "markdown",
   "metadata": {},
   "source": [
    "Для каждой религии (religion_bio) вычислите количество её приверженцев.\n",
    "\n",
    "#### df.groupby(столбцы, по которым группируем)[[список отображаемых столбцов]].функция\n",
    "\n",
    "#### Функции: count, size, sum, mean, max, min, first, last"
   ]
  },
  {
   "cell_type": "code",
   "execution_count": 3,
   "metadata": {},
   "outputs": [
    {
     "data": {
      "text/plain": [
       "religion_bio\n",
       "African Methodist Episcopal                      1\n",
       "Assembly of God                                  3\n",
       "Baptist                                         44\n",
       "Catholic                                        32\n",
       "Christian                                       10\n",
       "Christian Reformed                               1\n",
       "Christian Scientist                              3\n",
       "Congregationalist                                4\n",
       "Episcopalian                                    31\n",
       "First Christian Church (Disciples of Christ)     2\n",
       "Name: last_name, dtype: int64"
      ]
     },
     "execution_count": 3,
     "metadata": {},
     "output_type": "execute_result"
    }
   ],
   "source": [
    "n_by_religion = df.groupby('religion_bio')['last_name'].count()\n",
    "n_by_religion.head(10)"
   ]
  },
  {
   "cell_type": "markdown",
   "metadata": {},
   "source": [
    "Вычислите количество приверженцев каждой религии каждого пола."
   ]
  },
  {
   "cell_type": "code",
   "execution_count": 4,
   "metadata": {
    "scrolled": true
   },
   "outputs": [
    {
     "data": {
      "text/plain": [
       "religion_bio                                  gender_bio\n",
       "African Methodist Episcopal                   F              1\n",
       "Assembly of God                               F              2\n",
       "                                              M              1\n",
       "Baptist                                       F              4\n",
       "                                              M             40\n",
       "Catholic                                      F              6\n",
       "                                              M             26\n",
       "Christian                                     M             10\n",
       "Christian Reformed                            M              1\n",
       "Christian Scientist                           M              3\n",
       "Congregationalist                             M              4\n",
       "Episcopalian                                  F              5\n",
       "                                              M             26\n",
       "First Christian Church (Disciples of Christ)  M              2\n",
       "Greek Orthodox                                F              1\n",
       "                                              M              2\n",
       "Jewish                                        F              3\n",
       "                                              M             21\n",
       "Latter Day Saints                             M             11\n",
       "Lutheran                                      F              3\n",
       "                                              M             15\n",
       "Methodist                                     F              3\n",
       "                                              M             37\n",
       "Moravian                                      F              1\n",
       "Non-Denominational                            M              1\n",
       "Presbyterian                                  F              7\n",
       "                                              M             28\n",
       "Protestant                                    M             23\n",
       "Reformed Church in America                    M              1\n",
       "Reformed Latter Day Saint                     M              1\n",
       "Roman Catholic                                F              4\n",
       "                                              M             59\n",
       "Second Baptist                                F              1\n",
       "Seventh-Day Adventist                         M              1\n",
       "Unitarian                                     M              2\n",
       "Unitarian Universalist                        F              1\n",
       "United Brethren in Christ                     M              1\n",
       "United Church of Christ                       F              1\n",
       "                                              M              3\n",
       "United Methodist                              M              2\n",
       "Unknown                                       M              1\n",
       "Zion Lutheran                                 M              1\n",
       "Name: last_name, dtype: int64"
      ]
     },
     "execution_count": 4,
     "metadata": {},
     "output_type": "execute_result"
    }
   ],
   "source": [
    "df.groupby(['religion_bio','gender_bio'])['last_name'].count()"
   ]
  },
  {
   "cell_type": "markdown",
   "metadata": {},
   "source": [
    "После применения groupby получаем объект типа pandas Series."
   ]
  },
  {
   "cell_type": "code",
   "execution_count": 5,
   "metadata": {},
   "outputs": [
    {
     "data": {
      "text/plain": [
       "pandas.core.series.Series"
      ]
     },
     "execution_count": 5,
     "metadata": {},
     "output_type": "execute_result"
    }
   ],
   "source": [
    "type(n_by_religion)"
   ]
  },
  {
   "cell_type": "markdown",
   "metadata": {},
   "source": [
    "Преобразуйте объект n_by_religion в dataframe."
   ]
  },
  {
   "cell_type": "code",
   "execution_count": 6,
   "metadata": {},
   "outputs": [
    {
     "data": {
      "text/html": [
       "<div>\n",
       "<style scoped>\n",
       "    .dataframe tbody tr th:only-of-type {\n",
       "        vertical-align: middle;\n",
       "    }\n",
       "\n",
       "    .dataframe tbody tr th {\n",
       "        vertical-align: top;\n",
       "    }\n",
       "\n",
       "    .dataframe thead th {\n",
       "        text-align: right;\n",
       "    }\n",
       "</style>\n",
       "<table border=\"1\" class=\"dataframe\">\n",
       "  <thead>\n",
       "    <tr style=\"text-align: right;\">\n",
       "      <th></th>\n",
       "      <th>religion_bio</th>\n",
       "      <th>last_name</th>\n",
       "    </tr>\n",
       "  </thead>\n",
       "  <tbody>\n",
       "    <tr>\n",
       "      <th>0</th>\n",
       "      <td>African Methodist Episcopal</td>\n",
       "      <td>1</td>\n",
       "    </tr>\n",
       "    <tr>\n",
       "      <th>1</th>\n",
       "      <td>Assembly of God</td>\n",
       "      <td>3</td>\n",
       "    </tr>\n",
       "    <tr>\n",
       "      <th>2</th>\n",
       "      <td>Baptist</td>\n",
       "      <td>44</td>\n",
       "    </tr>\n",
       "  </tbody>\n",
       "</table>\n",
       "</div>"
      ],
      "text/plain": [
       "                  religion_bio  last_name\n",
       "0  African Methodist Episcopal          1\n",
       "1              Assembly of God          3\n",
       "2                      Baptist         44"
      ]
     },
     "execution_count": 6,
     "metadata": {},
     "output_type": "execute_result"
    }
   ],
   "source": [
    "n_by_religion_df = n_by_religion.reset_index()\n",
    "n_by_religion_df.head(3)"
   ]
  },
  {
   "cell_type": "markdown",
   "metadata": {},
   "source": [
    "Выведите на экран для каждой религии last_name и gender_bio первого человека из df, который исповедует эту религию. На выходе получите dataframe."
   ]
  },
  {
   "cell_type": "code",
   "execution_count": 10,
   "metadata": {
    "scrolled": true
   },
   "outputs": [
    {
     "data": {
      "text/html": [
       "<div>\n",
       "<style scoped>\n",
       "    .dataframe tbody tr th:only-of-type {\n",
       "        vertical-align: middle;\n",
       "    }\n",
       "\n",
       "    .dataframe tbody tr th {\n",
       "        vertical-align: top;\n",
       "    }\n",
       "\n",
       "    .dataframe thead th {\n",
       "        text-align: right;\n",
       "    }\n",
       "</style>\n",
       "<table border=\"1\" class=\"dataframe\">\n",
       "  <thead>\n",
       "    <tr style=\"text-align: right;\">\n",
       "      <th></th>\n",
       "      <th>religion_bio</th>\n",
       "      <th>last_name</th>\n",
       "      <th>gender_bio</th>\n",
       "    </tr>\n",
       "  </thead>\n",
       "  <tbody>\n",
       "    <tr>\n",
       "      <th>0</th>\n",
       "      <td>African Methodist Episcopal</td>\n",
       "      <td>Majette</td>\n",
       "      <td>F</td>\n",
       "    </tr>\n",
       "    <tr>\n",
       "      <th>1</th>\n",
       "      <td>Assembly of God</td>\n",
       "      <td>Davis</td>\n",
       "      <td>F</td>\n",
       "    </tr>\n",
       "    <tr>\n",
       "      <th>2</th>\n",
       "      <td>Baptist</td>\n",
       "      <td>Hutchinson</td>\n",
       "      <td>M</td>\n",
       "    </tr>\n",
       "  </tbody>\n",
       "</table>\n",
       "</div>"
      ],
      "text/plain": [
       "                  religion_bio   last_name gender_bio\n",
       "0  African Methodist Episcopal     Majette          F\n",
       "1              Assembly of God       Davis          F\n",
       "2                      Baptist  Hutchinson          M"
      ]
     },
     "execution_count": 10,
     "metadata": {},
     "output_type": "execute_result"
    }
   ],
   "source": [
    "df_gen_name = df.groupby('religion_bio')[['last_name','gender_bio']] \\\n",
    "                .first() \\\n",
    "                .reset_index()\n",
    "df_gen_name.head(3)"
   ]
  },
  {
   "cell_type": "markdown",
   "metadata": {},
   "source": [
    "К полученной таблице примените groupby, чтобы выяснить, сколько раз каждый пол встречается в этой таблице."
   ]
  },
  {
   "cell_type": "code",
   "execution_count": 13,
   "metadata": {},
   "outputs": [
    {
     "data": {
      "text/plain": [
       "gender_bio\n",
       "F     6\n",
       "M    25\n",
       "Name: last_name, dtype: int64"
      ]
     },
     "execution_count": 13,
     "metadata": {},
     "output_type": "execute_result"
    }
   ],
   "source": [
    "df_gen_name.groupby('gender_bio')['last_name'].count()"
   ]
  },
  {
   "cell_type": "markdown",
   "metadata": {},
   "source": [
    "Заполните пропуски в столбце birthday_bio датой '1950-00-00'. \n",
    "\n",
    "Создайте столбец age, в котором вычислите возраст (в годах) каждого человека.\n",
    "\n",
    "С помощью groupby вычислите средний возраст для приверженцев каждой религии."
   ]
  },
  {
   "cell_type": "code",
   "execution_count": 16,
   "metadata": {
    "scrolled": true
   },
   "outputs": [
    {
     "data": {
      "text/plain": [
       "religion_bio\n",
       "African Methodist Episcopal                     65.000000\n",
       "Assembly of God                                 70.000000\n",
       "Baptist                                         72.590909\n",
       "Catholic                                        70.750000\n",
       "Christian                                       70.500000\n",
       "Christian Reformed                              86.000000\n",
       "Christian Scientist                             71.333333\n",
       "Congregationalist                               85.250000\n",
       "Episcopalian                                    73.870968\n",
       "First Christian Church (Disciples of Christ)    82.500000\n",
       "Greek Orthodox                                  83.333333\n",
       "Jewish                                          74.541667\n",
       "Latter Day Saints                               74.181818\n",
       "Lutheran                                        75.555556\n",
       "Methodist                                       76.150000\n",
       "Moravian                                        75.000000\n",
       "Non-Denominational                              73.000000\n",
       "Presbyterian                                    74.028571\n",
       "Protestant                                      74.434783\n",
       "Reformed Church in America                      67.000000\n",
       "Reformed Latter Day Saint                       86.000000\n",
       "Roman Catholic                                  73.857143\n",
       "Second Baptist                                  82.000000\n",
       "Seventh-Day Adventist                           94.000000\n",
       "Unitarian                                       80.500000\n",
       "Unitarian Universalist                          85.000000\n",
       "United Brethren in Christ                       70.000000\n",
       "United Church of Christ                         73.250000\n",
       "United Methodist                                76.000000\n",
       "Unknown                                         57.000000\n",
       "Zion Lutheran                                   88.000000\n",
       "Name: age, dtype: float64"
      ]
     },
     "execution_count": 16,
     "metadata": {},
     "output_type": "execute_result"
    }
   ],
   "source": [
    "#your code here\n",
    "df['birthday_bio'].fillna('1950-00-00', inplace=True)\n",
    "df['age'] = df['birthday_bio'].apply(lambda x: 2020-int(x.split('-')[0]))\n",
    "df.groupby('religion_bio')['age'].mean()"
   ]
  },
  {
   "cell_type": "code",
   "execution_count": 14,
   "metadata": {},
   "outputs": [
    {
     "data": {
      "text/plain": [
       "['1950', '00', '00']"
      ]
     },
     "execution_count": 14,
     "metadata": {},
     "output_type": "execute_result"
    }
   ],
   "source": [
    "'1950-00-00'.split('-')"
   ]
  },
  {
   "cell_type": "markdown",
   "metadata": {},
   "source": [
    "***np.in1d(array1, array2) - для каждого элемента array1 проверяет, присутствует ли он в array2.***"
   ]
  },
  {
   "cell_type": "code",
   "execution_count": 17,
   "metadata": {},
   "outputs": [
    {
     "data": {
      "text/plain": [
       "array([ True, False,  True, False,  True])"
      ]
     },
     "execution_count": 17,
     "metadata": {},
     "output_type": "execute_result"
    }
   ],
   "source": [
    "import numpy as np\n",
    "\n",
    "test = np.array([0, 1, 2, 5, 0])\n",
    "states = [0, 2]\n",
    "mask = np.in1d(test, states)\n",
    "mask"
   ]
  },
  {
   "cell_type": "markdown",
   "metadata": {},
   "source": [
    "### Рекомендательные системы. Часть 1."
   ]
  },
  {
   "cell_type": "markdown",
   "metadata": {},
   "source": [
    "В этом задании будем практиковаться в реализации рекомендательных систем.\n",
    "\n",
    "Воспользуемся небольшим датасетом с Kaggle: [Articles Sharing and Reading from CI&T Deskdrop](https://www.kaggle.com/gspmoreira/articles-sharing-reading-from-cit-deskdrop)."
   ]
  },
  {
   "cell_type": "code",
   "execution_count": 18,
   "metadata": {
    "ExecuteTime": {
     "end_time": "2019-06-08T12:13:51.359203Z",
     "start_time": "2019-06-08T12:13:50.732916Z"
    },
    "_cell_guid": "719f3966-e6fd-49c8-9f60-7bd741542450",
    "_uuid": "b61cd3125a7f8f991fc1bda85ae3cd26f74090ae"
   },
   "outputs": [],
   "source": [
    "import numpy as np\n",
    "import scipy\n",
    "import pandas as pd\n",
    "import math\n",
    "\n",
    "%matplotlib inline\n",
    "import matplotlib.pyplot as plt\n",
    "\n",
    "from tqdm import tqdm_notebook"
   ]
  },
  {
   "cell_type": "markdown",
   "metadata": {
    "_cell_guid": "5f5c826d-f3d5-42d3-a7e6-0343a44cdc9f",
    "_uuid": "26f1f70fd978957b26f8884fc5f82bfe9475c666"
   },
   "source": [
    "## Часть 0. Загрузка данных"
   ]
  },
  {
   "cell_type": "markdown",
   "metadata": {
    "_cell_guid": "3c48b62c-ad3b-4218-8fb2-2f0e86a16edc",
    "_uuid": "650c279eddc846a48274346e045cfb6e1f8895d5"
   },
   "source": [
    "Загрузим [Deskdrop dataset](https://www.kaggle.com/gspmoreira/articles-sharing-reading-from-cit-deskdrop), включающийся в себе логи за 1 год платформы, где пользователи читают статьи.\n",
    "\n",
    "Данные включают в себя 2 файла:  \n",
    "- **shared_articles.csv**\n",
    "- **users_interactions.csv**\n",
    "\n",
    "Как можно догадаться, в одном описания самих статей (нам понадобятся в контентных моделях), а в другом логи пользователей."
   ]
  },
  {
   "cell_type": "markdown",
   "metadata": {
    "_cell_guid": "c9ee29ff-1fee-4dc9-a3cb-e5301c17fded",
    "_uuid": "1e66e976d34d4e28f5a92241b0ea82a2a66363ea"
   },
   "source": [
    "#### shared_articles.csv"
   ]
  },
  {
   "cell_type": "markdown",
   "metadata": {
    "_cell_guid": "f09d2247-a40c-4aaf-90ce-15a8721a3036",
    "_uuid": "e64f4fa8a4751274bd2d37a0f45d2d3d664d6c3e"
   },
   "source": [
    "Так как в файле перечислены даже удалённые статьи, то мы их сразу удалим (на самом деле они могли бы быть нам полезны для подсчёта различных величин, хоть мы и не можем их рекомендовать)."
   ]
  },
  {
   "cell_type": "code",
   "execution_count": 19,
   "metadata": {
    "ExecuteTime": {
     "end_time": "2019-06-08T12:16:00.406328Z",
     "start_time": "2019-06-08T12:16:00.155932Z"
    },
    "_cell_guid": "e601f966-d03f-4edc-886f-ca3d511a8045",
    "_uuid": "569c301bd128f66f29b4d97c34171e4d1712015a"
   },
   "outputs": [
    {
     "data": {
      "text/html": [
       "<div>\n",
       "<style scoped>\n",
       "    .dataframe tbody tr th:only-of-type {\n",
       "        vertical-align: middle;\n",
       "    }\n",
       "\n",
       "    .dataframe tbody tr th {\n",
       "        vertical-align: top;\n",
       "    }\n",
       "\n",
       "    .dataframe thead th {\n",
       "        text-align: right;\n",
       "    }\n",
       "</style>\n",
       "<table border=\"1\" class=\"dataframe\">\n",
       "  <thead>\n",
       "    <tr style=\"text-align: right;\">\n",
       "      <th></th>\n",
       "      <th>timestamp</th>\n",
       "      <th>eventType</th>\n",
       "      <th>contentId</th>\n",
       "      <th>authorPersonId</th>\n",
       "      <th>authorSessionId</th>\n",
       "      <th>authorUserAgent</th>\n",
       "      <th>authorRegion</th>\n",
       "      <th>authorCountry</th>\n",
       "      <th>contentType</th>\n",
       "      <th>url</th>\n",
       "      <th>title</th>\n",
       "      <th>text</th>\n",
       "      <th>lang</th>\n",
       "    </tr>\n",
       "  </thead>\n",
       "  <tbody>\n",
       "    <tr>\n",
       "      <th>1</th>\n",
       "      <td>1459193988</td>\n",
       "      <td>CONTENT SHARED</td>\n",
       "      <td>-4110354420726924665</td>\n",
       "      <td>4340306774493623681</td>\n",
       "      <td>8940341205206233829</td>\n",
       "      <td>NaN</td>\n",
       "      <td>NaN</td>\n",
       "      <td>NaN</td>\n",
       "      <td>HTML</td>\n",
       "      <td>http://www.nytimes.com/2016/03/28/business/dea...</td>\n",
       "      <td>Ethereum, a Virtual Currency, Enables Transact...</td>\n",
       "      <td>All of this work is still very early. The firs...</td>\n",
       "      <td>en</td>\n",
       "    </tr>\n",
       "    <tr>\n",
       "      <th>2</th>\n",
       "      <td>1459194146</td>\n",
       "      <td>CONTENT SHARED</td>\n",
       "      <td>-7292285110016212249</td>\n",
       "      <td>4340306774493623681</td>\n",
       "      <td>8940341205206233829</td>\n",
       "      <td>NaN</td>\n",
       "      <td>NaN</td>\n",
       "      <td>NaN</td>\n",
       "      <td>HTML</td>\n",
       "      <td>http://cointelegraph.com/news/bitcoin-future-w...</td>\n",
       "      <td>Bitcoin Future: When GBPcoin of Branson Wins O...</td>\n",
       "      <td>The alarm clock wakes me at 8:00 with stream o...</td>\n",
       "      <td>en</td>\n",
       "    </tr>\n",
       "    <tr>\n",
       "      <th>3</th>\n",
       "      <td>1459194474</td>\n",
       "      <td>CONTENT SHARED</td>\n",
       "      <td>-6151852268067518688</td>\n",
       "      <td>3891637997717104548</td>\n",
       "      <td>-1457532940883382585</td>\n",
       "      <td>NaN</td>\n",
       "      <td>NaN</td>\n",
       "      <td>NaN</td>\n",
       "      <td>HTML</td>\n",
       "      <td>https://cloudplatform.googleblog.com/2016/03/G...</td>\n",
       "      <td>Google Data Center 360° Tour</td>\n",
       "      <td>We're excited to share the Google Data Center ...</td>\n",
       "      <td>en</td>\n",
       "    </tr>\n",
       "    <tr>\n",
       "      <th>4</th>\n",
       "      <td>1459194497</td>\n",
       "      <td>CONTENT SHARED</td>\n",
       "      <td>2448026894306402386</td>\n",
       "      <td>4340306774493623681</td>\n",
       "      <td>8940341205206233829</td>\n",
       "      <td>NaN</td>\n",
       "      <td>NaN</td>\n",
       "      <td>NaN</td>\n",
       "      <td>HTML</td>\n",
       "      <td>https://bitcoinmagazine.com/articles/ibm-wants...</td>\n",
       "      <td>IBM Wants to \"Evolve the Internet\" With Blockc...</td>\n",
       "      <td>The Aite Group projects the blockchain market ...</td>\n",
       "      <td>en</td>\n",
       "    </tr>\n",
       "    <tr>\n",
       "      <th>5</th>\n",
       "      <td>1459194522</td>\n",
       "      <td>CONTENT SHARED</td>\n",
       "      <td>-2826566343807132236</td>\n",
       "      <td>4340306774493623681</td>\n",
       "      <td>8940341205206233829</td>\n",
       "      <td>NaN</td>\n",
       "      <td>NaN</td>\n",
       "      <td>NaN</td>\n",
       "      <td>HTML</td>\n",
       "      <td>http://www.coindesk.com/ieee-blockchain-oxford...</td>\n",
       "      <td>IEEE to Talk Blockchain at Cloud Computing Oxf...</td>\n",
       "      <td>One of the largest and oldest organizations fo...</td>\n",
       "      <td>en</td>\n",
       "    </tr>\n",
       "  </tbody>\n",
       "</table>\n",
       "</div>"
      ],
      "text/plain": [
       "    timestamp       eventType            contentId       authorPersonId  \\\n",
       "1  1459193988  CONTENT SHARED -4110354420726924665  4340306774493623681   \n",
       "2  1459194146  CONTENT SHARED -7292285110016212249  4340306774493623681   \n",
       "3  1459194474  CONTENT SHARED -6151852268067518688  3891637997717104548   \n",
       "4  1459194497  CONTENT SHARED  2448026894306402386  4340306774493623681   \n",
       "5  1459194522  CONTENT SHARED -2826566343807132236  4340306774493623681   \n",
       "\n",
       "       authorSessionId authorUserAgent authorRegion authorCountry contentType  \\\n",
       "1  8940341205206233829             NaN          NaN           NaN        HTML   \n",
       "2  8940341205206233829             NaN          NaN           NaN        HTML   \n",
       "3 -1457532940883382585             NaN          NaN           NaN        HTML   \n",
       "4  8940341205206233829             NaN          NaN           NaN        HTML   \n",
       "5  8940341205206233829             NaN          NaN           NaN        HTML   \n",
       "\n",
       "                                                 url  \\\n",
       "1  http://www.nytimes.com/2016/03/28/business/dea...   \n",
       "2  http://cointelegraph.com/news/bitcoin-future-w...   \n",
       "3  https://cloudplatform.googleblog.com/2016/03/G...   \n",
       "4  https://bitcoinmagazine.com/articles/ibm-wants...   \n",
       "5  http://www.coindesk.com/ieee-blockchain-oxford...   \n",
       "\n",
       "                                               title  \\\n",
       "1  Ethereum, a Virtual Currency, Enables Transact...   \n",
       "2  Bitcoin Future: When GBPcoin of Branson Wins O...   \n",
       "3                       Google Data Center 360° Tour   \n",
       "4  IBM Wants to \"Evolve the Internet\" With Blockc...   \n",
       "5  IEEE to Talk Blockchain at Cloud Computing Oxf...   \n",
       "\n",
       "                                                text lang  \n",
       "1  All of this work is still very early. The firs...   en  \n",
       "2  The alarm clock wakes me at 8:00 with stream o...   en  \n",
       "3  We're excited to share the Google Data Center ...   en  \n",
       "4  The Aite Group projects the blockchain market ...   en  \n",
       "5  One of the largest and oldest organizations fo...   en  "
      ]
     },
     "execution_count": 19,
     "metadata": {},
     "output_type": "execute_result"
    }
   ],
   "source": [
    "articles_df = pd.read_csv('shared_articles.csv')\n",
    "articles_df = articles_df[articles_df['eventType'] == 'CONTENT SHARED']\n",
    "articles_df.head(5)"
   ]
  },
  {
   "cell_type": "markdown",
   "metadata": {
    "_cell_guid": "487936d5-d7b3-487d-9ef1-e3ba1e4bc421",
    "_uuid": "3f96f2d88fa86814e2fa1273d80f26d2559823fd"
   },
   "source": [
    "#### users_interactions.csv"
   ]
  },
  {
   "cell_type": "markdown",
   "metadata": {
    "_cell_guid": "325b8db8-ef44-4b59-8138-2a59bd02d66e",
    "_uuid": "86694f1b80b04b8f9b961148fb265f355f202b26"
   },
   "source": [
    "В колонке eventType описаны действия, которые могли совершать пользователи над статьёй:  \n",
    "- VIEW\n",
    "- LIKE\n",
    "- COMMENT CREATED\n",
    "- FOLLOW\n",
    "- BOOKMARK"
   ]
  },
  {
   "cell_type": "code",
   "execution_count": 20,
   "metadata": {
    "ExecuteTime": {
     "end_time": "2019-06-08T12:16:39.556603Z",
     "start_time": "2019-06-08T12:16:39.372857Z"
    },
    "_cell_guid": "445d39ec-f6b0-4155-9f92-0a2540918bd1",
    "_uuid": "9829842326037e364de457f832deceae074d6164"
   },
   "outputs": [
    {
     "data": {
      "text/html": [
       "<div>\n",
       "<style scoped>\n",
       "    .dataframe tbody tr th:only-of-type {\n",
       "        vertical-align: middle;\n",
       "    }\n",
       "\n",
       "    .dataframe tbody tr th {\n",
       "        vertical-align: top;\n",
       "    }\n",
       "\n",
       "    .dataframe thead th {\n",
       "        text-align: right;\n",
       "    }\n",
       "</style>\n",
       "<table border=\"1\" class=\"dataframe\">\n",
       "  <thead>\n",
       "    <tr style=\"text-align: right;\">\n",
       "      <th></th>\n",
       "      <th>timestamp</th>\n",
       "      <th>eventType</th>\n",
       "      <th>contentId</th>\n",
       "      <th>personId</th>\n",
       "      <th>sessionId</th>\n",
       "      <th>userAgent</th>\n",
       "      <th>userRegion</th>\n",
       "      <th>userCountry</th>\n",
       "    </tr>\n",
       "  </thead>\n",
       "  <tbody>\n",
       "    <tr>\n",
       "      <th>0</th>\n",
       "      <td>1465413032</td>\n",
       "      <td>VIEW</td>\n",
       "      <td>-3499919498720038879</td>\n",
       "      <td>-8845298781299428018</td>\n",
       "      <td>1264196770339959068</td>\n",
       "      <td>NaN</td>\n",
       "      <td>NaN</td>\n",
       "      <td>NaN</td>\n",
       "    </tr>\n",
       "    <tr>\n",
       "      <th>1</th>\n",
       "      <td>1465412560</td>\n",
       "      <td>VIEW</td>\n",
       "      <td>8890720798209849691</td>\n",
       "      <td>-1032019229384696495</td>\n",
       "      <td>3621737643587579081</td>\n",
       "      <td>Mozilla/5.0 (Macintosh; Intel Mac OS X 10_11_2...</td>\n",
       "      <td>NY</td>\n",
       "      <td>US</td>\n",
       "    </tr>\n",
       "    <tr>\n",
       "      <th>2</th>\n",
       "      <td>1465416190</td>\n",
       "      <td>VIEW</td>\n",
       "      <td>310515487419366995</td>\n",
       "      <td>-1130272294246983140</td>\n",
       "      <td>2631864456530402479</td>\n",
       "      <td>NaN</td>\n",
       "      <td>NaN</td>\n",
       "      <td>NaN</td>\n",
       "    </tr>\n",
       "    <tr>\n",
       "      <th>3</th>\n",
       "      <td>1465413895</td>\n",
       "      <td>FOLLOW</td>\n",
       "      <td>310515487419366995</td>\n",
       "      <td>344280948527967603</td>\n",
       "      <td>-3167637573980064150</td>\n",
       "      <td>NaN</td>\n",
       "      <td>NaN</td>\n",
       "      <td>NaN</td>\n",
       "    </tr>\n",
       "    <tr>\n",
       "      <th>4</th>\n",
       "      <td>1465412290</td>\n",
       "      <td>VIEW</td>\n",
       "      <td>-7820640624231356730</td>\n",
       "      <td>-445337111692715325</td>\n",
       "      <td>5611481178424124714</td>\n",
       "      <td>NaN</td>\n",
       "      <td>NaN</td>\n",
       "      <td>NaN</td>\n",
       "    </tr>\n",
       "    <tr>\n",
       "      <th>5</th>\n",
       "      <td>1465413742</td>\n",
       "      <td>VIEW</td>\n",
       "      <td>310515487419366995</td>\n",
       "      <td>-8763398617720485024</td>\n",
       "      <td>1395789369402380392</td>\n",
       "      <td>Mozilla/5.0 (Windows NT 10.0; WOW64) AppleWebK...</td>\n",
       "      <td>MG</td>\n",
       "      <td>BR</td>\n",
       "    </tr>\n",
       "    <tr>\n",
       "      <th>6</th>\n",
       "      <td>1465415950</td>\n",
       "      <td>VIEW</td>\n",
       "      <td>-8864073373672512525</td>\n",
       "      <td>3609194402293569455</td>\n",
       "      <td>1143207167886864524</td>\n",
       "      <td>NaN</td>\n",
       "      <td>NaN</td>\n",
       "      <td>NaN</td>\n",
       "    </tr>\n",
       "    <tr>\n",
       "      <th>7</th>\n",
       "      <td>1465415066</td>\n",
       "      <td>VIEW</td>\n",
       "      <td>-1492913151930215984</td>\n",
       "      <td>4254153380739593270</td>\n",
       "      <td>8743229464706506141</td>\n",
       "      <td>Mozilla/5.0 (X11; Linux x86_64) AppleWebKit/53...</td>\n",
       "      <td>SP</td>\n",
       "      <td>BR</td>\n",
       "    </tr>\n",
       "    <tr>\n",
       "      <th>8</th>\n",
       "      <td>1465413762</td>\n",
       "      <td>VIEW</td>\n",
       "      <td>310515487419366995</td>\n",
       "      <td>344280948527967603</td>\n",
       "      <td>-3167637573980064150</td>\n",
       "      <td>NaN</td>\n",
       "      <td>NaN</td>\n",
       "      <td>NaN</td>\n",
       "    </tr>\n",
       "    <tr>\n",
       "      <th>9</th>\n",
       "      <td>1465413771</td>\n",
       "      <td>VIEW</td>\n",
       "      <td>3064370296170038610</td>\n",
       "      <td>3609194402293569455</td>\n",
       "      <td>1143207167886864524</td>\n",
       "      <td>NaN</td>\n",
       "      <td>NaN</td>\n",
       "      <td>NaN</td>\n",
       "    </tr>\n",
       "  </tbody>\n",
       "</table>\n",
       "</div>"
      ],
      "text/plain": [
       "    timestamp eventType            contentId             personId  \\\n",
       "0  1465413032      VIEW -3499919498720038879 -8845298781299428018   \n",
       "1  1465412560      VIEW  8890720798209849691 -1032019229384696495   \n",
       "2  1465416190      VIEW   310515487419366995 -1130272294246983140   \n",
       "3  1465413895    FOLLOW   310515487419366995   344280948527967603   \n",
       "4  1465412290      VIEW -7820640624231356730  -445337111692715325   \n",
       "5  1465413742      VIEW   310515487419366995 -8763398617720485024   \n",
       "6  1465415950      VIEW -8864073373672512525  3609194402293569455   \n",
       "7  1465415066      VIEW -1492913151930215984  4254153380739593270   \n",
       "8  1465413762      VIEW   310515487419366995   344280948527967603   \n",
       "9  1465413771      VIEW  3064370296170038610  3609194402293569455   \n",
       "\n",
       "             sessionId                                          userAgent  \\\n",
       "0  1264196770339959068                                                NaN   \n",
       "1  3621737643587579081  Mozilla/5.0 (Macintosh; Intel Mac OS X 10_11_2...   \n",
       "2  2631864456530402479                                                NaN   \n",
       "3 -3167637573980064150                                                NaN   \n",
       "4  5611481178424124714                                                NaN   \n",
       "5  1395789369402380392  Mozilla/5.0 (Windows NT 10.0; WOW64) AppleWebK...   \n",
       "6  1143207167886864524                                                NaN   \n",
       "7  8743229464706506141  Mozilla/5.0 (X11; Linux x86_64) AppleWebKit/53...   \n",
       "8 -3167637573980064150                                                NaN   \n",
       "9  1143207167886864524                                                NaN   \n",
       "\n",
       "  userRegion userCountry  \n",
       "0        NaN         NaN  \n",
       "1         NY          US  \n",
       "2        NaN         NaN  \n",
       "3        NaN         NaN  \n",
       "4        NaN         NaN  \n",
       "5         MG          BR  \n",
       "6        NaN         NaN  \n",
       "7         SP          BR  \n",
       "8        NaN         NaN  \n",
       "9        NaN         NaN  "
      ]
     },
     "execution_count": 20,
     "metadata": {},
     "output_type": "execute_result"
    }
   ],
   "source": [
    "interactions_df = pd.read_csv('users_interactions.csv')\n",
    "interactions_df.head(10)"
   ]
  },
  {
   "cell_type": "code",
   "execution_count": 21,
   "metadata": {
    "ExecuteTime": {
     "end_time": "2019-06-08T12:16:56.358693Z",
     "start_time": "2019-06-08T12:16:56.140532Z"
    }
   },
   "outputs": [],
   "source": [
    "interactions_df.personId = interactions_df.personId.astype(str)\n",
    "interactions_df.contentId = interactions_df.contentId.astype(str)\n",
    "articles_df.contentId = articles_df.contentId.astype(str)"
   ]
  },
  {
   "cell_type": "markdown",
   "metadata": {
    "_cell_guid": "585f81a5-c6ff-4399-bbec-901c41fc7285",
    "_uuid": "6abb0af8474eabb50be7a9e6496bfa75ec1b2bd9"
   },
   "source": [
    "### Предобработка данных"
   ]
  },
  {
   "cell_type": "markdown",
   "metadata": {
    "_cell_guid": "bad1a6c9-0258-4b89-85f9-bec89a523662",
    "_uuid": "84c2e91561d5de6afa7c45c173022193664c770e"
   },
   "source": [
    "В логах встречаются различные действия пользователей. Однако мы хотим работать лишь с одной величиной, характеризующей всё взаимодействие пользователя со статьёй. Предлагается задать действиям следующие веса:"
   ]
  },
  {
   "cell_type": "code",
   "execution_count": 23,
   "metadata": {
    "ExecuteTime": {
     "end_time": "2019-06-08T12:20:34.791326Z",
     "start_time": "2019-06-08T12:20:34.786347Z"
    },
    "_cell_guid": "3239c376-05b8-4a58-9afc-f6f57f67405f",
    "_uuid": "b06f8c0b082f0ad07bf773a5ad2fae33c1f7acc2"
   },
   "outputs": [],
   "source": [
    "event_type_strength = {\n",
    "   'VIEW': 1.0,\n",
    "   'LIKE': 2.0, \n",
    "   'BOOKMARK': 2.5, \n",
    "   'FOLLOW': 3.0,\n",
    "   'COMMENT CREATED': 4.0,  \n",
    "}"
   ]
  },
  {
   "cell_type": "markdown",
   "metadata": {},
   "source": [
    "Посчитайте числовую величину \"оценки\" пользователем статьи с указанными выше весами."
   ]
  },
  {
   "cell_type": "code",
   "execution_count": 24,
   "metadata": {
    "scrolled": true
   },
   "outputs": [
    {
     "data": {
      "text/plain": [
       "0        1.0\n",
       "1        1.0\n",
       "2        1.0\n",
       "3        3.0\n",
       "4        1.0\n",
       "5        1.0\n",
       "6        1.0\n",
       "7        1.0\n",
       "8        1.0\n",
       "9        1.0\n",
       "10       1.0\n",
       "11       1.0\n",
       "12       1.0\n",
       "13       1.0\n",
       "14       1.0\n",
       "15       1.0\n",
       "16       1.0\n",
       "17       1.0\n",
       "18       1.0\n",
       "19       1.0\n",
       "20       1.0\n",
       "21       1.0\n",
       "22       1.0\n",
       "23       1.0\n",
       "24       1.0\n",
       "25       2.5\n",
       "26       1.0\n",
       "27       2.5\n",
       "28       1.0\n",
       "29       1.0\n",
       "        ... \n",
       "72282    1.0\n",
       "72283    2.0\n",
       "72284    1.0\n",
       "72285    1.0\n",
       "72286    1.0\n",
       "72287    2.0\n",
       "72288    1.0\n",
       "72289    1.0\n",
       "72290    1.0\n",
       "72291    1.0\n",
       "72292    1.0\n",
       "72293    1.0\n",
       "72294    1.0\n",
       "72295    2.5\n",
       "72296    1.0\n",
       "72297    1.0\n",
       "72298    1.0\n",
       "72299    1.0\n",
       "72300    1.0\n",
       "72301    1.0\n",
       "72302    1.0\n",
       "72303    1.0\n",
       "72304    2.5\n",
       "72305    1.0\n",
       "72306    1.0\n",
       "72307    2.0\n",
       "72308    1.0\n",
       "72309    1.0\n",
       "72310    1.0\n",
       "72311    1.0\n",
       "Name: eventStrength, Length: 72312, dtype: float64"
      ]
     },
     "execution_count": 24,
     "metadata": {},
     "output_type": "execute_result"
    }
   ],
   "source": [
    "interactions_df['eventStrength'] = interactions_df['eventType'].apply(\n",
    "                                        lambda x: event_type_strength[x])\n",
    "\n",
    "# interactions_df['eventStrength'] = interactions_df['eventType'].map(\n",
    "#                                                     event_type_strength)\n",
    "interactions_df['eventStrength']"
   ]
  },
  {
   "cell_type": "code",
   "execution_count": 25,
   "metadata": {
    "ExecuteTime": {
     "end_time": "2019-06-08T12:21:05.121038Z",
     "start_time": "2019-06-08T12:21:04.816436Z"
    }
   },
   "outputs": [
    {
     "data": {
      "text/plain": [
       "<matplotlib.axes._subplots.AxesSubplot at 0x16c141c6e80>"
      ]
     },
     "execution_count": 25,
     "metadata": {},
     "output_type": "execute_result"
    },
    {
     "data": {
      "image/png": "[encoded data removed]",
      "text/plain": [
       "<Figure size 432x288 with 1 Axes>"
      ]
     },
     "metadata": {
      "needs_background": "light"
     },
     "output_type": "display_data"
    }
   ],
   "source": [
    "interactions_df.eventStrength.hist(bins=20)"
   ]
  },
  {
   "cell_type": "markdown",
   "metadata": {
    "_cell_guid": "5c92aa80-2926-44db-b358-c4c32de806c4",
    "_uuid": "91100a395fdf4fb20df02c8d248072457c980b5d"
   },
   "source": [
    "Ремендательные системы подвержены проблеме холодного старта. В рамках данного задания предлагается работать только с теми пользователями, которые взаимодействовали хотя бы с 5 материалами.\n",
    "\n",
    "Оставьте только таких пользователей. Их должно остаться 1140.\n",
    "\n",
    "1. Создайте с помощью groupby объект users_interactions_count_df, в котором для каждого пользователя оставьте только первое взаимодействие с каждой статьей. Затем сгруппируйте полученную таблицу по пользователям для подсчета количества статей, с которыми взаимодействовал пользователь.\n",
    "\n",
    "2. Создайте таблицу users_with_enough_interactions_df, в которой оставьте только пользователей\n",
    "(users_interactions_count_df), которые взаимодействовали хотя бы с пятью статьями."
   ]
  },
  {
   "cell_type": "code",
   "execution_count": 31,
   "metadata": {},
   "outputs": [
    {
     "data": {
      "text/html": [
       "<div>\n",
       "<style scoped>\n",
       "    .dataframe tbody tr th:only-of-type {\n",
       "        vertical-align: middle;\n",
       "    }\n",
       "\n",
       "    .dataframe tbody tr th {\n",
       "        vertical-align: top;\n",
       "    }\n",
       "\n",
       "    .dataframe thead th {\n",
       "        text-align: right;\n",
       "    }\n",
       "</style>\n",
       "<table border=\"1\" class=\"dataframe\">\n",
       "  <thead>\n",
       "    <tr style=\"text-align: right;\">\n",
       "      <th></th>\n",
       "      <th>timestamp</th>\n",
       "      <th>eventType</th>\n",
       "      <th>contentId</th>\n",
       "      <th>personId</th>\n",
       "      <th>sessionId</th>\n",
       "      <th>userAgent</th>\n",
       "      <th>userRegion</th>\n",
       "      <th>userCountry</th>\n",
       "      <th>eventStrength</th>\n",
       "    </tr>\n",
       "  </thead>\n",
       "  <tbody>\n",
       "    <tr>\n",
       "      <th>0</th>\n",
       "      <td>1465413032</td>\n",
       "      <td>VIEW</td>\n",
       "      <td>-3499919498720038879</td>\n",
       "      <td>-8845298781299428018</td>\n",
       "      <td>1264196770339959068</td>\n",
       "      <td>NaN</td>\n",
       "      <td>NaN</td>\n",
       "      <td>NaN</td>\n",
       "      <td>1.0</td>\n",
       "    </tr>\n",
       "    <tr>\n",
       "      <th>1</th>\n",
       "      <td>1465412560</td>\n",
       "      <td>VIEW</td>\n",
       "      <td>8890720798209849691</td>\n",
       "      <td>-1032019229384696495</td>\n",
       "      <td>3621737643587579081</td>\n",
       "      <td>Mozilla/5.0 (Macintosh; Intel Mac OS X 10_11_2...</td>\n",
       "      <td>NY</td>\n",
       "      <td>US</td>\n",
       "      <td>1.0</td>\n",
       "    </tr>\n",
       "    <tr>\n",
       "      <th>2</th>\n",
       "      <td>1465416190</td>\n",
       "      <td>VIEW</td>\n",
       "      <td>310515487419366995</td>\n",
       "      <td>-1130272294246983140</td>\n",
       "      <td>2631864456530402479</td>\n",
       "      <td>NaN</td>\n",
       "      <td>NaN</td>\n",
       "      <td>NaN</td>\n",
       "      <td>1.0</td>\n",
       "    </tr>\n",
       "    <tr>\n",
       "      <th>3</th>\n",
       "      <td>1465413895</td>\n",
       "      <td>FOLLOW</td>\n",
       "      <td>310515487419366995</td>\n",
       "      <td>344280948527967603</td>\n",
       "      <td>-3167637573980064150</td>\n",
       "      <td>NaN</td>\n",
       "      <td>NaN</td>\n",
       "      <td>NaN</td>\n",
       "      <td>3.0</td>\n",
       "    </tr>\n",
       "    <tr>\n",
       "      <th>4</th>\n",
       "      <td>1465412290</td>\n",
       "      <td>VIEW</td>\n",
       "      <td>-7820640624231356730</td>\n",
       "      <td>-445337111692715325</td>\n",
       "      <td>5611481178424124714</td>\n",
       "      <td>NaN</td>\n",
       "      <td>NaN</td>\n",
       "      <td>NaN</td>\n",
       "      <td>1.0</td>\n",
       "    </tr>\n",
       "    <tr>\n",
       "      <th>5</th>\n",
       "      <td>1465413742</td>\n",
       "      <td>VIEW</td>\n",
       "      <td>310515487419366995</td>\n",
       "      <td>-8763398617720485024</td>\n",
       "      <td>1395789369402380392</td>\n",
       "      <td>Mozilla/5.0 (Windows NT 10.0; WOW64) AppleWebK...</td>\n",
       "      <td>MG</td>\n",
       "      <td>BR</td>\n",
       "      <td>1.0</td>\n",
       "    </tr>\n",
       "    <tr>\n",
       "      <th>6</th>\n",
       "      <td>1465415950</td>\n",
       "      <td>VIEW</td>\n",
       "      <td>-8864073373672512525</td>\n",
       "      <td>3609194402293569455</td>\n",
       "      <td>1143207167886864524</td>\n",
       "      <td>NaN</td>\n",
       "      <td>NaN</td>\n",
       "      <td>NaN</td>\n",
       "      <td>1.0</td>\n",
       "    </tr>\n",
       "    <tr>\n",
       "      <th>7</th>\n",
       "      <td>1465415066</td>\n",
       "      <td>VIEW</td>\n",
       "      <td>-1492913151930215984</td>\n",
       "      <td>4254153380739593270</td>\n",
       "      <td>8743229464706506141</td>\n",
       "      <td>Mozilla/5.0 (X11; Linux x86_64) AppleWebKit/53...</td>\n",
       "      <td>SP</td>\n",
       "      <td>BR</td>\n",
       "      <td>1.0</td>\n",
       "    </tr>\n",
       "    <tr>\n",
       "      <th>8</th>\n",
       "      <td>1465413762</td>\n",
       "      <td>VIEW</td>\n",
       "      <td>310515487419366995</td>\n",
       "      <td>344280948527967603</td>\n",
       "      <td>-3167637573980064150</td>\n",
       "      <td>NaN</td>\n",
       "      <td>NaN</td>\n",
       "      <td>NaN</td>\n",
       "      <td>1.0</td>\n",
       "    </tr>\n",
       "    <tr>\n",
       "      <th>9</th>\n",
       "      <td>1465413771</td>\n",
       "      <td>VIEW</td>\n",
       "      <td>3064370296170038610</td>\n",
       "      <td>3609194402293569455</td>\n",
       "      <td>1143207167886864524</td>\n",
       "      <td>NaN</td>\n",
       "      <td>NaN</td>\n",
       "      <td>NaN</td>\n",
       "      <td>1.0</td>\n",
       "    </tr>\n",
       "    <tr>\n",
       "      <th>10</th>\n",
       "      <td>1465413864</td>\n",
       "      <td>VIEW</td>\n",
       "      <td>310515487419366995</td>\n",
       "      <td>3609194402293569455</td>\n",
       "      <td>1143207167886864524</td>\n",
       "      <td>NaN</td>\n",
       "      <td>NaN</td>\n",
       "      <td>NaN</td>\n",
       "      <td>1.0</td>\n",
       "    </tr>\n",
       "    <tr>\n",
       "      <th>11</th>\n",
       "      <td>1465415229</td>\n",
       "      <td>VIEW</td>\n",
       "      <td>3460026829794173084</td>\n",
       "      <td>1908339160857512799</td>\n",
       "      <td>9121879357144259163</td>\n",
       "      <td>NaN</td>\n",
       "      <td>NaN</td>\n",
       "      <td>NaN</td>\n",
       "      <td>1.0</td>\n",
       "    </tr>\n",
       "    <tr>\n",
       "      <th>12</th>\n",
       "      <td>1465415228</td>\n",
       "      <td>VIEW</td>\n",
       "      <td>3460026829794173084</td>\n",
       "      <td>1908339160857512799</td>\n",
       "      <td>9121879357144259163</td>\n",
       "      <td>Mozilla/5.0 (Windows NT 6.1; WOW64) AppleWebKi...</td>\n",
       "      <td>SP</td>\n",
       "      <td>BR</td>\n",
       "      <td>1.0</td>\n",
       "    </tr>\n",
       "    <tr>\n",
       "      <th>13</th>\n",
       "      <td>1465415691</td>\n",
       "      <td>VIEW</td>\n",
       "      <td>7763750328910542816</td>\n",
       "      <td>1908339160857512799</td>\n",
       "      <td>9121879357144259163</td>\n",
       "      <td>Mozilla/5.0 (Windows NT 6.1; WOW64) AppleWebKi...</td>\n",
       "      <td>SP</td>\n",
       "      <td>BR</td>\n",
       "      <td>1.0</td>\n",
       "    </tr>\n",
       "    <tr>\n",
       "      <th>14</th>\n",
       "      <td>1465413171</td>\n",
       "      <td>VIEW</td>\n",
       "      <td>2372438485070148864</td>\n",
       "      <td>7781822014935525018</td>\n",
       "      <td>-8307903816792524795</td>\n",
       "      <td>NaN</td>\n",
       "      <td>NaN</td>\n",
       "      <td>NaN</td>\n",
       "      <td>1.0</td>\n",
       "    </tr>\n",
       "    <tr>\n",
       "      <th>15</th>\n",
       "      <td>1465415259</td>\n",
       "      <td>VIEW</td>\n",
       "      <td>-348408475077850711</td>\n",
       "      <td>8239286975497580612</td>\n",
       "      <td>8524822173689882396</td>\n",
       "      <td>Mozilla/5.0 (X11; Linux x86_64) AppleWebKit/53...</td>\n",
       "      <td>SP</td>\n",
       "      <td>BR</td>\n",
       "      <td>1.0</td>\n",
       "    </tr>\n",
       "    <tr>\n",
       "      <th>16</th>\n",
       "      <td>1465415623</td>\n",
       "      <td>VIEW</td>\n",
       "      <td>372531153711028286</td>\n",
       "      <td>8239286975497580612</td>\n",
       "      <td>8524822173689882396</td>\n",
       "      <td>Mozilla/5.0 (X11; Linux x86_64) AppleWebKit/53...</td>\n",
       "      <td>SP</td>\n",
       "      <td>BR</td>\n",
       "      <td>1.0</td>\n",
       "    </tr>\n",
       "    <tr>\n",
       "      <th>17</th>\n",
       "      <td>1465412288</td>\n",
       "      <td>VIEW</td>\n",
       "      <td>-7820640624231356730</td>\n",
       "      <td>-445337111692715325</td>\n",
       "      <td>5611481178424124714</td>\n",
       "      <td>Mozilla/5.0 (Windows NT 10.0; WOW64) AppleWebK...</td>\n",
       "      <td>MG</td>\n",
       "      <td>BR</td>\n",
       "      <td>1.0</td>\n",
       "    </tr>\n",
       "    <tr>\n",
       "      <th>18</th>\n",
       "      <td>1465415693</td>\n",
       "      <td>VIEW</td>\n",
       "      <td>6521856301289868251</td>\n",
       "      <td>2766187446275090740</td>\n",
       "      <td>247949759466213096</td>\n",
       "      <td>Mozilla/5.0 (X11; Linux x86_64) AppleWebKit/53...</td>\n",
       "      <td>MG</td>\n",
       "      <td>BR</td>\n",
       "      <td>1.0</td>\n",
       "    </tr>\n",
       "    <tr>\n",
       "      <th>19</th>\n",
       "      <td>1465415691</td>\n",
       "      <td>VIEW</td>\n",
       "      <td>-8142426490949346803</td>\n",
       "      <td>1908339160857512799</td>\n",
       "      <td>9121879357144259163</td>\n",
       "      <td>NaN</td>\n",
       "      <td>NaN</td>\n",
       "      <td>NaN</td>\n",
       "      <td>1.0</td>\n",
       "    </tr>\n",
       "    <tr>\n",
       "      <th>20</th>\n",
       "      <td>1465416196</td>\n",
       "      <td>VIEW</td>\n",
       "      <td>310515487419366995</td>\n",
       "      <td>-1130272294246983140</td>\n",
       "      <td>2631864456530402479</td>\n",
       "      <td>Mozilla/5.0 (Macintosh; Intel Mac OS X 10_11_1...</td>\n",
       "      <td>SP</td>\n",
       "      <td>BR</td>\n",
       "      <td>1.0</td>\n",
       "    </tr>\n",
       "    <tr>\n",
       "      <th>21</th>\n",
       "      <td>1465415431</td>\n",
       "      <td>VIEW</td>\n",
       "      <td>7943088471380012839</td>\n",
       "      <td>8239286975497580612</td>\n",
       "      <td>8524822173689882396</td>\n",
       "      <td>Mozilla/5.0 (X11; Linux x86_64) AppleWebKit/53...</td>\n",
       "      <td>SP</td>\n",
       "      <td>BR</td>\n",
       "      <td>1.0</td>\n",
       "    </tr>\n",
       "    <tr>\n",
       "      <th>22</th>\n",
       "      <td>1465415060</td>\n",
       "      <td>VIEW</td>\n",
       "      <td>-1492913151930215984</td>\n",
       "      <td>4254153380739593270</td>\n",
       "      <td>8743229464706506141</td>\n",
       "      <td>NaN</td>\n",
       "      <td>NaN</td>\n",
       "      <td>NaN</td>\n",
       "      <td>1.0</td>\n",
       "    </tr>\n",
       "    <tr>\n",
       "      <th>23</th>\n",
       "      <td>1465413743</td>\n",
       "      <td>VIEW</td>\n",
       "      <td>310515487419366995</td>\n",
       "      <td>-8763398617720485024</td>\n",
       "      <td>1395789369402380392</td>\n",
       "      <td>NaN</td>\n",
       "      <td>NaN</td>\n",
       "      <td>NaN</td>\n",
       "      <td>1.0</td>\n",
       "    </tr>\n",
       "    <tr>\n",
       "      <th>24</th>\n",
       "      <td>1465415565</td>\n",
       "      <td>VIEW</td>\n",
       "      <td>1441248639512899483</td>\n",
       "      <td>8239286975497580612</td>\n",
       "      <td>8524822173689882396</td>\n",
       "      <td>Mozilla/5.0 (X11; Linux x86_64) AppleWebKit/53...</td>\n",
       "      <td>SP</td>\n",
       "      <td>BR</td>\n",
       "      <td>1.0</td>\n",
       "    </tr>\n",
       "    <tr>\n",
       "      <th>25</th>\n",
       "      <td>1465413879</td>\n",
       "      <td>BOOKMARK</td>\n",
       "      <td>310515487419366995</td>\n",
       "      <td>3609194402293569455</td>\n",
       "      <td>1143207167886864524</td>\n",
       "      <td>NaN</td>\n",
       "      <td>NaN</td>\n",
       "      <td>NaN</td>\n",
       "      <td>2.5</td>\n",
       "    </tr>\n",
       "    <tr>\n",
       "      <th>26</th>\n",
       "      <td>1465415695</td>\n",
       "      <td>VIEW</td>\n",
       "      <td>7763750328910542816</td>\n",
       "      <td>1908339160857512799</td>\n",
       "      <td>9121879357144259163</td>\n",
       "      <td>NaN</td>\n",
       "      <td>NaN</td>\n",
       "      <td>NaN</td>\n",
       "      <td>1.0</td>\n",
       "    </tr>\n",
       "    <tr>\n",
       "      <th>27</th>\n",
       "      <td>1465413954</td>\n",
       "      <td>BOOKMARK</td>\n",
       "      <td>310515487419366995</td>\n",
       "      <td>-8763398617720485024</td>\n",
       "      <td>1395789369402380392</td>\n",
       "      <td>NaN</td>\n",
       "      <td>NaN</td>\n",
       "      <td>NaN</td>\n",
       "      <td>2.5</td>\n",
       "    </tr>\n",
       "    <tr>\n",
       "      <th>28</th>\n",
       "      <td>1465413735</td>\n",
       "      <td>VIEW</td>\n",
       "      <td>-1492913151930215984</td>\n",
       "      <td>3609194402293569455</td>\n",
       "      <td>1143207167886864524</td>\n",
       "      <td>Mozilla/5.0 (Windows NT 10.0; Win64; x64) Appl...</td>\n",
       "      <td>SP</td>\n",
       "      <td>BR</td>\n",
       "      <td>1.0</td>\n",
       "    </tr>\n",
       "    <tr>\n",
       "      <th>29</th>\n",
       "      <td>1465414324</td>\n",
       "      <td>VIEW</td>\n",
       "      <td>4306804750094230211</td>\n",
       "      <td>-1479311724257856983</td>\n",
       "      <td>5326691377159417610</td>\n",
       "      <td>Mozilla/5.0 (X11; Linux x86_64) AppleWebKit/53...</td>\n",
       "      <td>SP</td>\n",
       "      <td>BR</td>\n",
       "      <td>1.0</td>\n",
       "    </tr>\n",
       "    <tr>\n",
       "      <th>...</th>\n",
       "      <td>...</td>\n",
       "      <td>...</td>\n",
       "      <td>...</td>\n",
       "      <td>...</td>\n",
       "      <td>...</td>\n",
       "      <td>...</td>\n",
       "      <td>...</td>\n",
       "      <td>...</td>\n",
       "      <td>...</td>\n",
       "    </tr>\n",
       "    <tr>\n",
       "      <th>72282</th>\n",
       "      <td>1485781173</td>\n",
       "      <td>VIEW</td>\n",
       "      <td>991271693336573226</td>\n",
       "      <td>7302126548210559734</td>\n",
       "      <td>-2307145390027806177</td>\n",
       "      <td>Mozilla/5.0 (Windows NT 10.0; WOW64) AppleWebK...</td>\n",
       "      <td>SP</td>\n",
       "      <td>BR</td>\n",
       "      <td>1.0</td>\n",
       "    </tr>\n",
       "    <tr>\n",
       "      <th>72283</th>\n",
       "      <td>1485781129</td>\n",
       "      <td>LIKE</td>\n",
       "      <td>991271693336573226</td>\n",
       "      <td>3007736603136734729</td>\n",
       "      <td>-3425528821635026465</td>\n",
       "      <td>Mozilla/5.0 (Windows NT 10.0; Win64; x64) Appl...</td>\n",
       "      <td>MG</td>\n",
       "      <td>BR</td>\n",
       "      <td>2.0</td>\n",
       "    </tr>\n",
       "    <tr>\n",
       "      <th>72284</th>\n",
       "      <td>1485783918</td>\n",
       "      <td>VIEW</td>\n",
       "      <td>991271693336573226</td>\n",
       "      <td>7235668197683658513</td>\n",
       "      <td>6742992684382602072</td>\n",
       "      <td>Mozilla/5.0 (Windows NT 10.0; WOW64) AppleWebK...</td>\n",
       "      <td>MG</td>\n",
       "      <td>BR</td>\n",
       "      <td>1.0</td>\n",
       "    </tr>\n",
       "    <tr>\n",
       "      <th>72285</th>\n",
       "      <td>1485783932</td>\n",
       "      <td>VIEW</td>\n",
       "      <td>672199059798181601</td>\n",
       "      <td>4313045637915476309</td>\n",
       "      <td>-2440643789591273319</td>\n",
       "      <td>Mozilla/5.0 (X11; Linux x86_64) AppleWebKit/53...</td>\n",
       "      <td>SP</td>\n",
       "      <td>BR</td>\n",
       "      <td>1.0</td>\n",
       "    </tr>\n",
       "    <tr>\n",
       "      <th>72286</th>\n",
       "      <td>1485781707</td>\n",
       "      <td>VIEW</td>\n",
       "      <td>-7113155163062752691</td>\n",
       "      <td>-5823562314929634489</td>\n",
       "      <td>745847204065121759</td>\n",
       "      <td>Mozilla/5.0 (Macintosh; Intel Mac OS X 10_11_6...</td>\n",
       "      <td>MG</td>\n",
       "      <td>BR</td>\n",
       "      <td>1.0</td>\n",
       "    </tr>\n",
       "    <tr>\n",
       "      <th>72287</th>\n",
       "      <td>1485781678</td>\n",
       "      <td>LIKE</td>\n",
       "      <td>2508620055362300376</td>\n",
       "      <td>-2979881261169775358</td>\n",
       "      <td>-2032353491022386465</td>\n",
       "      <td>Mozilla/5.0 (Windows NT 10.0; WOW64) AppleWebK...</td>\n",
       "      <td>MG</td>\n",
       "      <td>BR</td>\n",
       "      <td>2.0</td>\n",
       "    </tr>\n",
       "    <tr>\n",
       "      <th>72288</th>\n",
       "      <td>1486742546</td>\n",
       "      <td>VIEW</td>\n",
       "      <td>4876769046116846438</td>\n",
       "      <td>344280948527967603</td>\n",
       "      <td>-6736792677469933981</td>\n",
       "      <td>Mozilla/5.0 (Windows NT 10.0; WOW64) AppleWebK...</td>\n",
       "      <td>MG</td>\n",
       "      <td>BR</td>\n",
       "      <td>1.0</td>\n",
       "    </tr>\n",
       "    <tr>\n",
       "      <th>72289</th>\n",
       "      <td>1486742046</td>\n",
       "      <td>VIEW</td>\n",
       "      <td>717471739656838182</td>\n",
       "      <td>3396828831632510915</td>\n",
       "      <td>353550438585372059</td>\n",
       "      <td>Mozilla/5.0 (Macintosh; Intel Mac OS X 10_11_6...</td>\n",
       "      <td>GA</td>\n",
       "      <td>US</td>\n",
       "      <td>1.0</td>\n",
       "    </tr>\n",
       "    <tr>\n",
       "      <th>72290</th>\n",
       "      <td>1486744031</td>\n",
       "      <td>VIEW</td>\n",
       "      <td>2870099478920706993</td>\n",
       "      <td>-2050699458865052139</td>\n",
       "      <td>-516058381659403180</td>\n",
       "      <td>Mozilla/5.0 (Windows NT 10.0; WOW64) AppleWebK...</td>\n",
       "      <td>SP</td>\n",
       "      <td>BR</td>\n",
       "      <td>1.0</td>\n",
       "    </tr>\n",
       "    <tr>\n",
       "      <th>72291</th>\n",
       "      <td>1486743444</td>\n",
       "      <td>VIEW</td>\n",
       "      <td>6031953227014493100</td>\n",
       "      <td>-5527145562136413747</td>\n",
       "      <td>-5863947785486118102</td>\n",
       "      <td>Mozilla/5.0 (Macintosh; Intel Mac OS X 10_10_5...</td>\n",
       "      <td>RJ</td>\n",
       "      <td>BR</td>\n",
       "      <td>1.0</td>\n",
       "    </tr>\n",
       "    <tr>\n",
       "      <th>72292</th>\n",
       "      <td>1486743086</td>\n",
       "      <td>VIEW</td>\n",
       "      <td>-3191013159715472435</td>\n",
       "      <td>9109075639526981934</td>\n",
       "      <td>1388457316683664565</td>\n",
       "      <td>Mozilla/5.0 (Windows NT 10.0; Win64; x64) Appl...</td>\n",
       "      <td>MG</td>\n",
       "      <td>BR</td>\n",
       "      <td>1.0</td>\n",
       "    </tr>\n",
       "    <tr>\n",
       "      <th>72293</th>\n",
       "      <td>1486743813</td>\n",
       "      <td>VIEW</td>\n",
       "      <td>7526364197140419661</td>\n",
       "      <td>3396828831632510915</td>\n",
       "      <td>353550438585372059</td>\n",
       "      <td>Mozilla/5.0 (Macintosh; Intel Mac OS X 10_11_6...</td>\n",
       "      <td>GA</td>\n",
       "      <td>US</td>\n",
       "      <td>1.0</td>\n",
       "    </tr>\n",
       "    <tr>\n",
       "      <th>72294</th>\n",
       "      <td>1485114757</td>\n",
       "      <td>VIEW</td>\n",
       "      <td>-7113155163062752691</td>\n",
       "      <td>-8853658195208337106</td>\n",
       "      <td>4378388244588214224</td>\n",
       "      <td>Mozilla/5.0 (X11; Linux x86_64) AppleWebKit/53...</td>\n",
       "      <td>SP</td>\n",
       "      <td>BR</td>\n",
       "      <td>1.0</td>\n",
       "    </tr>\n",
       "    <tr>\n",
       "      <th>72295</th>\n",
       "      <td>1487639327</td>\n",
       "      <td>BOOKMARK</td>\n",
       "      <td>5338677278233757627</td>\n",
       "      <td>-8606085472606356565</td>\n",
       "      <td>-8389523576650846991</td>\n",
       "      <td>Mozilla/5.0 (Macintosh; Intel Mac OS X 10_12_3...</td>\n",
       "      <td>PA</td>\n",
       "      <td>US</td>\n",
       "      <td>2.5</td>\n",
       "    </tr>\n",
       "    <tr>\n",
       "      <th>72296</th>\n",
       "      <td>1485188900</td>\n",
       "      <td>VIEW</td>\n",
       "      <td>-6444494220871855741</td>\n",
       "      <td>-7269286898191176947</td>\n",
       "      <td>-6954933079455345535</td>\n",
       "      <td>Mozilla/5.0 (Windows NT 10.0; WOW64) AppleWebK...</td>\n",
       "      <td>SP</td>\n",
       "      <td>BR</td>\n",
       "      <td>1.0</td>\n",
       "    </tr>\n",
       "    <tr>\n",
       "      <th>72297</th>\n",
       "      <td>1485190019</td>\n",
       "      <td>VIEW</td>\n",
       "      <td>-7113155163062752691</td>\n",
       "      <td>-737564610065686480</td>\n",
       "      <td>2730574930527077805</td>\n",
       "      <td>Mozilla/5.0 (Macintosh; Intel Mac OS X 10_12_1...</td>\n",
       "      <td>MG</td>\n",
       "      <td>BR</td>\n",
       "      <td>1.0</td>\n",
       "    </tr>\n",
       "    <tr>\n",
       "      <th>72298</th>\n",
       "      <td>1485190433</td>\n",
       "      <td>VIEW</td>\n",
       "      <td>5484061377044071389</td>\n",
       "      <td>102305705598210278</td>\n",
       "      <td>5527770709392883642</td>\n",
       "      <td>Mozilla/5.0 (X11; Linux x86_64) AppleWebKit/53...</td>\n",
       "      <td>SP</td>\n",
       "      <td>BR</td>\n",
       "      <td>1.0</td>\n",
       "    </tr>\n",
       "    <tr>\n",
       "      <th>72299</th>\n",
       "      <td>1485190729</td>\n",
       "      <td>VIEW</td>\n",
       "      <td>-6590819806697898649</td>\n",
       "      <td>3302556033962996625</td>\n",
       "      <td>-7692111361776740174</td>\n",
       "      <td>Mozilla/5.0 (X11; Linux x86_64) AppleWebKit/53...</td>\n",
       "      <td>SP</td>\n",
       "      <td>BR</td>\n",
       "      <td>1.0</td>\n",
       "    </tr>\n",
       "    <tr>\n",
       "      <th>72300</th>\n",
       "      <td>1485189154</td>\n",
       "      <td>VIEW</td>\n",
       "      <td>-1999468346928419252</td>\n",
       "      <td>2754566407772265068</td>\n",
       "      <td>-1243993919690169099</td>\n",
       "      <td>Mozilla/5.0 (Windows NT 10.0; Win64; x64) Appl...</td>\n",
       "      <td>MG</td>\n",
       "      <td>BR</td>\n",
       "      <td>1.0</td>\n",
       "    </tr>\n",
       "    <tr>\n",
       "      <th>72301</th>\n",
       "      <td>1485190418</td>\n",
       "      <td>VIEW</td>\n",
       "      <td>-6590819806697898649</td>\n",
       "      <td>-9016528795238256703</td>\n",
       "      <td>8614469745607949425</td>\n",
       "      <td>Mozilla/5.0 (Macintosh; Intel Mac OS X 10_11_4...</td>\n",
       "      <td>MG</td>\n",
       "      <td>BR</td>\n",
       "      <td>1.0</td>\n",
       "    </tr>\n",
       "    <tr>\n",
       "      <th>72302</th>\n",
       "      <td>1485190288</td>\n",
       "      <td>VIEW</td>\n",
       "      <td>-2069509552243850466</td>\n",
       "      <td>-9196668942822132778</td>\n",
       "      <td>-8300596454915870873</td>\n",
       "      <td>Mozilla/5.0 (Windows NT 10.0; Win64; x64) Appl...</td>\n",
       "      <td>SP</td>\n",
       "      <td>BR</td>\n",
       "      <td>1.0</td>\n",
       "    </tr>\n",
       "    <tr>\n",
       "      <th>72303</th>\n",
       "      <td>1485187924</td>\n",
       "      <td>VIEW</td>\n",
       "      <td>3770082505811422124</td>\n",
       "      <td>5713241217519616260</td>\n",
       "      <td>6704552481483665372</td>\n",
       "      <td>Mozilla/5.0 (Windows NT 10.0; WOW64) AppleWebK...</td>\n",
       "      <td>MG</td>\n",
       "      <td>BR</td>\n",
       "      <td>1.0</td>\n",
       "    </tr>\n",
       "    <tr>\n",
       "      <th>72304</th>\n",
       "      <td>1485188023</td>\n",
       "      <td>BOOKMARK</td>\n",
       "      <td>569574447134368517</td>\n",
       "      <td>-5230721907253934520</td>\n",
       "      <td>-1055756461332933762</td>\n",
       "      <td>Mozilla/5.0 (Macintosh; Intel Mac OS X 10_12_2...</td>\n",
       "      <td>SP</td>\n",
       "      <td>BR</td>\n",
       "      <td>2.5</td>\n",
       "    </tr>\n",
       "    <tr>\n",
       "      <th>72305</th>\n",
       "      <td>1485187998</td>\n",
       "      <td>VIEW</td>\n",
       "      <td>569574447134368517</td>\n",
       "      <td>-5230721907253934520</td>\n",
       "      <td>-1055756461332933762</td>\n",
       "      <td>Mozilla/5.0 (Macintosh; Intel Mac OS X 10_12_2...</td>\n",
       "      <td>SP</td>\n",
       "      <td>BR</td>\n",
       "      <td>1.0</td>\n",
       "    </tr>\n",
       "    <tr>\n",
       "      <th>72306</th>\n",
       "      <td>1485190133</td>\n",
       "      <td>VIEW</td>\n",
       "      <td>5484061377044071389</td>\n",
       "      <td>3609194402293569455</td>\n",
       "      <td>-344378995821744418</td>\n",
       "      <td>Mozilla/5.0 (Windows NT 10.0; WOW64) AppleWebK...</td>\n",
       "      <td>SP</td>\n",
       "      <td>BR</td>\n",
       "      <td>1.0</td>\n",
       "    </tr>\n",
       "    <tr>\n",
       "      <th>72307</th>\n",
       "      <td>1485190425</td>\n",
       "      <td>LIKE</td>\n",
       "      <td>-6590819806697898649</td>\n",
       "      <td>-9016528795238256703</td>\n",
       "      <td>8614469745607949425</td>\n",
       "      <td>Mozilla/5.0 (Macintosh; Intel Mac OS X 10_11_4...</td>\n",
       "      <td>MG</td>\n",
       "      <td>BR</td>\n",
       "      <td>2.0</td>\n",
       "    </tr>\n",
       "    <tr>\n",
       "      <th>72308</th>\n",
       "      <td>1485190425</td>\n",
       "      <td>VIEW</td>\n",
       "      <td>-5813211845057621660</td>\n",
       "      <td>102305705598210278</td>\n",
       "      <td>5527770709392883642</td>\n",
       "      <td>Mozilla/5.0 (X11; Linux x86_64) AppleWebKit/53...</td>\n",
       "      <td>SP</td>\n",
       "      <td>BR</td>\n",
       "      <td>1.0</td>\n",
       "    </tr>\n",
       "    <tr>\n",
       "      <th>72309</th>\n",
       "      <td>1485190072</td>\n",
       "      <td>VIEW</td>\n",
       "      <td>-1999468346928419252</td>\n",
       "      <td>-9196668942822132778</td>\n",
       "      <td>-8300596454915870873</td>\n",
       "      <td>Mozilla/5.0 (Windows NT 10.0; Win64; x64) Appl...</td>\n",
       "      <td>SP</td>\n",
       "      <td>BR</td>\n",
       "      <td>1.0</td>\n",
       "    </tr>\n",
       "    <tr>\n",
       "      <th>72310</th>\n",
       "      <td>1485190434</td>\n",
       "      <td>VIEW</td>\n",
       "      <td>-6590819806697898649</td>\n",
       "      <td>-9016528795238256703</td>\n",
       "      <td>8614469745607949425</td>\n",
       "      <td>Mozilla/5.0 (Macintosh; Intel Mac OS X 10_11_4...</td>\n",
       "      <td>MG</td>\n",
       "      <td>BR</td>\n",
       "      <td>1.0</td>\n",
       "    </tr>\n",
       "    <tr>\n",
       "      <th>72311</th>\n",
       "      <td>1485187988</td>\n",
       "      <td>VIEW</td>\n",
       "      <td>5669290109546991426</td>\n",
       "      <td>5713241217519616260</td>\n",
       "      <td>6704552481483665372</td>\n",
       "      <td>Mozilla/5.0 (Windows NT 10.0; WOW64) AppleWebK...</td>\n",
       "      <td>MG</td>\n",
       "      <td>BR</td>\n",
       "      <td>1.0</td>\n",
       "    </tr>\n",
       "  </tbody>\n",
       "</table>\n",
       "<p>72312 rows × 9 columns</p>\n",
       "</div>"
      ],
      "text/plain": [
       "        timestamp eventType             contentId              personId  \\\n",
       "0      1465413032      VIEW  -3499919498720038879  -8845298781299428018   \n",
       "1      1465412560      VIEW   8890720798209849691  -1032019229384696495   \n",
       "2      1465416190      VIEW    310515487419366995  -1130272294246983140   \n",
       "3      1465413895    FOLLOW    310515487419366995    344280948527967603   \n",
       "4      1465412290      VIEW  -7820640624231356730   -445337111692715325   \n",
       "5      1465413742      VIEW    310515487419366995  -8763398617720485024   \n",
       "6      1465415950      VIEW  -8864073373672512525   3609194402293569455   \n",
       "7      1465415066      VIEW  -1492913151930215984   4254153380739593270   \n",
       "8      1465413762      VIEW    310515487419366995    344280948527967603   \n",
       "9      1465413771      VIEW   3064370296170038610   3609194402293569455   \n",
       "10     1465413864      VIEW    310515487419366995   3609194402293569455   \n",
       "11     1465415229      VIEW   3460026829794173084   1908339160857512799   \n",
       "12     1465415228      VIEW   3460026829794173084   1908339160857512799   \n",
       "13     1465415691      VIEW   7763750328910542816   1908339160857512799   \n",
       "14     1465413171      VIEW   2372438485070148864   7781822014935525018   \n",
       "15     1465415259      VIEW   -348408475077850711   8239286975497580612   \n",
       "16     1465415623      VIEW    372531153711028286   8239286975497580612   \n",
       "17     1465412288      VIEW  -7820640624231356730   -445337111692715325   \n",
       "18     1465415693      VIEW   6521856301289868251   2766187446275090740   \n",
       "19     1465415691      VIEW  -8142426490949346803   1908339160857512799   \n",
       "20     1465416196      VIEW    310515487419366995  -1130272294246983140   \n",
       "21     1465415431      VIEW   7943088471380012839   8239286975497580612   \n",
       "22     1465415060      VIEW  -1492913151930215984   4254153380739593270   \n",
       "23     1465413743      VIEW    310515487419366995  -8763398617720485024   \n",
       "24     1465415565      VIEW   1441248639512899483   8239286975497580612   \n",
       "25     1465413879  BOOKMARK    310515487419366995   3609194402293569455   \n",
       "26     1465415695      VIEW   7763750328910542816   1908339160857512799   \n",
       "27     1465413954  BOOKMARK    310515487419366995  -8763398617720485024   \n",
       "28     1465413735      VIEW  -1492913151930215984   3609194402293569455   \n",
       "29     1465414324      VIEW   4306804750094230211  -1479311724257856983   \n",
       "...           ...       ...                   ...                   ...   \n",
       "72282  1485781173      VIEW    991271693336573226   7302126548210559734   \n",
       "72283  1485781129      LIKE    991271693336573226   3007736603136734729   \n",
       "72284  1485783918      VIEW    991271693336573226   7235668197683658513   \n",
       "72285  1485783932      VIEW    672199059798181601   4313045637915476309   \n",
       "72286  1485781707      VIEW  -7113155163062752691  -5823562314929634489   \n",
       "72287  1485781678      LIKE   2508620055362300376  -2979881261169775358   \n",
       "72288  1486742546      VIEW   4876769046116846438    344280948527967603   \n",
       "72289  1486742046      VIEW    717471739656838182   3396828831632510915   \n",
       "72290  1486744031      VIEW   2870099478920706993  -2050699458865052139   \n",
       "72291  1486743444      VIEW   6031953227014493100  -5527145562136413747   \n",
       "72292  1486743086      VIEW  -3191013159715472435   9109075639526981934   \n",
       "72293  1486743813      VIEW   7526364197140419661   3396828831632510915   \n",
       "72294  1485114757      VIEW  -7113155163062752691  -8853658195208337106   \n",
       "72295  1487639327  BOOKMARK   5338677278233757627  -8606085472606356565   \n",
       "72296  1485188900      VIEW  -6444494220871855741  -7269286898191176947   \n",
       "72297  1485190019      VIEW  -7113155163062752691   -737564610065686480   \n",
       "72298  1485190433      VIEW   5484061377044071389    102305705598210278   \n",
       "72299  1485190729      VIEW  -6590819806697898649   3302556033962996625   \n",
       "72300  1485189154      VIEW  -1999468346928419252   2754566407772265068   \n",
       "72301  1485190418      VIEW  -6590819806697898649  -9016528795238256703   \n",
       "72302  1485190288      VIEW  -2069509552243850466  -9196668942822132778   \n",
       "72303  1485187924      VIEW   3770082505811422124   5713241217519616260   \n",
       "72304  1485188023  BOOKMARK    569574447134368517  -5230721907253934520   \n",
       "72305  1485187998      VIEW    569574447134368517  -5230721907253934520   \n",
       "72306  1485190133      VIEW   5484061377044071389   3609194402293569455   \n",
       "72307  1485190425      LIKE  -6590819806697898649  -9016528795238256703   \n",
       "72308  1485190425      VIEW  -5813211845057621660    102305705598210278   \n",
       "72309  1485190072      VIEW  -1999468346928419252  -9196668942822132778   \n",
       "72310  1485190434      VIEW  -6590819806697898649  -9016528795238256703   \n",
       "72311  1485187988      VIEW   5669290109546991426   5713241217519616260   \n",
       "\n",
       "                 sessionId                                          userAgent  \\\n",
       "0      1264196770339959068                                                NaN   \n",
       "1      3621737643587579081  Mozilla/5.0 (Macintosh; Intel Mac OS X 10_11_2...   \n",
       "2      2631864456530402479                                                NaN   \n",
       "3     -3167637573980064150                                                NaN   \n",
       "4      5611481178424124714                                                NaN   \n",
       "5      1395789369402380392  Mozilla/5.0 (Windows NT 10.0; WOW64) AppleWebK...   \n",
       "6      1143207167886864524                                                NaN   \n",
       "7      8743229464706506141  Mozilla/5.0 (X11; Linux x86_64) AppleWebKit/53...   \n",
       "8     -3167637573980064150                                                NaN   \n",
       "9      1143207167886864524                                                NaN   \n",
       "10     1143207167886864524                                                NaN   \n",
       "11     9121879357144259163                                                NaN   \n",
       "12     9121879357144259163  Mozilla/5.0 (Windows NT 6.1; WOW64) AppleWebKi...   \n",
       "13     9121879357144259163  Mozilla/5.0 (Windows NT 6.1; WOW64) AppleWebKi...   \n",
       "14    -8307903816792524795                                                NaN   \n",
       "15     8524822173689882396  Mozilla/5.0 (X11; Linux x86_64) AppleWebKit/53...   \n",
       "16     8524822173689882396  Mozilla/5.0 (X11; Linux x86_64) AppleWebKit/53...   \n",
       "17     5611481178424124714  Mozilla/5.0 (Windows NT 10.0; WOW64) AppleWebK...   \n",
       "18      247949759466213096  Mozilla/5.0 (X11; Linux x86_64) AppleWebKit/53...   \n",
       "19     9121879357144259163                                                NaN   \n",
       "20     2631864456530402479  Mozilla/5.0 (Macintosh; Intel Mac OS X 10_11_1...   \n",
       "21     8524822173689882396  Mozilla/5.0 (X11; Linux x86_64) AppleWebKit/53...   \n",
       "22     8743229464706506141                                                NaN   \n",
       "23     1395789369402380392                                                NaN   \n",
       "24     8524822173689882396  Mozilla/5.0 (X11; Linux x86_64) AppleWebKit/53...   \n",
       "25     1143207167886864524                                                NaN   \n",
       "26     9121879357144259163                                                NaN   \n",
       "27     1395789369402380392                                                NaN   \n",
       "28     1143207167886864524  Mozilla/5.0 (Windows NT 10.0; Win64; x64) Appl...   \n",
       "29     5326691377159417610  Mozilla/5.0 (X11; Linux x86_64) AppleWebKit/53...   \n",
       "...                    ...                                                ...   \n",
       "72282 -2307145390027806177  Mozilla/5.0 (Windows NT 10.0; WOW64) AppleWebK...   \n",
       "72283 -3425528821635026465  Mozilla/5.0 (Windows NT 10.0; Win64; x64) Appl...   \n",
       "72284  6742992684382602072  Mozilla/5.0 (Windows NT 10.0; WOW64) AppleWebK...   \n",
       "72285 -2440643789591273319  Mozilla/5.0 (X11; Linux x86_64) AppleWebKit/53...   \n",
       "72286   745847204065121759  Mozilla/5.0 (Macintosh; Intel Mac OS X 10_11_6...   \n",
       "72287 -2032353491022386465  Mozilla/5.0 (Windows NT 10.0; WOW64) AppleWebK...   \n",
       "72288 -6736792677469933981  Mozilla/5.0 (Windows NT 10.0; WOW64) AppleWebK...   \n",
       "72289   353550438585372059  Mozilla/5.0 (Macintosh; Intel Mac OS X 10_11_6...   \n",
       "72290  -516058381659403180  Mozilla/5.0 (Windows NT 10.0; WOW64) AppleWebK...   \n",
       "72291 -5863947785486118102  Mozilla/5.0 (Macintosh; Intel Mac OS X 10_10_5...   \n",
       "72292  1388457316683664565  Mozilla/5.0 (Windows NT 10.0; Win64; x64) Appl...   \n",
       "72293   353550438585372059  Mozilla/5.0 (Macintosh; Intel Mac OS X 10_11_6...   \n",
       "72294  4378388244588214224  Mozilla/5.0 (X11; Linux x86_64) AppleWebKit/53...   \n",
       "72295 -8389523576650846991  Mozilla/5.0 (Macintosh; Intel Mac OS X 10_12_3...   \n",
       "72296 -6954933079455345535  Mozilla/5.0 (Windows NT 10.0; WOW64) AppleWebK...   \n",
       "72297  2730574930527077805  Mozilla/5.0 (Macintosh; Intel Mac OS X 10_12_1...   \n",
       "72298  5527770709392883642  Mozilla/5.0 (X11; Linux x86_64) AppleWebKit/53...   \n",
       "72299 -7692111361776740174  Mozilla/5.0 (X11; Linux x86_64) AppleWebKit/53...   \n",
       "72300 -1243993919690169099  Mozilla/5.0 (Windows NT 10.0; Win64; x64) Appl...   \n",
       "72301  8614469745607949425  Mozilla/5.0 (Macintosh; Intel Mac OS X 10_11_4...   \n",
       "72302 -8300596454915870873  Mozilla/5.0 (Windows NT 10.0; Win64; x64) Appl...   \n",
       "72303  6704552481483665372  Mozilla/5.0 (Windows NT 10.0; WOW64) AppleWebK...   \n",
       "72304 -1055756461332933762  Mozilla/5.0 (Macintosh; Intel Mac OS X 10_12_2...   \n",
       "72305 -1055756461332933762  Mozilla/5.0 (Macintosh; Intel Mac OS X 10_12_2...   \n",
       "72306  -344378995821744418  Mozilla/5.0 (Windows NT 10.0; WOW64) AppleWebK...   \n",
       "72307  8614469745607949425  Mozilla/5.0 (Macintosh; Intel Mac OS X 10_11_4...   \n",
       "72308  5527770709392883642  Mozilla/5.0 (X11; Linux x86_64) AppleWebKit/53...   \n",
       "72309 -8300596454915870873  Mozilla/5.0 (Windows NT 10.0; Win64; x64) Appl...   \n",
       "72310  8614469745607949425  Mozilla/5.0 (Macintosh; Intel Mac OS X 10_11_4...   \n",
       "72311  6704552481483665372  Mozilla/5.0 (Windows NT 10.0; WOW64) AppleWebK...   \n",
       "\n",
       "      userRegion userCountry  eventStrength  \n",
       "0            NaN         NaN            1.0  \n",
       "1             NY          US            1.0  \n",
       "2            NaN         NaN            1.0  \n",
       "3            NaN         NaN            3.0  \n",
       "4            NaN         NaN            1.0  \n",
       "5             MG          BR            1.0  \n",
       "6            NaN         NaN            1.0  \n",
       "7             SP          BR            1.0  \n",
       "8            NaN         NaN            1.0  \n",
       "9            NaN         NaN            1.0  \n",
       "10           NaN         NaN            1.0  \n",
       "11           NaN         NaN            1.0  \n",
       "12            SP          BR            1.0  \n",
       "13            SP          BR            1.0  \n",
       "14           NaN         NaN            1.0  \n",
       "15            SP          BR            1.0  \n",
       "16            SP          BR            1.0  \n",
       "17            MG          BR            1.0  \n",
       "18            MG          BR            1.0  \n",
       "19           NaN         NaN            1.0  \n",
       "20            SP          BR            1.0  \n",
       "21            SP          BR            1.0  \n",
       "22           NaN         NaN            1.0  \n",
       "23           NaN         NaN            1.0  \n",
       "24            SP          BR            1.0  \n",
       "25           NaN         NaN            2.5  \n",
       "26           NaN         NaN            1.0  \n",
       "27           NaN         NaN            2.5  \n",
       "28            SP          BR            1.0  \n",
       "29            SP          BR            1.0  \n",
       "...          ...         ...            ...  \n",
       "72282         SP          BR            1.0  \n",
       "72283         MG          BR            2.0  \n",
       "72284         MG          BR            1.0  \n",
       "72285         SP          BR            1.0  \n",
       "72286         MG          BR            1.0  \n",
       "72287         MG          BR            2.0  \n",
       "72288         MG          BR            1.0  \n",
       "72289         GA          US            1.0  \n",
       "72290         SP          BR            1.0  \n",
       "72291         RJ          BR            1.0  \n",
       "72292         MG          BR            1.0  \n",
       "72293         GA          US            1.0  \n",
       "72294         SP          BR            1.0  \n",
       "72295         PA          US            2.5  \n",
       "72296         SP          BR            1.0  \n",
       "72297         MG          BR            1.0  \n",
       "72298         SP          BR            1.0  \n",
       "72299         SP          BR            1.0  \n",
       "72300         MG          BR            1.0  \n",
       "72301         MG          BR            1.0  \n",
       "72302         SP          BR            1.0  \n",
       "72303         MG          BR            1.0  \n",
       "72304         SP          BR            2.5  \n",
       "72305         SP          BR            1.0  \n",
       "72306         SP          BR            1.0  \n",
       "72307         MG          BR            2.0  \n",
       "72308         SP          BR            1.0  \n",
       "72309         SP          BR            1.0  \n",
       "72310         MG          BR            1.0  \n",
       "72311         MG          BR            1.0  \n",
       "\n",
       "[72312 rows x 9 columns]"
      ]
     },
     "execution_count": 31,
     "metadata": {},
     "output_type": "execute_result"
    }
   ],
   "source": [
    "interactions_df"
   ]
  },
  {
   "cell_type": "code",
   "execution_count": 32,
   "metadata": {
    "ExecuteTime": {
     "end_time": "2019-06-08T12:24:08.123540Z",
     "start_time": "2019-06-08T12:24:07.977450Z"
    },
    "_cell_guid": "bad1d8ea-9b67-4a47-80c5-87a5e55c4f38",
    "_uuid": "1698c88340183baa7f3ebb8c3b60eaa8e6ca708f"
   },
   "outputs": [
    {
     "name": "stdout",
     "output_type": "stream",
     "text": [
      "# users: 1895\n",
      "# users with at least 5 interactions: 1140\n"
     ]
    }
   ],
   "source": [
    "users_interactions_count_df = interactions_df \\\n",
    "                                       .groupby(['personId','contentId']) \\\n",
    "                                       .first() \\\n",
    "                                       .reset_index() \\\n",
    "                                       .groupby('personId') \\\n",
    "                                       .size()\n",
    "\n",
    "print('# users:', len(users_interactions_count_df))\n",
    "\n",
    "users_with_enough_interactions_df = users_interactions_count_df[users_interactions_count_df >= 5] \\\n",
    "                                    .reset_index()[['personId']]\n",
    "print('# users with at least 5 interactions:',len(users_with_enough_interactions_df))"
   ]
  },
  {
   "cell_type": "markdown",
   "metadata": {},
   "source": [
    "Оставьте только те взаимодействия из таблицы interactions_df, которые касаются только отфильтрованных пользователей."
   ]
  },
  {
   "cell_type": "code",
   "execution_count": 33,
   "metadata": {
    "ExecuteTime": {
     "end_time": "2019-06-08T12:26:02.882360Z",
     "start_time": "2019-06-08T12:26:00.651082Z"
    },
    "_cell_guid": "4e79a418-a9d6-4e01-9f38-9b290a645626",
    "_uuid": "0f428a4c6e76f95de7ea328dc33c6539389ae5f0"
   },
   "outputs": [],
   "source": [
    "interactions_from_selected_users_df = interactions_df.loc[\n",
    "    np.in1d(interactions_df.personId, users_with_enough_interactions_df)\n",
    "]"
   ]
  },
  {
   "cell_type": "code",
   "execution_count": 34,
   "metadata": {
    "ExecuteTime": {
     "end_time": "2019-06-08T12:26:04.494720Z",
     "start_time": "2019-06-08T12:26:04.487165Z"
    }
   },
   "outputs": [
    {
     "name": "stdout",
     "output_type": "stream",
     "text": [
      "# interactions before: (72312, 9)\n",
      "# interactions after: (69868, 9)\n"
     ]
    }
   ],
   "source": [
    "print('# interactions before:', interactions_df.shape)\n",
    "print('# interactions after:', interactions_from_selected_users_df.shape)"
   ]
  },
  {
   "cell_type": "code",
   "execution_count": 35,
   "metadata": {
    "ExecuteTime": {
     "end_time": "2019-06-08T12:27:28.233661Z",
     "start_time": "2019-06-08T12:27:27.916524Z"
    }
   },
   "outputs": [
    {
     "data": {
      "text/plain": [
       "<matplotlib.axes._subplots.AxesSubplot at 0x16c1472d2e8>"
      ]
     },
     "execution_count": 35,
     "metadata": {},
     "output_type": "execute_result"
    },
    {
     "data": {
      "image/png": "[encoded data removed]",
      "text/plain": [
       "<Figure size 432x288 with 1 Axes>"
      ]
     },
     "metadata": {
      "needs_background": "light"
     },
     "output_type": "display_data"
    }
   ],
   "source": [
    "users_interactions_count_df.hist(bins=20)"
   ]
  },
  {
   "cell_type": "markdown",
   "metadata": {},
   "source": [
    "В данной постановке каждый пользователей мог взаимодействовать с каждой статьёй более 1 раза (как минимум совершая различные действия). Предлагается \"схлопнуть\" все действия в одно взаимодействие с весом, равным сумме весов. \n",
    "\n",
    "Однако полученное число будет в том числе тем больше, чем больше действий произвёл человек. Чтобы уменьшить разброс предлагается взять логарифм от полученного числа (можно придумыват другие веса действиям и по-другому обрабатывать значения).\n",
    "\n",
    "Также сохраним последнее значение времени взаимодействия для разделениея выборки на обучение и контроль.\n",
    "\n",
    "***С помощью groupby создайте объект interactions_full_df, в котором для каждой пары personId-contentId посчитайте сумму взаимодействий (eventStrength), затем примените к нему сглаживание (smooth_user_preference) и сохраните как dataframe с колонками-индексами personId и contentId.***"
   ]
  },
  {
   "cell_type": "code",
   "execution_count": 36,
   "metadata": {
    "ExecuteTime": {
     "end_time": "2019-06-08T12:30:39.033711Z",
     "start_time": "2019-06-08T12:30:38.871284Z"
    },
    "_cell_guid": "54c82dd1-1102-4f11-ac6a-7993f8e5e842",
    "_uuid": "dcd64b20b47cf2c365341303ff410626a801f7a6"
   },
   "outputs": [
    {
     "data": {
      "text/html": [
       "<div>\n",
       "<style scoped>\n",
       "    .dataframe tbody tr th:only-of-type {\n",
       "        vertical-align: middle;\n",
       "    }\n",
       "\n",
       "    .dataframe tbody tr th {\n",
       "        vertical-align: top;\n",
       "    }\n",
       "\n",
       "    .dataframe thead th {\n",
       "        text-align: right;\n",
       "    }\n",
       "</style>\n",
       "<table border=\"1\" class=\"dataframe\">\n",
       "  <thead>\n",
       "    <tr style=\"text-align: right;\">\n",
       "      <th></th>\n",
       "      <th>personId</th>\n",
       "      <th>contentId</th>\n",
       "      <th>eventStrength</th>\n",
       "      <th>last_timestamp</th>\n",
       "    </tr>\n",
       "  </thead>\n",
       "  <tbody>\n",
       "    <tr>\n",
       "      <th>0</th>\n",
       "      <td>-1007001694607905623</td>\n",
       "      <td>-5065077552540450930</td>\n",
       "      <td>1.000000</td>\n",
       "      <td>1470395911</td>\n",
       "    </tr>\n",
       "    <tr>\n",
       "      <th>1</th>\n",
       "      <td>-1007001694607905623</td>\n",
       "      <td>-6623581327558800021</td>\n",
       "      <td>1.000000</td>\n",
       "      <td>1487240080</td>\n",
       "    </tr>\n",
       "    <tr>\n",
       "      <th>2</th>\n",
       "      <td>-1007001694607905623</td>\n",
       "      <td>-793729620925729327</td>\n",
       "      <td>1.000000</td>\n",
       "      <td>1472834892</td>\n",
       "    </tr>\n",
       "    <tr>\n",
       "      <th>3</th>\n",
       "      <td>-1007001694607905623</td>\n",
       "      <td>1469580151036142903</td>\n",
       "      <td>1.000000</td>\n",
       "      <td>1487240062</td>\n",
       "    </tr>\n",
       "    <tr>\n",
       "      <th>4</th>\n",
       "      <td>-1007001694607905623</td>\n",
       "      <td>7270966256391553686</td>\n",
       "      <td>1.584963</td>\n",
       "      <td>1485994324</td>\n",
       "    </tr>\n",
       "    <tr>\n",
       "      <th>5</th>\n",
       "      <td>-1007001694607905623</td>\n",
       "      <td>8729086959762650511</td>\n",
       "      <td>1.000000</td>\n",
       "      <td>1487240086</td>\n",
       "    </tr>\n",
       "    <tr>\n",
       "      <th>6</th>\n",
       "      <td>-1032019229384696495</td>\n",
       "      <td>-1006791494035379303</td>\n",
       "      <td>1.000000</td>\n",
       "      <td>1469129122</td>\n",
       "    </tr>\n",
       "    <tr>\n",
       "      <th>7</th>\n",
       "      <td>-1032019229384696495</td>\n",
       "      <td>-1039912738963181810</td>\n",
       "      <td>1.000000</td>\n",
       "      <td>1459376415</td>\n",
       "    </tr>\n",
       "    <tr>\n",
       "      <th>8</th>\n",
       "      <td>-1032019229384696495</td>\n",
       "      <td>-1081723567492738167</td>\n",
       "      <td>2.000000</td>\n",
       "      <td>1464054093</td>\n",
       "    </tr>\n",
       "    <tr>\n",
       "      <th>9</th>\n",
       "      <td>-1032019229384696495</td>\n",
       "      <td>-1111518890369033396</td>\n",
       "      <td>1.000000</td>\n",
       "      <td>1470109122</td>\n",
       "    </tr>\n",
       "  </tbody>\n",
       "</table>\n",
       "</div>"
      ],
      "text/plain": [
       "               personId             contentId  eventStrength  last_timestamp\n",
       "0  -1007001694607905623  -5065077552540450930       1.000000      1470395911\n",
       "1  -1007001694607905623  -6623581327558800021       1.000000      1487240080\n",
       "2  -1007001694607905623   -793729620925729327       1.000000      1472834892\n",
       "3  -1007001694607905623   1469580151036142903       1.000000      1487240062\n",
       "4  -1007001694607905623   7270966256391553686       1.584963      1485994324\n",
       "5  -1007001694607905623   8729086959762650511       1.000000      1487240086\n",
       "6  -1032019229384696495  -1006791494035379303       1.000000      1469129122\n",
       "7  -1032019229384696495  -1039912738963181810       1.000000      1459376415\n",
       "8  -1032019229384696495  -1081723567492738167       2.000000      1464054093\n",
       "9  -1032019229384696495  -1111518890369033396       1.000000      1470109122"
      ]
     },
     "execution_count": 36,
     "metadata": {},
     "output_type": "execute_result"
    }
   ],
   "source": [
    "def smooth_user_preference(x):\n",
    "    return math.log(1+x, 2)\n",
    "    \n",
    "interactions_full_df = interactions_from_selected_users_df \\\n",
    "                                .groupby(['personId','contentId']) \\\n",
    "                                .eventStrength.sum() \\\n",
    "                                .apply(smooth_user_preference) \\\n",
    "                                .reset_index() \\\n",
    "                                .set_index(['personId','contentId'])\n",
    "\n",
    "interactions_full_df['last_timestamp'] = (\n",
    "    interactions_from_selected_users_df\n",
    "    .groupby(['personId', 'contentId'])['timestamp'].last()\n",
    ")\n",
    "        \n",
    "interactions_full_df = interactions_full_df.reset_index()\n",
    "interactions_full_df.head(10)"
   ]
  },
  {
   "cell_type": "markdown",
   "metadata": {},
   "source": [
    "Разбейте выборку на обучение и контроль по времени (train - объекты с last_timestamp < split_ts, test - остальные объекты)."
   ]
  },
  {
   "cell_type": "code",
   "execution_count": 37,
   "metadata": {
    "ExecuteTime": {
     "end_time": "2019-06-08T14:22:18.904782Z",
     "start_time": "2019-06-08T14:22:18.874059Z"
    },
    "_cell_guid": "e594a5ef-255a-4d30-9ab2-7cebe12fe798",
    "_uuid": "babda61be5306281b34422dbded67675a0aab17d"
   },
   "outputs": [
    {
     "name": "stdout",
     "output_type": "stream",
     "text": [
      "# interactions on Train set: 29329\n",
      "# interactions on Test set: 9777\n"
     ]
    }
   ],
   "source": [
    "split_ts = 1475519530\n",
    "interactions_train_df = interactions_full_df[interactions_full_df.last_timestamp < split_ts]\n",
    "interactions_test_df = interactions_full_df[interactions_full_df.last_timestamp >= split_ts]\n",
    "\n",
    "print('# interactions on Train set: %d' % len(interactions_train_df))\n",
    "print('# interactions on Test set: %d' % len(interactions_test_df))"
   ]
  },
  {
   "cell_type": "markdown",
   "metadata": {},
   "source": [
    "Для удобства подсчёта качества запишем данные в формате, где строка соответствует пользователю, а столбцы будут истинными метками и предсказаниями в виде списков."
   ]
  },
  {
   "cell_type": "code",
   "execution_count": 38,
   "metadata": {
    "ExecuteTime": {
     "end_time": "2019-06-08T13:22:52.573170Z",
     "start_time": "2019-06-08T13:22:52.243792Z"
    }
   },
   "outputs": [
    {
     "data": {
      "text/html": [
       "<div>\n",
       "<style scoped>\n",
       "    .dataframe tbody tr th:only-of-type {\n",
       "        vertical-align: middle;\n",
       "    }\n",
       "\n",
       "    .dataframe tbody tr th {\n",
       "        vertical-align: top;\n",
       "    }\n",
       "\n",
       "    .dataframe thead th {\n",
       "        text-align: right;\n",
       "    }\n",
       "</style>\n",
       "<table border=\"1\" class=\"dataframe\">\n",
       "  <thead>\n",
       "    <tr style=\"text-align: right;\">\n",
       "      <th></th>\n",
       "      <th>true_train</th>\n",
       "      <th>true_test</th>\n",
       "    </tr>\n",
       "    <tr>\n",
       "      <th>personId</th>\n",
       "      <th></th>\n",
       "      <th></th>\n",
       "    </tr>\n",
       "  </thead>\n",
       "  <tbody>\n",
       "    <tr>\n",
       "      <th>-1007001694607905623</th>\n",
       "      <td>[-5065077552540450930, -793729620925729327]</td>\n",
       "      <td>[-6623581327558800021, 1469580151036142903, 72...</td>\n",
       "    </tr>\n",
       "  </tbody>\n",
       "</table>\n",
       "</div>"
      ],
      "text/plain": [
       "                                                       true_train  \\\n",
       "personId                                                            \n",
       "-1007001694607905623  [-5065077552540450930, -793729620925729327]   \n",
       "\n",
       "                                                              true_test  \n",
       "personId                                                                 \n",
       "-1007001694607905623  [-6623581327558800021, 1469580151036142903, 72...  "
      ]
     },
     "execution_count": 38,
     "metadata": {},
     "output_type": "execute_result"
    }
   ],
   "source": [
    "interactions = (\n",
    "    interactions_train_df\n",
    "    .groupby('personId')['contentId'].agg(lambda x: list(x))\n",
    "    .reset_index()\n",
    "    .rename(columns={'contentId': 'true_train'})\n",
    "    .set_index('personId')\n",
    ")\n",
    "\n",
    "interactions['true_test'] = (\n",
    "    interactions_test_df\n",
    "    .groupby('personId')['contentId'].agg(lambda x: list(x))\n",
    ")\n",
    "\n",
    "# заполнение пропусков пустыми списками\n",
    "interactions.loc[pd.isnull(interactions.true_test), 'true_test'] = [\n",
    "    list() for x in range(len(interactions.loc[pd.isnull(interactions.true_test), 'true_test']))]\n",
    "\n",
    "interactions.head(1)"
   ]
  },
  {
   "cell_type": "markdown",
   "metadata": {
    "_cell_guid": "2fac2a15-cc5c-4f31-8818-8065b0d2dc16",
    "_uuid": "59dd2131949c4d7e801114bffc11fb439c930b4c"
   },
   "source": [
    "## Часть 1: Baseline (модель по популярности)"
   ]
  },
  {
   "cell_type": "markdown",
   "metadata": {},
   "source": [
    "Самой простой моделью рекомендаций (при этом достаточно сильной!) является модель, которая рекомендует наиболее популярные статьи. \n",
    "\n",
    "Предлагается реализовать её. Давайте считать, что рекомендуем мы по 10 материалов (такое ограничение на размер блока на сайте)."
   ]
  },
  {
   "cell_type": "code",
   "execution_count": 39,
   "metadata": {
    "ExecuteTime": {
     "end_time": "2019-06-08T12:37:19.089878Z",
     "start_time": "2019-06-08T12:37:19.076379Z"
    }
   },
   "outputs": [
    {
     "data": {
      "text/html": [
       "<div>\n",
       "<style scoped>\n",
       "    .dataframe tbody tr th:only-of-type {\n",
       "        vertical-align: middle;\n",
       "    }\n",
       "\n",
       "    .dataframe tbody tr th {\n",
       "        vertical-align: top;\n",
       "    }\n",
       "\n",
       "    .dataframe thead th {\n",
       "        text-align: right;\n",
       "    }\n",
       "</style>\n",
       "<table border=\"1\" class=\"dataframe\">\n",
       "  <thead>\n",
       "    <tr style=\"text-align: right;\">\n",
       "      <th></th>\n",
       "      <th>personId</th>\n",
       "      <th>contentId</th>\n",
       "      <th>eventStrength</th>\n",
       "      <th>last_timestamp</th>\n",
       "    </tr>\n",
       "  </thead>\n",
       "  <tbody>\n",
       "    <tr>\n",
       "      <th>0</th>\n",
       "      <td>-1007001694607905623</td>\n",
       "      <td>-5065077552540450930</td>\n",
       "      <td>1.0</td>\n",
       "      <td>1470395911</td>\n",
       "    </tr>\n",
       "    <tr>\n",
       "      <th>2</th>\n",
       "      <td>-1007001694607905623</td>\n",
       "      <td>-793729620925729327</td>\n",
       "      <td>1.0</td>\n",
       "      <td>1472834892</td>\n",
       "    </tr>\n",
       "    <tr>\n",
       "      <th>6</th>\n",
       "      <td>-1032019229384696495</td>\n",
       "      <td>-1006791494035379303</td>\n",
       "      <td>1.0</td>\n",
       "      <td>1469129122</td>\n",
       "    </tr>\n",
       "    <tr>\n",
       "      <th>7</th>\n",
       "      <td>-1032019229384696495</td>\n",
       "      <td>-1039912738963181810</td>\n",
       "      <td>1.0</td>\n",
       "      <td>1459376415</td>\n",
       "    </tr>\n",
       "    <tr>\n",
       "      <th>8</th>\n",
       "      <td>-1032019229384696495</td>\n",
       "      <td>-1081723567492738167</td>\n",
       "      <td>2.0</td>\n",
       "      <td>1464054093</td>\n",
       "    </tr>\n",
       "  </tbody>\n",
       "</table>\n",
       "</div>"
      ],
      "text/plain": [
       "               personId             contentId  eventStrength  last_timestamp\n",
       "0  -1007001694607905623  -5065077552540450930            1.0      1470395911\n",
       "2  -1007001694607905623   -793729620925729327            1.0      1472834892\n",
       "6  -1032019229384696495  -1006791494035379303            1.0      1469129122\n",
       "7  -1032019229384696495  -1039912738963181810            1.0      1459376415\n",
       "8  -1032019229384696495  -1081723567492738167            2.0      1464054093"
      ]
     },
     "execution_count": 39,
     "metadata": {},
     "output_type": "execute_result"
    }
   ],
   "source": [
    "interactions_train_df.head()"
   ]
  },
  {
   "cell_type": "markdown",
   "metadata": {},
   "source": [
    "Посчитайте популярность каждой статьи, как сумму всех \"оценок\" взаимодействий с ней. Отсортируйте материалы по убыванию их популярности. Как результат создайте массив popular_content, состоящий из отсортированных по популярности статей."
   ]
  },
  {
   "cell_type": "code",
   "execution_count": 40,
   "metadata": {
    "ExecuteTime": {
     "end_time": "2019-06-08T12:40:15.259296Z",
     "start_time": "2019-06-08T12:40:15.239253Z"
    }
   },
   "outputs": [],
   "source": [
    "popular_content = interactions_train_df.groupby('contentId') \\\n",
    "                                       .eventStrength.sum() \\\n",
    "                                       .reset_index() \\\n",
    "                                       .sort_values('eventStrength',ascending=False) \\\n",
    "                                       .contentId \\\n",
    "                                       .values"
   ]
  },
  {
   "cell_type": "code",
   "execution_count": 41,
   "metadata": {
    "ExecuteTime": {
     "end_time": "2019-06-08T12:40:17.455633Z",
     "start_time": "2019-06-08T12:40:17.448173Z"
    }
   },
   "outputs": [
    {
     "data": {
      "text/plain": [
       "array(['-6783772548752091658', '-133139342397538859',\n",
       "       '-8208801367848627943', ..., '6240076106289531207',\n",
       "       '6541551984368289722', '7083316110921342538'], dtype=object)"
      ]
     },
     "execution_count": 41,
     "metadata": {},
     "output_type": "execute_result"
    }
   ],
   "source": [
    "popular_content"
   ]
  },
  {
   "cell_type": "markdown",
   "metadata": {},
   "source": [
    "Теперь необходимо сделать предсказания для каждого пользователя. Не забывайте, что надо рекомендовать то, что пользователь ещё не читал (для этого нужно проверить, что материал не встречался в true_train)."
   ]
  },
  {
   "cell_type": "code",
   "execution_count": 42,
   "metadata": {
    "ExecuteTime": {
     "end_time": "2019-06-08T13:23:01.078455Z",
     "start_time": "2019-06-08T13:22:58.364762Z"
    }
   },
   "outputs": [],
   "source": [
    "top_k = 10\n",
    "\n",
    "interactions['prediction_popular'] = (\n",
    "    interactions.true_train\n",
    "    .apply(\n",
    "        lambda x:\n",
    "        popular_content[~np.in1d(popular_content, x)][:top_k]\n",
    "    )\n",
    ")"
   ]
  },
  {
   "cell_type": "markdown",
   "metadata": {},
   "source": [
    "Настало время оценить качество. Посчитаем precision@10 для каждого пользователя (доля угаданных рекомендаций). Усредните по всем пользователям. Везде далее будем считать эту же метрику.\n",
    "\n",
    "(для каждого пользователя посчитаем долю правильно предсказанных статей (если в ответе их меньше 10ти, то будем нормировать на реальное количество статей))."
   ]
  },
  {
   "cell_type": "code",
   "execution_count": 43,
   "metadata": {
    "ExecuteTime": {
     "end_time": "2019-06-08T13:23:01.956777Z",
     "start_time": "2019-06-08T13:23:01.946733Z"
    }
   },
   "outputs": [],
   "source": [
    "def calc_precision(column):\n",
    "    return (\n",
    "        interactions\n",
    "        .apply(\n",
    "            lambda row:\n",
    "            len(set(row['true_test']).intersection(\n",
    "                set(row[column]))) /\n",
    "            min(len(row['true_test']) + 0.001, 10.0),\n",
    "            axis=1)).mean()"
   ]
  },
  {
   "cell_type": "code",
   "execution_count": 44,
   "metadata": {
    "ExecuteTime": {
     "end_time": "2019-06-08T13:23:02.965760Z",
     "start_time": "2019-06-08T13:23:02.888095Z"
    }
   },
   "outputs": [
    {
     "data": {
      "text/plain": [
       "0.006454207722621084"
      ]
     },
     "execution_count": 44,
     "metadata": {},
     "output_type": "execute_result"
    }
   ],
   "source": [
    "calc_precision('prediction_popular')"
   ]
  },
  {
   "cell_type": "code",
   "execution_count": null,
   "metadata": {
    "ExecuteTime": {
     "end_time": "2019-06-08T12:57:37.405981Z",
     "start_time": "2019-06-08T12:57:37.396225Z"
    }
   },
   "outputs": [],
   "source": [
    "interactions.true_test.apply(len).sum()"
   ]
  },
  {
   "cell_type": "markdown",
   "metadata": {},
   "source": [
    "## Часть 2. Коллаборативная фильтрация."
   ]
  },
  {
   "cell_type": "markdown",
   "metadata": {},
   "source": [
    "Перейдём к более сложному механизму рекомендаций, а именно коллаборативной фильтрации. Суть коллаборативной фильтрации в том, что учитывается схожесть пользователей и товаров между собой, а не факторы, которые их описывают. \n",
    "\n",
    "Реализуем memory-based подход.\n",
    "\n",
    "Для начала для удобства составим матрицу \"оценок\" пользователей. Нули будут обозначать отсутствие взаимодействия."
   ]
  },
  {
   "cell_type": "code",
   "execution_count": null,
   "metadata": {
    "ExecuteTime": {
     "end_time": "2019-06-08T13:01:37.998807Z",
     "start_time": "2019-06-08T13:01:37.836709Z"
    }
   },
   "outputs": [],
   "source": [
    "ratings = pd.pivot_table(\n",
    "    interactions_train_df,\n",
    "    values='eventStrength',\n",
    "    index='personId',\n",
    "    columns='contentId').fillna(0)"
   ]
  },
  {
   "cell_type": "code",
   "execution_count": null,
   "metadata": {},
   "outputs": [],
   "source": [
    "ratings.head()"
   ]
  },
  {
   "cell_type": "markdown",
   "metadata": {},
   "source": [
    "### Memory-based"
   ]
  },
  {
   "cell_type": "markdown",
   "metadata": {},
   "source": [
    "Посчитайте схожести пользователей с помощью корреляции Пирсона. Для каждой пары учитываем только ненулевые значения.\n",
    "\n",
    "Для скорости работы лучше переходить от pandas к numpy."
   ]
  },
  {
   "cell_type": "code",
   "execution_count": null,
   "metadata": {},
   "outputs": [],
   "source": [
    "ratings_m = ratings.as_matrix()"
   ]
  },
  {
   "cell_type": "markdown",
   "metadata": {},
   "source": [
    "Дозаполните код: \n",
    "\n",
    "1) Отнормируйте рейтинги (поделите рейтинг на его норму).\n",
    "\n",
    "2) Вычислите корреляцию между пользователями."
   ]
  },
  {
   "cell_type": "code",
   "execution_count": null,
   "metadata": {},
   "outputs": [],
   "source": [
    "similarity_users = np.zeros((len(ratings_m), len(ratings_m)))\n",
    "\n",
    "for i in tqdm_notebook(range(len(ratings_m)-1)):\n",
    "    for j in range(i+1, len(ratings_m)):\n",
    "        \n",
    "        # nonzero elements of two users\n",
    "        mask_uv = (ratings_m[i] != 0) & (ratings_m[j] != 0)\n",
    "        \n",
    "        # continue if no intersection\n",
    "        if np.sum(mask_uv) == 0:\n",
    "            continue\n",
    "            \n",
    "        # get nonzero elements\n",
    "        ratings_v = ratings_m[i, mask_uv]\n",
    "        ratings_u = ratings_m[j, mask_uv]\n",
    "        \n",
    "        # normalization\n",
    "        # YOUR CODE HERE\n",
    "        \n",
    "        # for nonzero std\n",
    "        if len(np.unique(ratings_v)) < 2 or len(np.unique(ratings_u)) < 2:\n",
    "            continue\n",
    "        \n",
    "        similarity_users[i,j] = # YOUR CODE HERE\n",
    "        similarity_users[j,i] = # YOUR CODE HERE"
   ]
  },
  {
   "cell_type": "markdown",
   "metadata": {},
   "source": [
    "Теперь у нас есть матрицы схожести пользователей. Их можно использовать для рекомендаций.\n",
    "\n",
    "Для каждого пользователя:\n",
    "\n",
    "1. Найдём пользователей с похожестью больше $\\alpha$ на нашего пользователя.\n",
    "2. Посчитаем для каждой статьи долю пользователей (среди выделенных на первом шаге), которые взаимодействовали со статьёй.\n",
    "3. Порекомендуем статьи с наибольшими долями со второго шага (среди тех, которые пользователь ещё не видел).\n",
    "\n",
    "В нашем примере данных не очень много, поэтому возьмём $\\alpha = 0$.\n",
    "\n",
    "После того, как будут сделаны предсказания (новый столбец в interactions), посчитайте качество по той же метрике."
   ]
  },
  {
   "cell_type": "code",
   "execution_count": 1,
   "metadata": {},
   "outputs": [],
   "source": [
    "#1. users_sim - массив, где похожие на данного пользователя пользователи \n",
    "#   отмечены как True, а остальные как False.\n",
    "\n",
    "#2. tmp_recommend - статьи, с которыми взаимодействовали пользователи, похожие на нашего.\n",
    "#   для подсчета tmp_recommend:\n",
    "#   1. Оставьте в матрице ratings_m только похожих пользователей (users_sim)\n",
    "#   2. Просуммируйте значения в строках. Затем отсортируйте номера строк (np.argsort) \n",
    "#      по убыванию (популярности).\n",
    "#   3. Оставьте только колонки tmp_recommend в матрице ratings (наиболее популярные статьи)\n",
    "#      и сохраните их как np.array под названием tmp_recommend_arr.\n",
    "\n",
    "#3. recommend - 10 статей с наибольшими долями. Исключите из tmp_recommend_arr статьи, \n",
    "#   которые пользователь уже видел."
   ]
  },
  {
   "cell_type": "code",
   "execution_count": null,
   "metadata": {
    "scrolled": true
   },
   "outputs": [],
   "source": [
    "prediction_user_based = []\n",
    "for i in tqdm_notebook(range(len(similarity_users))):\n",
    "        \n",
    "    users_sim = #your code here\n",
    "\n",
    "    if sum(users_sim) == 0:\n",
    "        prediction_user_based.append([])\n",
    "    else:\n",
    "        tmp_recommend = #your code here\n",
    "        tmp_recommend_arr = #your code here\n",
    "        recommend = #your code here\n",
    "        prediction_user_based.append(list(recommend))\n",
    "\n",
    "interactions['prediction_user_based'] = prediction_user_based"
   ]
  },
  {
   "cell_type": "code",
   "execution_count": null,
   "metadata": {},
   "outputs": [],
   "source": [
    "calc_precision('prediction_user_based')"
   ]
  }
 ],
 "metadata": {
  "kernelspec": {
   "display_name": "Python 3",
   "language": "python",
   "name": "python3"
  },
  "language_info": {
   "codemirror_mode": {
    "name": "ipython",
    "version": 3
   },
   "file_extension": ".py",
   "mimetype": "text/x-python",
   "name": "python",
   "nbconvert_exporter": "python",
   "pygments_lexer": "ipython3",
   "version": "3.6.6"
  },
  "toc": {
   "base_numbering": 1,
   "nav_menu": {},
   "number_sections": true,
   "sideBar": true,
   "skip_h1_title": false,
   "title_cell": "Table of Contents",
   "title_sidebar": "Contents",
   "toc_cell": false,
   "toc_position": {},
   "toc_section_display": true,
   "toc_window_display": false
  },
  "varInspector": {
   "cols": {
    "lenName": 16,
    "lenType": 16,
    "lenVar": 40
   },
   "kernels_config": {
    "python": {
     "delete_cmd_postfix": "",
     "delete_cmd_prefix": "del ",
     "library": "var_list.py",
     "varRefreshCmd": "print(var_dic_list())"
    },
    "r": {
     "delete_cmd_postfix": ") ",
     "delete_cmd_prefix": "rm(",
     "library": "var_list.r",
     "varRefreshCmd": "cat(var_dic_list()) "
    }
   },
   "types_to_exclude": [
    "module",
    "function",
    "builtin_function_or_method",
    "instance",
    "_Feature"
   ],
   "window_display": false
  }
 },
 "nbformat": 4,
 "nbformat_minor": 1
}
