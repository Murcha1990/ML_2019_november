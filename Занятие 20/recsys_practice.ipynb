{
 "cells": [
  {
   "cell_type": "markdown",
   "metadata": {},
   "source": [
    "# Домашнее задание\n",
    "\n",
    "Будем работать с Book-Crossing Dataset: http://www2.informatik.uni-freiburg.de/~cziegler/BX/\n",
    "Пользователи давали оценку прочитанным книгах в баллах от 0 до 10. \n",
    "На основе этих данных (плюс данные о пользователях и данные о книгах) постройте рекомендательную систему.\n",
    "\n",
    "Данные для задачи также можно скачать здесь:\n",
    "https://yadi.sk/d/sWDjI4p3LQVbqw"
   ]
  },
  {
   "cell_type": "markdown",
   "metadata": {},
   "source": [
    "### Анализ и обработка данных\n",
    "\n",
    "Посмотрите, что находится в файлах BX-Users, BX-Books и BX-Book-ratings. Затем сделайте обработку файла с рейтингами, как мы делали в ноутбуке recsys."
   ]
  },
  {
   "cell_type": "code",
   "execution_count": null,
   "metadata": {},
   "outputs": [],
   "source": [
    "import pandas as pd\n",
    "import numpy as np\n",
    "import math"
   ]
  },
  {
   "cell_type": "code",
   "execution_count": null,
   "metadata": {},
   "outputs": [],
   "source": [
    "users = pd.read_csv(\"BX-Users.csv\", encoding='cp1251', error_bad_lines=False, delimiter=';')\n",
    "users.head()"
   ]
  },
  {
   "cell_type": "code",
   "execution_count": null,
   "metadata": {},
   "outputs": [],
   "source": [
    "books = pd.read_csv(\"BX-Books.csv\", encoding='cp1251', error_bad_lines=False, delimiter=';')\n",
    "books.head()"
   ]
  },
  {
   "cell_type": "code",
   "execution_count": null,
   "metadata": {},
   "outputs": [],
   "source": [
    "interactions_df = pd.read_csv(\"BX-Book-Ratings.csv\", encoding='cp1251', error_bad_lines=False, delimiter=';')\n",
    "interactions_df.head()"
   ]
  },
  {
   "cell_type": "code",
   "execution_count": null,
   "metadata": {},
   "outputs": [],
   "source": [
    "#your code here"
   ]
  },
  {
   "cell_type": "markdown",
   "metadata": {},
   "source": [
    "### Модель по популярности\n",
    "\n",
    "Постройте модель, в которой каждому пользователю предлагается 10 самых популярных книг, кроме тех, которые он уже читал. Посмотрите на метрику качества."
   ]
  },
  {
   "cell_type": "code",
   "execution_count": null,
   "metadata": {},
   "outputs": [],
   "source": [
    "#your code here"
   ]
  },
  {
   "cell_type": "markdown",
   "metadata": {},
   "source": [
    "### Коллаборативная фильтрация\n",
    "\n",
    "Так как датасет очень большой (и пользователей, и книг много), оставим только информацию о взаимодействии пользователей с тысячей самых популярных книг и будем делать предсказания только для этих 1000 книг."
   ]
  },
  {
   "cell_type": "code",
   "execution_count": null,
   "metadata": {},
   "outputs": [],
   "source": [
    "interactions_small_df = interactions_full_df[interactions_full_df.contentId.isin(popular_content[:1000])]"
   ]
  },
  {
   "cell_type": "code",
   "execution_count": null,
   "metadata": {},
   "outputs": [],
   "source": [
    "interactions_small_df.shape, interactions_full_df.shape"
   ]
  },
  {
   "cell_type": "code",
   "execution_count": null,
   "metadata": {},
   "outputs": [],
   "source": [
    "interactions_train_df, interactions_test_df = train_test_split(interactions_small_df, test_size=0.5, random_state=111)"
   ]
  },
  {
   "cell_type": "code",
   "execution_count": null,
   "metadata": {},
   "outputs": [],
   "source": [
    "#your code here"
   ]
  },
  {
   "cell_type": "markdown",
   "metadata": {},
   "source": [
    "### Модель со скрытыми переменными\n",
    "\n",
    "Реализуйте модель на основе SVD-разложения. Подберите число компонент, которые необходимо оставить."
   ]
  },
  {
   "cell_type": "code",
   "execution_count": null,
   "metadata": {},
   "outputs": [],
   "source": [
    "from scipy.linalg import svd"
   ]
  },
  {
   "cell_type": "code",
   "execution_count": null,
   "metadata": {},
   "outputs": [],
   "source": [
    "#your code here"
   ]
  },
  {
   "cell_type": "markdown",
   "metadata": {},
   "source": [
    "### Контентная модель\n",
    "\n",
    "Напишите контентную модель для рекомендаций. Используйте признаки из таблиц о пользователях и о книгах."
   ]
  },
  {
   "cell_type": "code",
   "execution_count": null,
   "metadata": {},
   "outputs": [],
   "source": [
    "#your code here"
   ]
  },
  {
   "cell_type": "markdown",
   "metadata": {},
   "source": [
    "### (Опционально) Факторизационные машины\n",
    "\n",
    "Используйте факторизационную машину для построения рекомендаций."
   ]
  },
  {
   "cell_type": "code",
   "execution_count": null,
   "metadata": {},
   "outputs": [],
   "source": [
    "#your code here"
   ]
  }
 ],
 "metadata": {
  "kernelspec": {
   "display_name": "Python 3",
   "language": "python",
   "name": "python3"
  },
  "language_info": {
   "codemirror_mode": {
    "name": "ipython",
    "version": 3
   },
   "file_extension": ".py",
   "mimetype": "text/x-python",
   "name": "python",
   "nbconvert_exporter": "python",
   "pygments_lexer": "ipython3",
   "version": "3.6.6"
  }
 },
 "nbformat": 4,
 "nbformat_minor": 2
}
