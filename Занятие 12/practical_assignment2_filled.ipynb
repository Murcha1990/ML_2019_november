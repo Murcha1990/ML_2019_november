{
 "cells": [
  {
   "cell_type": "markdown",
   "metadata": {},
   "source": [
    "### Практическая работа 2.\n",
    "\n",
    "В этой работе будем использовать датасет для классификации - определять, есть у пациента рак груди или нет. В этом датасете все признаки категориальные.\n",
    "\n",
    "Делайте те шаги задания, которые можете. Задание устроено так, что можно пропускать некоторые шаги и при этом делать следующие. "
   ]
  },
  {
   "cell_type": "code",
   "execution_count": 1,
   "metadata": {},
   "outputs": [
    {
     "name": "stdout",
     "output_type": "stream",
     "text": [
      "Populating the interactive namespace from numpy and matplotlib\n"
     ]
    },
    {
     "name": "stderr",
     "output_type": "stream",
     "text": [
      "C:\\Users\\elena\\Anaconda3\\lib\\site-packages\\IPython\\core\\magics\\pylab.py:160: UserWarning: pylab import has clobbered these variables: ['plt']\n",
      "`%matplotlib` prevents importing * from pylab and numpy\n",
      "  \"\\n`%matplotlib` prevents importing * from pylab and numpy\"\n"
     ]
    }
   ],
   "source": [
    "from __future__ import division\n",
    "from __future__ import print_function\n",
    "\n",
    "import pandas as pd\n",
    "import numpy as np\n",
    "\n",
    "from sklearn.linear_model import LogisticRegression\n",
    "from sklearn.model_selection import cross_val_score\n",
    "from sklearn.svm import SVC\n",
    "\n",
    "from matplotlib import pylab as plt\n",
    "%pylab inline\n",
    "\n",
    "from sklearn.manifold import TSNE\n",
    "\n",
    "import os\n",
    "import sys\n",
    "from time import time\n",
    "\n",
    "import warnings\n",
    "\n",
    "warnings.filterwarnings(\"ignore\")\n",
    "\n",
    "from sklearn.model_selection import train_test_split\n",
    "from scipy.io import loadmat\n",
    "\n",
    "from pyod.models.abod import ABOD\n",
    "from pyod.models.cblof import CBLOF\n",
    "from pyod.models.feature_bagging import FeatureBagging\n",
    "from pyod.models.hbos import HBOS\n",
    "from pyod.models.iforest import IForest\n",
    "from pyod.models.knn import KNN\n",
    "from pyod.models.lof import LOF\n",
    "from pyod.models.mcd import MCD\n",
    "from pyod.models.ocsvm import OCSVM\n",
    "from pyod.models.pca import PCA as PCA1\n",
    "\n",
    "from pyod.utils.utility import standardizer\n",
    "from pyod.utils.utility import precision_n_scores\n",
    "from sklearn.metrics import roc_auc_score\n",
    "\n",
    "from sklearn.pipeline import Pipeline\n",
    "\n",
    "from sklearn.decomposition import PCA"
   ]
  },
  {
   "cell_type": "code",
   "execution_count": 2,
   "metadata": {},
   "outputs": [],
   "source": [
    "df = pd.read_csv(\"breast-cancer.data\",header=None)"
   ]
  },
  {
   "cell_type": "markdown",
   "metadata": {},
   "source": [
    "## Шаг 1.\n",
    "\n",
    "Выведите на экран первые 5 строк таблицы. Последняя (9я) колонка - целевая переменная.\n",
    "\n",
    "Также выведите на экран количество строк с ответом \"no\" и количество строк с ответом \"yes\"."
   ]
  },
  {
   "cell_type": "code",
   "execution_count": 3,
   "metadata": {},
   "outputs": [
    {
     "data": {
      "text/html": [
       "<div>\n",
       "<style scoped>\n",
       "    .dataframe tbody tr th:only-of-type {\n",
       "        vertical-align: middle;\n",
       "    }\n",
       "\n",
       "    .dataframe tbody tr th {\n",
       "        vertical-align: top;\n",
       "    }\n",
       "\n",
       "    .dataframe thead th {\n",
       "        text-align: right;\n",
       "    }\n",
       "</style>\n",
       "<table border=\"1\" class=\"dataframe\">\n",
       "  <thead>\n",
       "    <tr style=\"text-align: right;\">\n",
       "      <th></th>\n",
       "      <th>0</th>\n",
       "      <th>1</th>\n",
       "      <th>2</th>\n",
       "      <th>3</th>\n",
       "      <th>4</th>\n",
       "      <th>5</th>\n",
       "      <th>6</th>\n",
       "      <th>7</th>\n",
       "      <th>8</th>\n",
       "      <th>9</th>\n",
       "    </tr>\n",
       "  </thead>\n",
       "  <tbody>\n",
       "    <tr>\n",
       "      <th>0</th>\n",
       "      <td>no-recurrence-events</td>\n",
       "      <td>30-39</td>\n",
       "      <td>premeno</td>\n",
       "      <td>30-34</td>\n",
       "      <td>0-2</td>\n",
       "      <td>no</td>\n",
       "      <td>3</td>\n",
       "      <td>left</td>\n",
       "      <td>left_low</td>\n",
       "      <td>no</td>\n",
       "    </tr>\n",
       "    <tr>\n",
       "      <th>1</th>\n",
       "      <td>no-recurrence-events</td>\n",
       "      <td>40-49</td>\n",
       "      <td>premeno</td>\n",
       "      <td>20-24</td>\n",
       "      <td>0-2</td>\n",
       "      <td>no</td>\n",
       "      <td>2</td>\n",
       "      <td>right</td>\n",
       "      <td>right_up</td>\n",
       "      <td>no</td>\n",
       "    </tr>\n",
       "    <tr>\n",
       "      <th>2</th>\n",
       "      <td>no-recurrence-events</td>\n",
       "      <td>40-49</td>\n",
       "      <td>premeno</td>\n",
       "      <td>20-24</td>\n",
       "      <td>0-2</td>\n",
       "      <td>no</td>\n",
       "      <td>2</td>\n",
       "      <td>left</td>\n",
       "      <td>left_low</td>\n",
       "      <td>no</td>\n",
       "    </tr>\n",
       "    <tr>\n",
       "      <th>3</th>\n",
       "      <td>no-recurrence-events</td>\n",
       "      <td>60-69</td>\n",
       "      <td>ge40</td>\n",
       "      <td>15-19</td>\n",
       "      <td>0-2</td>\n",
       "      <td>no</td>\n",
       "      <td>2</td>\n",
       "      <td>right</td>\n",
       "      <td>left_up</td>\n",
       "      <td>no</td>\n",
       "    </tr>\n",
       "    <tr>\n",
       "      <th>4</th>\n",
       "      <td>no-recurrence-events</td>\n",
       "      <td>40-49</td>\n",
       "      <td>premeno</td>\n",
       "      <td>0-4</td>\n",
       "      <td>0-2</td>\n",
       "      <td>no</td>\n",
       "      <td>2</td>\n",
       "      <td>right</td>\n",
       "      <td>right_low</td>\n",
       "      <td>no</td>\n",
       "    </tr>\n",
       "  </tbody>\n",
       "</table>\n",
       "</div>"
      ],
      "text/plain": [
       "                      0      1        2      3    4   5  6      7          8  \\\n",
       "0  no-recurrence-events  30-39  premeno  30-34  0-2  no  3   left   left_low   \n",
       "1  no-recurrence-events  40-49  premeno  20-24  0-2  no  2  right   right_up   \n",
       "2  no-recurrence-events  40-49  premeno  20-24  0-2  no  2   left   left_low   \n",
       "3  no-recurrence-events  60-69     ge40  15-19  0-2  no  2  right    left_up   \n",
       "4  no-recurrence-events  40-49  premeno    0-4  0-2  no  2  right  right_low   \n",
       "\n",
       "    9  \n",
       "0  no  \n",
       "1  no  \n",
       "2  no  \n",
       "3  no  \n",
       "4  no  "
      ]
     },
     "execution_count": 3,
     "metadata": {},
     "output_type": "execute_result"
    }
   ],
   "source": [
    "#your code here\n",
    "df.head()"
   ]
  },
  {
   "cell_type": "markdown",
   "metadata": {},
   "source": [
    "### Шаг 2.\n",
    "Попытайтесь дать интерпретации тому, что содержится в колонках. Запишите словами, что по вашему мнению может содержаться в каждой колонке."
   ]
  },
  {
   "cell_type": "code",
   "execution_count": 5,
   "metadata": {},
   "outputs": [],
   "source": [
    "#your interpretation here"
   ]
  },
  {
   "cell_type": "markdown",
   "metadata": {},
   "source": [
    "### Шаг 3.\n",
    "Используйте get_dummies для кодирования столбцов 2, 5, 6, 8."
   ]
  },
  {
   "cell_type": "code",
   "execution_count": 7,
   "metadata": {},
   "outputs": [],
   "source": [
    "#your code here\n",
    "df = pd.get_dummies(df, columns=[2,5,6,8])"
   ]
  },
  {
   "cell_type": "code",
   "execution_count": 8,
   "metadata": {},
   "outputs": [
    {
     "data": {
      "text/html": [
       "<div>\n",
       "<style scoped>\n",
       "    .dataframe tbody tr th:only-of-type {\n",
       "        vertical-align: middle;\n",
       "    }\n",
       "\n",
       "    .dataframe tbody tr th {\n",
       "        vertical-align: top;\n",
       "    }\n",
       "\n",
       "    .dataframe thead th {\n",
       "        text-align: right;\n",
       "    }\n",
       "</style>\n",
       "<table border=\"1\" class=\"dataframe\">\n",
       "  <thead>\n",
       "    <tr style=\"text-align: right;\">\n",
       "      <th></th>\n",
       "      <th>0</th>\n",
       "      <th>1</th>\n",
       "      <th>3</th>\n",
       "      <th>4</th>\n",
       "      <th>7</th>\n",
       "      <th>9</th>\n",
       "      <th>2_ge40</th>\n",
       "      <th>2_lt40</th>\n",
       "      <th>2_premeno</th>\n",
       "      <th>5_?</th>\n",
       "      <th>...</th>\n",
       "      <th>5_yes</th>\n",
       "      <th>6_1</th>\n",
       "      <th>6_2</th>\n",
       "      <th>6_3</th>\n",
       "      <th>8_?</th>\n",
       "      <th>8_central</th>\n",
       "      <th>8_left_low</th>\n",
       "      <th>8_left_up</th>\n",
       "      <th>8_right_low</th>\n",
       "      <th>8_right_up</th>\n",
       "    </tr>\n",
       "  </thead>\n",
       "  <tbody>\n",
       "    <tr>\n",
       "      <th>0</th>\n",
       "      <td>no-recurrence-events</td>\n",
       "      <td>30-39</td>\n",
       "      <td>30-34</td>\n",
       "      <td>0-2</td>\n",
       "      <td>left</td>\n",
       "      <td>no</td>\n",
       "      <td>0</td>\n",
       "      <td>0</td>\n",
       "      <td>1</td>\n",
       "      <td>0</td>\n",
       "      <td>...</td>\n",
       "      <td>0</td>\n",
       "      <td>0</td>\n",
       "      <td>0</td>\n",
       "      <td>1</td>\n",
       "      <td>0</td>\n",
       "      <td>0</td>\n",
       "      <td>1</td>\n",
       "      <td>0</td>\n",
       "      <td>0</td>\n",
       "      <td>0</td>\n",
       "    </tr>\n",
       "    <tr>\n",
       "      <th>1</th>\n",
       "      <td>no-recurrence-events</td>\n",
       "      <td>40-49</td>\n",
       "      <td>20-24</td>\n",
       "      <td>0-2</td>\n",
       "      <td>right</td>\n",
       "      <td>no</td>\n",
       "      <td>0</td>\n",
       "      <td>0</td>\n",
       "      <td>1</td>\n",
       "      <td>0</td>\n",
       "      <td>...</td>\n",
       "      <td>0</td>\n",
       "      <td>0</td>\n",
       "      <td>1</td>\n",
       "      <td>0</td>\n",
       "      <td>0</td>\n",
       "      <td>0</td>\n",
       "      <td>0</td>\n",
       "      <td>0</td>\n",
       "      <td>0</td>\n",
       "      <td>1</td>\n",
       "    </tr>\n",
       "    <tr>\n",
       "      <th>2</th>\n",
       "      <td>no-recurrence-events</td>\n",
       "      <td>40-49</td>\n",
       "      <td>20-24</td>\n",
       "      <td>0-2</td>\n",
       "      <td>left</td>\n",
       "      <td>no</td>\n",
       "      <td>0</td>\n",
       "      <td>0</td>\n",
       "      <td>1</td>\n",
       "      <td>0</td>\n",
       "      <td>...</td>\n",
       "      <td>0</td>\n",
       "      <td>0</td>\n",
       "      <td>1</td>\n",
       "      <td>0</td>\n",
       "      <td>0</td>\n",
       "      <td>0</td>\n",
       "      <td>1</td>\n",
       "      <td>0</td>\n",
       "      <td>0</td>\n",
       "      <td>0</td>\n",
       "    </tr>\n",
       "    <tr>\n",
       "      <th>3</th>\n",
       "      <td>no-recurrence-events</td>\n",
       "      <td>60-69</td>\n",
       "      <td>15-19</td>\n",
       "      <td>0-2</td>\n",
       "      <td>right</td>\n",
       "      <td>no</td>\n",
       "      <td>1</td>\n",
       "      <td>0</td>\n",
       "      <td>0</td>\n",
       "      <td>0</td>\n",
       "      <td>...</td>\n",
       "      <td>0</td>\n",
       "      <td>0</td>\n",
       "      <td>1</td>\n",
       "      <td>0</td>\n",
       "      <td>0</td>\n",
       "      <td>0</td>\n",
       "      <td>0</td>\n",
       "      <td>1</td>\n",
       "      <td>0</td>\n",
       "      <td>0</td>\n",
       "    </tr>\n",
       "    <tr>\n",
       "      <th>4</th>\n",
       "      <td>no-recurrence-events</td>\n",
       "      <td>40-49</td>\n",
       "      <td>0-4</td>\n",
       "      <td>0-2</td>\n",
       "      <td>right</td>\n",
       "      <td>no</td>\n",
       "      <td>0</td>\n",
       "      <td>0</td>\n",
       "      <td>1</td>\n",
       "      <td>0</td>\n",
       "      <td>...</td>\n",
       "      <td>0</td>\n",
       "      <td>0</td>\n",
       "      <td>1</td>\n",
       "      <td>0</td>\n",
       "      <td>0</td>\n",
       "      <td>0</td>\n",
       "      <td>0</td>\n",
       "      <td>0</td>\n",
       "      <td>1</td>\n",
       "      <td>0</td>\n",
       "    </tr>\n",
       "  </tbody>\n",
       "</table>\n",
       "<p>5 rows × 21 columns</p>\n",
       "</div>"
      ],
      "text/plain": [
       "                      0      1      3    4      7   9  2_ge40  2_lt40  \\\n",
       "0  no-recurrence-events  30-39  30-34  0-2   left  no       0       0   \n",
       "1  no-recurrence-events  40-49  20-24  0-2  right  no       0       0   \n",
       "2  no-recurrence-events  40-49  20-24  0-2   left  no       0       0   \n",
       "3  no-recurrence-events  60-69  15-19  0-2  right  no       1       0   \n",
       "4  no-recurrence-events  40-49    0-4  0-2  right  no       0       0   \n",
       "\n",
       "   2_premeno  5_?     ...      5_yes  6_1  6_2  6_3  8_?  8_central  \\\n",
       "0          1    0     ...          0    0    0    1    0          0   \n",
       "1          1    0     ...          0    0    1    0    0          0   \n",
       "2          1    0     ...          0    0    1    0    0          0   \n",
       "3          0    0     ...          0    0    1    0    0          0   \n",
       "4          1    0     ...          0    0    1    0    0          0   \n",
       "\n",
       "   8_left_low  8_left_up  8_right_low  8_right_up  \n",
       "0           1          0            0           0  \n",
       "1           0          0            0           1  \n",
       "2           1          0            0           0  \n",
       "3           0          1            0           0  \n",
       "4           0          0            1           0  \n",
       "\n",
       "[5 rows x 21 columns]"
      ]
     },
     "execution_count": 8,
     "metadata": {},
     "output_type": "execute_result"
    }
   ],
   "source": [
    "df.head()"
   ]
  },
  {
   "cell_type": "markdown",
   "metadata": {},
   "source": [
    "### Шаг 4.\n",
    "\n",
    "Колонки 0, 7 и 9 содержат по два категориальных значения. Закодируйте их 0 и 1.\n",
    "Например, в столбце 9 стоят 'yes' и 'no'. Замените 'yes' на 1, а 'no' на 0. Аналогично поступите с колонками 0 и 7."
   ]
  },
  {
   "cell_type": "code",
   "execution_count": 11,
   "metadata": {
    "scrolled": true
   },
   "outputs": [],
   "source": [
    "#your code here\n",
    "df[0] = df[0].map({'no-recurrence-events': 0, 'recurrence-events': 1})\n",
    "df[7] = df[7].map({'left': 0, 'right': 1})\n",
    "df[9] = df[9].map({'no': 0, 'yes': 1})"
   ]
  },
  {
   "cell_type": "markdown",
   "metadata": {},
   "source": [
    "### Шаг 5. \n",
    "Столбцы 1, 3 и 4 содержат несколько категорий. Закодируйте их вручную. Например, в столбце 4 категорию '0-2' замените на 0, '3-5' на 1, '6-8' на 2 и т.д. Аналогично поступите с колонками 1 и 3."
   ]
  },
  {
   "cell_type": "code",
   "execution_count": 24,
   "metadata": {
    "scrolled": true
   },
   "outputs": [
    {
     "data": {
      "text/plain": [
       "0      0\n",
       "1      0\n",
       "2      0\n",
       "3      0\n",
       "4      0\n",
       "5      0\n",
       "6      0\n",
       "7      0\n",
       "8      0\n",
       "9      0\n",
       "10     0\n",
       "11     0\n",
       "12     0\n",
       "13     0\n",
       "14     0\n",
       "15     0\n",
       "16     0\n",
       "17     0\n",
       "18     0\n",
       "19     0\n",
       "20     0\n",
       "21     0\n",
       "22     0\n",
       "23     0\n",
       "24     0\n",
       "25     0\n",
       "26     0\n",
       "27     0\n",
       "28     0\n",
       "29     0\n",
       "      ..\n",
       "256    0\n",
       "257    1\n",
       "258    2\n",
       "259    1\n",
       "260    1\n",
       "261    4\n",
       "262    0\n",
       "263    0\n",
       "264    0\n",
       "265    3\n",
       "266    1\n",
       "267    6\n",
       "268    0\n",
       "269    0\n",
       "270    2\n",
       "271    0\n",
       "272    0\n",
       "273    0\n",
       "274    1\n",
       "275    3\n",
       "276    2\n",
       "277    2\n",
       "278    5\n",
       "279    2\n",
       "280    2\n",
       "281    0\n",
       "282    0\n",
       "283    0\n",
       "284    1\n",
       "285    1\n",
       "Name: 4, Length: 286, dtype: int64"
      ]
     },
     "execution_count": 24,
     "metadata": {},
     "output_type": "execute_result"
    }
   ],
   "source": [
    "#your code here\n",
    "\n",
    "def map_4(x):\n",
    "    if x == '0-2':\n",
    "        return 0\n",
    "    if x == '3-5':\n",
    "        return 1\n",
    "    if x == '6-8':\n",
    "        return 2\n",
    "    if x == '9-11':\n",
    "        return 3\n",
    "    if x == '12-14':\n",
    "        return 4\n",
    "    if x == '15-17':\n",
    "        return 5\n",
    "    return 6\n",
    "\n",
    "df[4] = df[4].apply(map_4)   \n",
    "df[4]"
   ]
  },
  {
   "cell_type": "code",
   "execution_count": 25,
   "metadata": {},
   "outputs": [
    {
     "data": {
      "text/plain": [
       "0       6\n",
       "1       4\n",
       "2       4\n",
       "3       3\n",
       "4       0\n",
       "5       3\n",
       "6       5\n",
       "7       4\n",
       "8      10\n",
       "9       4\n",
       "10      0\n",
       "11      5\n",
       "12      2\n",
       "13      5\n",
       "14      6\n",
       "15      6\n",
       "16      3\n",
       "17      6\n",
       "18      6\n",
       "19      6\n",
       "20      8\n",
       "21      3\n",
       "22      5\n",
       "23      8\n",
       "24      7\n",
       "25      5\n",
       "26      4\n",
       "27      5\n",
       "28      8\n",
       "29      6\n",
       "       ..\n",
       "256     6\n",
       "257     4\n",
       "258     6\n",
       "259     6\n",
       "260     5\n",
       "261     5\n",
       "262     5\n",
       "263     4\n",
       "264     4\n",
       "265     7\n",
       "266     6\n",
       "267     4\n",
       "268     7\n",
       "269     5\n",
       "270     6\n",
       "271     5\n",
       "272     3\n",
       "273     6\n",
       "274     6\n",
       "275     5\n",
       "276     5\n",
       "277     2\n",
       "278     7\n",
       "279     8\n",
       "280     8\n",
       "281     6\n",
       "282     4\n",
       "283     4\n",
       "284     6\n",
       "285     6\n",
       "Name: 3, Length: 286, dtype: int64"
      ]
     },
     "execution_count": 25,
     "metadata": {},
     "output_type": "execute_result"
    }
   ],
   "source": [
    "#your code here\n",
    "def map_3(x):\n",
    "    if x == '0-4':\n",
    "        return 0\n",
    "    if x == '5-9':\n",
    "        return 1\n",
    "    if x == '10-14':\n",
    "        return 2\n",
    "    if x == '15-19':\n",
    "        return 3\n",
    "    if x == '20-24':\n",
    "        return 4\n",
    "    if x == '25-29':\n",
    "        return 5\n",
    "    if x == '30-34':\n",
    "        return 6\n",
    "    if x == '35-39':\n",
    "        return 7\n",
    "    if x == '40-44':\n",
    "        return 8\n",
    "    if x == '45-49':\n",
    "        return 9\n",
    "    return 10\n",
    "\n",
    "df[3] = df[3].apply(map_3)   \n",
    "df[3]"
   ]
  },
  {
   "cell_type": "code",
   "execution_count": 26,
   "metadata": {},
   "outputs": [
    {
     "data": {
      "text/plain": [
       "0      1\n",
       "1      2\n",
       "2      2\n",
       "3      4\n",
       "4      2\n",
       "5      4\n",
       "6      3\n",
       "7      4\n",
       "8      2\n",
       "9      2\n",
       "10     2\n",
       "11     3\n",
       "12     4\n",
       "13     3\n",
       "14     2\n",
       "15     4\n",
       "16     2\n",
       "17     3\n",
       "18     4\n",
       "19     3\n",
       "20     3\n",
       "21     4\n",
       "22     1\n",
       "23     3\n",
       "24     3\n",
       "25     2\n",
       "26     3\n",
       "27     4\n",
       "28     2\n",
       "29     4\n",
       "      ..\n",
       "256    2\n",
       "257    2\n",
       "258    3\n",
       "259    3\n",
       "260    4\n",
       "261    2\n",
       "262    4\n",
       "263    3\n",
       "264    3\n",
       "265    1\n",
       "266    2\n",
       "267    4\n",
       "268    1\n",
       "269    2\n",
       "270    3\n",
       "271    3\n",
       "272    2\n",
       "273    4\n",
       "274    4\n",
       "275    2\n",
       "276    1\n",
       "277    4\n",
       "278    3\n",
       "279    3\n",
       "280    3\n",
       "281    1\n",
       "282    1\n",
       "283    4\n",
       "284    2\n",
       "285    3\n",
       "Name: 1, Length: 286, dtype: int64"
      ]
     },
     "execution_count": 26,
     "metadata": {},
     "output_type": "execute_result"
    }
   ],
   "source": [
    "#your code here\n",
    "def map_1(x):\n",
    "    if x == '20-29':\n",
    "        return 0\n",
    "    if x == '30-39':\n",
    "        return 1\n",
    "    if x == '40-49':\n",
    "        return 2\n",
    "    if x == '50-59':\n",
    "        return 3\n",
    "    if x == '60-69':\n",
    "        return 4\n",
    "    return 5\n",
    "\n",
    "df[1] = df[1].apply(map_1)   \n",
    "df[1]"
   ]
  },
  {
   "cell_type": "markdown",
   "metadata": {},
   "source": [
    "### Проверка\n",
    "выведите на экран таблицу с измененными колонками и проверьте, что в ней остались только числовые столбцы. Если нет, удалите нечисловые столбцы. "
   ]
  },
  {
   "cell_type": "code",
   "execution_count": 27,
   "metadata": {},
   "outputs": [
    {
     "data": {
      "text/html": [
       "<div>\n",
       "<style scoped>\n",
       "    .dataframe tbody tr th:only-of-type {\n",
       "        vertical-align: middle;\n",
       "    }\n",
       "\n",
       "    .dataframe tbody tr th {\n",
       "        vertical-align: top;\n",
       "    }\n",
       "\n",
       "    .dataframe thead th {\n",
       "        text-align: right;\n",
       "    }\n",
       "</style>\n",
       "<table border=\"1\" class=\"dataframe\">\n",
       "  <thead>\n",
       "    <tr style=\"text-align: right;\">\n",
       "      <th></th>\n",
       "      <th>0</th>\n",
       "      <th>1</th>\n",
       "      <th>3</th>\n",
       "      <th>4</th>\n",
       "      <th>7</th>\n",
       "      <th>9</th>\n",
       "      <th>2_ge40</th>\n",
       "      <th>2_lt40</th>\n",
       "      <th>2_premeno</th>\n",
       "      <th>5_?</th>\n",
       "      <th>...</th>\n",
       "      <th>5_yes</th>\n",
       "      <th>6_1</th>\n",
       "      <th>6_2</th>\n",
       "      <th>6_3</th>\n",
       "      <th>8_?</th>\n",
       "      <th>8_central</th>\n",
       "      <th>8_left_low</th>\n",
       "      <th>8_left_up</th>\n",
       "      <th>8_right_low</th>\n",
       "      <th>8_right_up</th>\n",
       "    </tr>\n",
       "  </thead>\n",
       "  <tbody>\n",
       "    <tr>\n",
       "      <th>0</th>\n",
       "      <td>0</td>\n",
       "      <td>1</td>\n",
       "      <td>6</td>\n",
       "      <td>0</td>\n",
       "      <td>0</td>\n",
       "      <td>0</td>\n",
       "      <td>0</td>\n",
       "      <td>0</td>\n",
       "      <td>1</td>\n",
       "      <td>0</td>\n",
       "      <td>...</td>\n",
       "      <td>0</td>\n",
       "      <td>0</td>\n",
       "      <td>0</td>\n",
       "      <td>1</td>\n",
       "      <td>0</td>\n",
       "      <td>0</td>\n",
       "      <td>1</td>\n",
       "      <td>0</td>\n",
       "      <td>0</td>\n",
       "      <td>0</td>\n",
       "    </tr>\n",
       "    <tr>\n",
       "      <th>1</th>\n",
       "      <td>0</td>\n",
       "      <td>2</td>\n",
       "      <td>4</td>\n",
       "      <td>0</td>\n",
       "      <td>1</td>\n",
       "      <td>0</td>\n",
       "      <td>0</td>\n",
       "      <td>0</td>\n",
       "      <td>1</td>\n",
       "      <td>0</td>\n",
       "      <td>...</td>\n",
       "      <td>0</td>\n",
       "      <td>0</td>\n",
       "      <td>1</td>\n",
       "      <td>0</td>\n",
       "      <td>0</td>\n",
       "      <td>0</td>\n",
       "      <td>0</td>\n",
       "      <td>0</td>\n",
       "      <td>0</td>\n",
       "      <td>1</td>\n",
       "    </tr>\n",
       "    <tr>\n",
       "      <th>2</th>\n",
       "      <td>0</td>\n",
       "      <td>2</td>\n",
       "      <td>4</td>\n",
       "      <td>0</td>\n",
       "      <td>0</td>\n",
       "      <td>0</td>\n",
       "      <td>0</td>\n",
       "      <td>0</td>\n",
       "      <td>1</td>\n",
       "      <td>0</td>\n",
       "      <td>...</td>\n",
       "      <td>0</td>\n",
       "      <td>0</td>\n",
       "      <td>1</td>\n",
       "      <td>0</td>\n",
       "      <td>0</td>\n",
       "      <td>0</td>\n",
       "      <td>1</td>\n",
       "      <td>0</td>\n",
       "      <td>0</td>\n",
       "      <td>0</td>\n",
       "    </tr>\n",
       "    <tr>\n",
       "      <th>3</th>\n",
       "      <td>0</td>\n",
       "      <td>4</td>\n",
       "      <td>3</td>\n",
       "      <td>0</td>\n",
       "      <td>1</td>\n",
       "      <td>0</td>\n",
       "      <td>1</td>\n",
       "      <td>0</td>\n",
       "      <td>0</td>\n",
       "      <td>0</td>\n",
       "      <td>...</td>\n",
       "      <td>0</td>\n",
       "      <td>0</td>\n",
       "      <td>1</td>\n",
       "      <td>0</td>\n",
       "      <td>0</td>\n",
       "      <td>0</td>\n",
       "      <td>0</td>\n",
       "      <td>1</td>\n",
       "      <td>0</td>\n",
       "      <td>0</td>\n",
       "    </tr>\n",
       "    <tr>\n",
       "      <th>4</th>\n",
       "      <td>0</td>\n",
       "      <td>2</td>\n",
       "      <td>0</td>\n",
       "      <td>0</td>\n",
       "      <td>1</td>\n",
       "      <td>0</td>\n",
       "      <td>0</td>\n",
       "      <td>0</td>\n",
       "      <td>1</td>\n",
       "      <td>0</td>\n",
       "      <td>...</td>\n",
       "      <td>0</td>\n",
       "      <td>0</td>\n",
       "      <td>1</td>\n",
       "      <td>0</td>\n",
       "      <td>0</td>\n",
       "      <td>0</td>\n",
       "      <td>0</td>\n",
       "      <td>0</td>\n",
       "      <td>1</td>\n",
       "      <td>0</td>\n",
       "    </tr>\n",
       "  </tbody>\n",
       "</table>\n",
       "<p>5 rows × 21 columns</p>\n",
       "</div>"
      ],
      "text/plain": [
       "   0  1  3  4  7  9  2_ge40  2_lt40  2_premeno  5_?     ...      5_yes  6_1  \\\n",
       "0  0  1  6  0  0  0       0       0          1    0     ...          0    0   \n",
       "1  0  2  4  0  1  0       0       0          1    0     ...          0    0   \n",
       "2  0  2  4  0  0  0       0       0          1    0     ...          0    0   \n",
       "3  0  4  3  0  1  0       1       0          0    0     ...          0    0   \n",
       "4  0  2  0  0  1  0       0       0          1    0     ...          0    0   \n",
       "\n",
       "   6_2  6_3  8_?  8_central  8_left_low  8_left_up  8_right_low  8_right_up  \n",
       "0    0    1    0          0           1          0            0           0  \n",
       "1    1    0    0          0           0          0            0           1  \n",
       "2    1    0    0          0           1          0            0           0  \n",
       "3    1    0    0          0           0          1            0           0  \n",
       "4    1    0    0          0           0          0            1           0  \n",
       "\n",
       "[5 rows x 21 columns]"
      ]
     },
     "execution_count": 27,
     "metadata": {},
     "output_type": "execute_result"
    }
   ],
   "source": [
    "#your code here\n",
    "df.head()"
   ]
  },
  {
   "cell_type": "markdown",
   "metadata": {},
   "source": [
    "### Шаг 6.\n",
    "Колонка 9 содержит целевую переменную. Создайте матрицу X объект-признак, содержащую все столбцы, кроме 9, и целевой вектор y, содержащий столбец 9."
   ]
  },
  {
   "cell_type": "code",
   "execution_count": 28,
   "metadata": {},
   "outputs": [
    {
     "data": {
      "text/plain": [
       "((286, 20), (286,))"
      ]
     },
     "execution_count": 28,
     "metadata": {},
     "output_type": "execute_result"
    }
   ],
   "source": [
    "#your code here\n",
    "X = df.drop(9, axis=1)\n",
    "y = df[9]\n",
    "\n",
    "X.shape, y.shape"
   ]
  },
  {
   "cell_type": "markdown",
   "metadata": {},
   "source": [
    "### Шаг 7.\n",
    "Выведите качество логистической регрессии на кросс-валидации с тремя фолдами, метрика качества - accuracy. Также выведите качество на кросс-валидации SVM с а) линейным (kernel=linear), б) полиномиальным (poly), в) радиальным (rbf) ядрами. Какой алгоритм дает наилучшее качество?"
   ]
  },
  {
   "cell_type": "code",
   "execution_count": 29,
   "metadata": {},
   "outputs": [
    {
     "name": "stdout",
     "output_type": "stream",
     "text": [
      "0.6382239952718677\n",
      "0.6310579196217494\n",
      "0.7268026004728133\n",
      "0.6736849881796689\n"
     ]
    }
   ],
   "source": [
    "#your code here\n",
    "print(cross_val_score(LogisticRegression(), X, y, cv=3, scoring='accuracy').mean())\n",
    "print(cross_val_score(SVC(kernel='linear'), X, y, cv=3, scoring='accuracy').mean())\n",
    "print(cross_val_score(SVC(kernel='rbf'), X, y, cv=3, scoring='accuracy').mean())\n",
    "print(cross_val_score(SVC(kernel='poly'), X, y, cv=3, scoring='accuracy').mean())"
   ]
  },
  {
   "cell_type": "markdown",
   "metadata": {},
   "source": [
    "### Шаг 8.\n",
    "Попробуем удалить выбросы. Предположим, что в данных содержится 10% выбросов. В цикле примените алгоритм поиска выбросов и оставьте только объекты, не являющиеся выбросами. В этом же цикле выведите качество наилучшего алгоритма из предыдущего шага на кросс-валидации (используйте матрицу X_wo_out и вектор y_wo_out без выбросов).\n",
    "\n",
    "Какой алгоритм поиска выбросов работает на этих данных лучше всего?"
   ]
  },
  {
   "cell_type": "code",
   "execution_count": 33,
   "metadata": {},
   "outputs": [
    {
     "name": "stdout",
     "output_type": "stream",
     "text": [
      "Cluster-based Local Outlier Factor   0.7509127789046653\n",
      "Feature Bagging   0.7625170998632012\n",
      "Histogram-base Outlier Detection (HBOS)   0.7858641130870954\n",
      "Isolation Forest   0.7976288189694483\n",
      "K Nearest Neighbors (KNN)   0.7633228840125392\n",
      "Local Outlier Factor (LOF)   0.7625873337840883\n",
      "Minimum Covariance Determinant (MCD)   0.7859364435429343\n",
      "One-class SVM (OCSVM)   0.750843593251254\n",
      "Principal Component Analysis (PCA)   0.7703403200360605\n"
     ]
    }
   ],
   "source": [
    "from pyod.models.pca import PCA\n",
    "\n",
    "outliers_fraction = 0.1\n",
    "random_state = 1\n",
    "\n",
    "classifiers = {'Cluster-based Local Outlier Factor': CBLOF(\n",
    "        contamination=outliers_fraction, check_estimator=False,\n",
    "        random_state=random_state),\n",
    "    'Feature Bagging': FeatureBagging(contamination=outliers_fraction,\n",
    "                                     random_state=random_state),\n",
    "    'Histogram-base Outlier Detection (HBOS)': HBOS(\n",
    "        contamination=outliers_fraction),\n",
    "    'Isolation Forest': IForest(contamination=outliers_fraction,\n",
    "                                random_state=random_state),\n",
    "    'K Nearest Neighbors (KNN)': KNN(contamination=outliers_fraction),\n",
    "    'Local Outlier Factor (LOF)': LOF(\n",
    "        contamination=outliers_fraction),\n",
    "    'Minimum Covariance Determinant (MCD)': MCD(\n",
    "        contamination=outliers_fraction, random_state=random_state),\n",
    "    'One-class SVM (OCSVM)': OCSVM(contamination=outliers_fraction),\n",
    "    'Principal Component Analysis (PCA)': PCA1(\n",
    "        contamination=outliers_fraction, random_state=random_state),\n",
    "}\n",
    "\n",
    "for clf_name, clf in classifiers.items():\n",
    "    clf.fit(X)\n",
    "    y_pred = clf.labels_\n",
    "    \n",
    "    X_wo_out = X[y_pred == 0]\n",
    "    y_wo_out = y[y_pred == 0]\n",
    "    \n",
    "    print(clf_name,' ',cross_val_score(SVC(kernel='rbf'),X_wo_out,y_wo_out,cv=3,\\\n",
    "                         scoring='accuracy').mean())\n",
    "    #your code here"
   ]
  },
  {
   "cell_type": "markdown",
   "metadata": {},
   "source": [
    "### Шаг 9.\n",
    "Теперь снизим размерность. Создайте пайплайн, в котором сначала примените PCA с 5-ю компонентами, а затем алгоритм, который лучше всего сработал в шаге 7. \n",
    "\n",
    "Выведите качество этой модели (пайплайна) на кросс-валидации. Используйте исходные данные (X, y) до удаления выбросов."
   ]
  },
  {
   "cell_type": "code",
   "execution_count": 35,
   "metadata": {},
   "outputs": [
    {
     "data": {
      "text/plain": [
       "0.7515514184397163"
      ]
     },
     "execution_count": 35,
     "metadata": {},
     "output_type": "execute_result"
    }
   ],
   "source": [
    "#your code here\n",
    "from sklearn.decomposition import PCA\n",
    "\n",
    "pipe = Pipeline([('pca', PCA(n_components=5)),\\\n",
    "                 ('model', SVC(kernel='rbf'))])\n",
    "\n",
    "cross_val_score(pipe, X, y, cv=3, scoring='accuracy').mean()"
   ]
  },
  {
   "cell_type": "markdown",
   "metadata": {},
   "source": [
    "### Шаг 10.\n",
    "Мы увидели, что и удаление выбросов, и снижение размерности увеличивает качество модели, поэтому скомбинируем шаги 8 и 9:\n",
    "    сначала удалите выбросы наилучшим алгоритмом из шага 8, а затем примените модель (пайплайн) из шага 9.\n",
    "    \n",
    "Выведите качество на кросс-валидации."
   ]
  },
  {
   "cell_type": "code",
   "execution_count": 36,
   "metadata": {},
   "outputs": [
    {
     "data": {
      "text/plain": [
       "0.7977200182398541"
      ]
     },
     "execution_count": 36,
     "metadata": {},
     "output_type": "execute_result"
    }
   ],
   "source": [
    "#your code here\n",
    "clf = IForest(contamination=outliers_fraction,\n",
    "                                random_state=random_state)\n",
    "clf.fit(X)\n",
    "y_pred = clf.labels_\n",
    "\n",
    "X_wo_out = X[y_pred == 0]\n",
    "y_wo_out = y[y_pred == 0]\n",
    "\n",
    "cross_val_score(pipe, X_wo_out, y_wo_out, cv=3, scoring='accuracy').mean()"
   ]
  },
  {
   "cell_type": "markdown",
   "metadata": {},
   "source": [
    "### Шаг 11.\n",
    "Теперь попробуем кластеризовать наши данные (X) с помощью KMeans. Выделите в данных 2 кластера. Нарисуйте полученные точки на плоскости и раскрасьте их в цвета, соответствующие кластерам."
   ]
  },
  {
   "cell_type": "code",
   "execution_count": 39,
   "metadata": {},
   "outputs": [
    {
     "data": {
      "text/plain": [
       "<matplotlib.collections.PathCollection at 0x24ef68d5240>"
      ]
     },
     "execution_count": 39,
     "metadata": {},
     "output_type": "execute_result"
    },
    {
     "data": {
      "image/png": "[encoded data removed]",
      "text/plain": [
       "<Figure size 432x288 with 1 Axes>"
      ]
     },
     "metadata": {
      "needs_background": "light"
     },
     "output_type": "display_data"
    }
   ],
   "source": [
    "#your code here\n",
    "from sklearn.cluster import KMeans\n",
    "\n",
    "km = KMeans(n_clusters=2)\n",
    "km.fit(X)\n",
    "\n",
    "tsne = TSNE(n_components=2)\n",
    "Xtsne = tsne.fit_transform(X)\n",
    "\n",
    "plt.scatter(Xtsne[:,0], Xtsne[:,1], c=km.labels_)"
   ]
  },
  {
   "cell_type": "markdown",
   "metadata": {},
   "source": [
    "### Шаг 12.\n",
    "Разберемся, что означают кластеры:\n",
    "\n",
    "1) Нарисуйте на плоскости точки, где первая координата - признак 1, вторая - признак 3 (что это за признаки по смыслу?) и раскрасьте точки в цвета, соответствующие кластерам.\n",
    "    \n",
    "2) Теперь нарисуйте точки в координатах, соответствующих 1му и 7му признаку.\n",
    "    \n",
    "Сделайте вывод о том, какие по смыслу объекты попали в первый кластер и во второй."
   ]
  },
  {
   "cell_type": "code",
   "execution_count": 40,
   "metadata": {},
   "outputs": [
    {
     "data": {
      "image/png": "[encoded data removed]",
      "text/plain": [
       "<Figure size 432x288 with 1 Axes>"
      ]
     },
     "metadata": {
      "needs_background": "light"
     },
     "output_type": "display_data"
    }
   ],
   "source": [
    "#your code here\n",
    "plt.scatter(X[1], X[3], c=km.labels_)\n",
    "plt.xlabel('1 - age')\n",
    "plt.ylabel('3 - tumor-size')\n",
    "plt.show()"
   ]
  },
  {
   "cell_type": "code",
   "execution_count": 41,
   "metadata": {},
   "outputs": [
    {
     "data": {
      "image/png": "[encoded data removed]",
      "text/plain": [
       "<Figure size 432x288 with 1 Axes>"
      ]
     },
     "metadata": {
      "needs_background": "light"
     },
     "output_type": "display_data"
    }
   ],
   "source": [
    "#your code here\n",
    "plt.scatter(X[1], X[7], c=km.labels_)\n",
    "plt.xlabel('1 - age')\n",
    "plt.ylabel('7 - left/right side')\n",
    "plt.show()"
   ]
  },
  {
   "cell_type": "code",
   "execution_count": null,
   "metadata": {},
   "outputs": [],
   "source": []
  }
 ],
 "metadata": {
  "kernelspec": {
   "display_name": "Python 3",
   "language": "python",
   "name": "python3"
  },
  "language_info": {
   "codemirror_mode": {
    "name": "ipython",
    "version": 3
   },
   "file_extension": ".py",
   "mimetype": "text/x-python",
   "name": "python",
   "nbconvert_exporter": "python",
   "pygments_lexer": "ipython3",
   "version": "3.6.6"
  }
 },
 "nbformat": 4,
 "nbformat_minor": 2
}
